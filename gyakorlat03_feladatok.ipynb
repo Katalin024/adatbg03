{
    "metadata": {
        "kernelspec": {
            "name": "SQL",
            "display_name": "SQL",
            "language": "sql"
        },
        "language_info": {
            "name": "sql",
            "version": ""
        },
        "extensions": {
            "azuredatastudio": {
                "version": 1,
                "views": []
            }
        }
    },
    "nbformat_minor": 2,
    "nbformat": 4,
    "cells": [
        {
            "cell_type": "markdown",
            "source": [
                "**Az első 5 feladat ismétlés (többtáblás lekérdezések) a tanulmányi adatbázisból**\n",
                "\n",
                "1. Készítsünk listát arról, hogy melyik óra melyik teremben van!\n",
                "    \n",
                "    1. Jelenítsük meg az óra azonosítóját és a terem nevét!\n",
                "    2. A listát szűrjük a 3 karakter hosszú, \\[100;199\\] zárt intervallumba eső termekre! Feltesszük, hogy a 3 karakter hosszú terem nevek csak számjegyeket tartalmaznak."
            ],
            "metadata": {
                "azdata_cell_guid": "77f2d5b3-38e9-41cc-893f-f5afd02b97ef"
            },
            "attachments": {}
        },
        {
            "cell_type": "code",
            "source": [
                "select ora_id,\r\n",
                "        t.Terem\r\n",
                "from Orak o join Termek t on o.terem=t.Tkód\r\n",
                "where len(t.Terem) = 3 AND t.Terem BETWEEN '100' and '199'\r\n",
                "--CAST(ora_id AS INT) Between 100 and 199"
            ],
            "metadata": {
                "azdata_cell_guid": "bd3cef1a-4e6e-4ece-9dc3-aaa9d2b5d66d",
                "language": "sql"
            },
            "outputs": [
                {
                    "output_type": "display_data",
                    "data": {
                        "text/html": "(30 rows affected)"
                    },
                    "metadata": {}
                },
                {
                    "output_type": "display_data",
                    "data": {
                        "text/html": "Total execution time: 00:00:00.029"
                    },
                    "metadata": {}
                },
                {
                    "output_type": "execute_result",
                    "metadata": {},
                    "execution_count": 5,
                    "data": {
                        "application/vnd.dataresource+json": {
                            "schema": {
                                "fields": [
                                    {
                                        "name": "ora_id"
                                    },
                                    {
                                        "name": "Terem"
                                    }
                                ]
                            },
                            "data": [
                                {
                                    "ora_id": "159",
                                    "Terem": "117"
                                },
                                {
                                    "ora_id": "160",
                                    "Terem": "118"
                                },
                                {
                                    "ora_id": "161",
                                    "Terem": "118"
                                },
                                {
                                    "ora_id": "162",
                                    "Terem": "119"
                                },
                                {
                                    "ora_id": "163",
                                    "Terem": "120"
                                },
                                {
                                    "ora_id": "164",
                                    "Terem": "119"
                                },
                                {
                                    "ora_id": "165",
                                    "Terem": "119"
                                },
                                {
                                    "ora_id": "166",
                                    "Terem": "119"
                                },
                                {
                                    "ora_id": "167",
                                    "Terem": "120"
                                },
                                {
                                    "ora_id": "170",
                                    "Terem": "120"
                                },
                                {
                                    "ora_id": "172",
                                    "Terem": "119"
                                },
                                {
                                    "ora_id": "173",
                                    "Terem": "119"
                                },
                                {
                                    "ora_id": "175",
                                    "Terem": "120"
                                },
                                {
                                    "ora_id": "176",
                                    "Terem": "118"
                                },
                                {
                                    "ora_id": "177",
                                    "Terem": "119"
                                },
                                {
                                    "ora_id": "179",
                                    "Terem": "120"
                                },
                                {
                                    "ora_id": "180",
                                    "Terem": "119"
                                },
                                {
                                    "ora_id": "181",
                                    "Terem": "118"
                                },
                                {
                                    "ora_id": "185",
                                    "Terem": "120"
                                },
                                {
                                    "ora_id": "192",
                                    "Terem": "119"
                                },
                                {
                                    "ora_id": "195",
                                    "Terem": "116"
                                },
                                {
                                    "ora_id": "197",
                                    "Terem": "116"
                                },
                                {
                                    "ora_id": "198",
                                    "Terem": "119"
                                },
                                {
                                    "ora_id": "204",
                                    "Terem": "120"
                                },
                                {
                                    "ora_id": "212",
                                    "Terem": "120"
                                },
                                {
                                    "ora_id": "218",
                                    "Terem": "118"
                                },
                                {
                                    "ora_id": "220",
                                    "Terem": "119"
                                },
                                {
                                    "ora_id": "222",
                                    "Terem": "116"
                                },
                                {
                                    "ora_id": "226",
                                    "Terem": "117"
                                },
                                {
                                    "ora_id": "227",
                                    "Terem": "116"
                                }
                            ]
                        },
                        "text/html": [
                            "<table>",
                            "<tr><th>ora_id</th><th>Terem</th></tr>",
                            "<tr><td>159</td><td>117</td></tr>",
                            "<tr><td>160</td><td>118</td></tr>",
                            "<tr><td>161</td><td>118</td></tr>",
                            "<tr><td>162</td><td>119</td></tr>",
                            "<tr><td>163</td><td>120</td></tr>",
                            "<tr><td>164</td><td>119</td></tr>",
                            "<tr><td>165</td><td>119</td></tr>",
                            "<tr><td>166</td><td>119</td></tr>",
                            "<tr><td>167</td><td>120</td></tr>",
                            "<tr><td>170</td><td>120</td></tr>",
                            "<tr><td>172</td><td>119</td></tr>",
                            "<tr><td>173</td><td>119</td></tr>",
                            "<tr><td>175</td><td>120</td></tr>",
                            "<tr><td>176</td><td>118</td></tr>",
                            "<tr><td>177</td><td>119</td></tr>",
                            "<tr><td>179</td><td>120</td></tr>",
                            "<tr><td>180</td><td>119</td></tr>",
                            "<tr><td>181</td><td>118</td></tr>",
                            "<tr><td>185</td><td>120</td></tr>",
                            "<tr><td>192</td><td>119</td></tr>",
                            "<tr><td>195</td><td>116</td></tr>",
                            "<tr><td>197</td><td>116</td></tr>",
                            "<tr><td>198</td><td>119</td></tr>",
                            "<tr><td>204</td><td>120</td></tr>",
                            "<tr><td>212</td><td>120</td></tr>",
                            "<tr><td>218</td><td>118</td></tr>",
                            "<tr><td>220</td><td>119</td></tr>",
                            "<tr><td>222</td><td>116</td></tr>",
                            "<tr><td>226</td><td>117</td></tr>",
                            "<tr><td>227</td><td>116</td></tr>",
                            "</table>"
                        ]
                    }
                }
            ],
            "execution_count": 5
        },
        {
            "cell_type": "markdown",
            "source": [
                "2. <span style=\"font-weight: 600; color: rgb(36, 41, 47); font-family: -apple-system, BlinkMacSystemFont, &quot;Segoe UI&quot;, Helvetica, Arial, sans-serif, &quot;Apple Color Emoji&quot;, &quot;Segoe UI Emoji&quot;; font-size: 16px;\">Hány óra van összesen az egyes napokon?</span>\n",
                "\n",
                "1. Jelenítsük meg a napok nevét és az órák számát az adott napon!\n",
                "2. Az oszlopokat nevezzük el értelemszerűen!\n",
                "3. A listát rendezzük óraszám szerint növekvő sorrendbe!"
            ],
            "metadata": {
                "azdata_cell_guid": "88f5b4bb-f4c1-4bad-a0c7-b2592687b422"
            },
            "attachments": {}
        },
        {
            "cell_type": "code",
            "source": [
                "select n.nap as 'Napok',\r\n",
                "        count(ora_id) as 'Órák száma'\r\n",
                "from Orak o join Napok n on o.nap = n.nap_id\r\n",
                "group by n.nap\r\n",
                "order by count(ora_id) ASC"
            ],
            "metadata": {
                "azdata_cell_guid": "e9de5726-f036-4fb9-8c33-a873955ed886",
                "language": "sql",
                "tags": []
            },
            "outputs": [
                {
                    "output_type": "display_data",
                    "data": {
                        "text/html": "(5 rows affected)"
                    },
                    "metadata": {}
                },
                {
                    "output_type": "display_data",
                    "data": {
                        "text/html": "Total execution time: 00:00:00.011"
                    },
                    "metadata": {}
                },
                {
                    "output_type": "execute_result",
                    "execution_count": 17,
                    "data": {
                        "application/vnd.dataresource+json": {
                            "schema": {
                                "fields": [
                                    {
                                        "name": "Napok"
                                    },
                                    {
                                        "name": "Órák száma"
                                    }
                                ]
                            },
                            "data": [
                                {
                                    "Napok": "Péntek",
                                    "Órák száma": "6"
                                },
                                {
                                    "Napok": "Szerda",
                                    "Órák száma": "6"
                                },
                                {
                                    "Napok": "Kedd",
                                    "Órák száma": "13"
                                },
                                {
                                    "Napok": "Csütörtök",
                                    "Órák száma": "19"
                                },
                                {
                                    "Napok": "Hétfő",
                                    "Órák száma": "23"
                                }
                            ]
                        },
                        "text/html": "<table><tr><th>Napok</th><th>Órák száma</th></tr><tr><td>Péntek</td><td>6</td></tr><tr><td>Szerda</td><td>6</td></tr><tr><td>Kedd</td><td>13</td></tr><tr><td>Csütörtök</td><td>19</td></tr><tr><td>Hétfő</td><td>23</td></tr></table>"
                    },
                    "metadata": {}
                }
            ],
            "execution_count": 17
        },
        {
            "cell_type": "markdown",
            "source": [
                "3. <span style=\"font-weight: 600; color: rgb(36, 41, 47); font-family: -apple-system, BlinkMacSystemFont, &quot;Segoe UI&quot;, Helvetica, Arial, sans-serif, &quot;Apple Color Emoji&quot;, &quot;Segoe UI Emoji&quot;; font-size: 16px;\">Készítsünk listát arról, hogy melyik oktatónak hány órája van az Órák táblában!</span>\n",
                "\n",
                "1. A lista jelenítse meg az oktatók nevét, és az órák számát!\n",
                "2. Az oszlopokat nevezzük el értelemszerűen!\n",
                "3. A listából hagyjuk ki az óraadókat!"
            ],
            "metadata": {
                "azdata_cell_guid": "9e7249de-1b59-43d8-84b1-26fa7d81fc5a"
            },
            "attachments": {}
        },
        {
            "cell_type": "code",
            "source": [
                "select nev AS 'Oktató neve',\r\n",
                "        count(sav) AS 'Órák száma'\r\n",
                "from Oktatok okt join Orak o ON okt.oktato_id=o.tanar\r\n",
                "        join Beosztasok b on okt.beosztás = b.beosztas_id\r\n",
                "where b.beosztasnev <> 'Óraadó'\r\n",
                "group by nev "
            ],
            "metadata": {
                "azdata_cell_guid": "6405d3e8-a9b1-45d7-aa76-3b1e785ef6cc",
                "language": "sql"
            },
            "outputs": [
                {
                    "output_type": "display_data",
                    "data": {
                        "text/html": "(15 rows affected)"
                    },
                    "metadata": {}
                },
                {
                    "output_type": "display_data",
                    "data": {
                        "text/html": "Total execution time: 00:00:00.021"
                    },
                    "metadata": {}
                },
                {
                    "output_type": "execute_result",
                    "metadata": {},
                    "execution_count": 10,
                    "data": {
                        "application/vnd.dataresource+json": {
                            "schema": {
                                "fields": [
                                    {
                                        "name": "Oktató neve"
                                    },
                                    {
                                        "name": "Órák száma"
                                    }
                                ]
                            },
                            "data": [
                                {
                                    "Oktató neve": "Balkán András",
                                    "Órák száma": "3"
                                },
                                {
                                    "Oktató neve": "Farkasos Piroska",
                                    "Órák száma": "7"
                                },
                                {
                                    "Oktató neve": "Jogrerős Pál",
                                    "Órák száma": "2"
                                },
                                {
                                    "Oktató neve": "Juhász András",
                                    "Órák száma": "2"
                                },
                                {
                                    "Oktató neve": "Kiss János",
                                    "Órák száma": "4"
                                },
                                {
                                    "Oktató neve": "Kovács László",
                                    "Órák száma": "4"
                                },
                                {
                                    "Oktató neve": "Pelikán József",
                                    "Órák száma": "6"
                                },
                                {
                                    "Oktató neve": "Róbert Gida",
                                    "Órák száma": "1"
                                },
                                {
                                    "Oktató neve": "Szénási ászló",
                                    "Órák száma": "2"
                                },
                                {
                                    "Oktató neve": "Szentágotai Istvás",
                                    "Órák száma": "8"
                                },
                                {
                                    "Oktató neve": "Szép llonka",
                                    "Órák száma": "4"
                                },
                                {
                                    "Oktató neve": "Szerb László",
                                    "Órák száma": "3"
                                },
                                {
                                    "Oktató neve": "Ujfalussi István",
                                    "Órák száma": "3"
                                },
                                {
                                    "Oktató neve": "Varga Kata",
                                    "Órák száma": "4"
                                },
                                {
                                    "Oktató neve": "Vitéz János",
                                    "Órák száma": "4"
                                }
                            ]
                        },
                        "text/html": [
                            "<table>",
                            "<tr><th>Oktató neve</th><th>Órák száma</th></tr>",
                            "<tr><td>Balkán András</td><td>3</td></tr>",
                            "<tr><td>Farkasos Piroska</td><td>7</td></tr>",
                            "<tr><td>Jogrerős Pál</td><td>2</td></tr>",
                            "<tr><td>Juhász András</td><td>2</td></tr>",
                            "<tr><td>Kiss János</td><td>4</td></tr>",
                            "<tr><td>Kovács László</td><td>4</td></tr>",
                            "<tr><td>Pelikán József</td><td>6</td></tr>",
                            "<tr><td>Róbert Gida</td><td>1</td></tr>",
                            "<tr><td>Szénási ászló</td><td>2</td></tr>",
                            "<tr><td>Szentágotai Istvás</td><td>8</td></tr>",
                            "<tr><td>Szép llonka</td><td>4</td></tr>",
                            "<tr><td>Szerb László</td><td>3</td></tr>",
                            "<tr><td>Ujfalussi István</td><td>3</td></tr>",
                            "<tr><td>Varga Kata</td><td>4</td></tr>",
                            "<tr><td>Vitéz János</td><td>4</td></tr>",
                            "</table>"
                        ]
                    }
                }
            ],
            "execution_count": 10
        },
        {
            "cell_type": "markdown",
            "source": [
                "4. <span style=\"color: rgb(36, 41, 47); font-family: -apple-system, BlinkMacSystemFont, &quot;Segoe UI&quot;, Helvetica, Arial, sans-serif, &quot;Apple Color Emoji&quot;, &quot;Segoe UI Emoji&quot;; font-size: 16px;\">Van-e olyan tantárgy, amelyből nincs óra?</span>\n",
                "\n",
                "1. Jelentsük meg a tantárgy nevét és a tantárgyfelelős nevét!"
            ],
            "metadata": {
                "azdata_cell_guid": "6478e469-c094-472c-a772-ccd5b5c61516"
            },
            "attachments": {}
        },
        {
            "cell_type": "code",
            "source": [
                "select t.Tantárgynév,\r\n",
                "  --      t.Tkód,\r\n",
                "    --    o.targy,\r\n",
                "        okt.nev as 'Tágyfelelős neve'\r\n",
                "from Tantárgyak t left join Orak o on o.targy=t.Tkód    --right join lenne ha az orak táblát írtunk volna előre a sorban\r\n",
                "            join Oktatok okt on okt.oktato_id=t.Tantárgyfelelős\r\n",
                "where o.targy is NULL\r\n",
                ""
            ],
            "metadata": {
                "azdata_cell_guid": "02031ea2-3838-458d-839c-228e3b362b61",
                "language": "sql",
                "tags": []
            },
            "outputs": [
                {
                    "output_type": "display_data",
                    "data": {
                        "text/html": "(1 row affected)"
                    },
                    "metadata": {}
                },
                {
                    "output_type": "display_data",
                    "data": {
                        "text/html": "Total execution time: 00:00:00.011"
                    },
                    "metadata": {}
                },
                {
                    "output_type": "execute_result",
                    "execution_count": 32,
                    "data": {
                        "application/vnd.dataresource+json": {
                            "schema": {
                                "fields": [
                                    {
                                        "name": "Tantárgynév"
                                    },
                                    {
                                        "name": "Tágyfelelős neve"
                                    }
                                ]
                            },
                            "data": [
                                {
                                    "Tantárgynév": "Folyami gáttan",
                                    "Tágyfelelős neve": "Varga Kata"
                                }
                            ]
                        },
                        "text/html": "<table><tr><th>Tantárgynév</th><th>Tágyfelelős neve</th></tr><tr><td>Folyami gáttan</td><td>Varga Kata</td></tr></table>"
                    },
                    "metadata": {}
                }
            ],
            "execution_count": 32
        },
        {
            "cell_type": "code",
            "source": [
                ""
            ],
            "metadata": {
                "azdata_cell_guid": "d321a0be-cd34-407b-b474-7f89685606dd",
                "language": "sql"
            },
            "outputs": [
                {
                    "output_type": "display_data",
                    "data": {
                        "text/html": "Commands completed successfully."
                    },
                    "metadata": {}
                },
                {
                    "output_type": "display_data",
                    "data": {
                        "text/html": "Total execution time: 00:00:00"
                    },
                    "metadata": {}
                }
            ],
            "execution_count": 33
        },
        {
            "cell_type": "markdown",
            "source": [
                "5. <span style=\"background-color: rgb(255, 255, 255); color: rgb(36, 41, 47); font-family: -apple-system, BlinkMacSystemFont, &quot;Segoe UI&quot;, Helvetica, Arial, sans-serif, &quot;Apple Color Emoji&quot;, &quot;Segoe UI Emoji&quot;; font-size: 16px;\">Hány óra van összesen a 120-as teremben?</span>"
            ],
            "metadata": {
                "azdata_cell_guid": "9edbbaf9-c276-4898-9a01-e1b2993c089f"
            },
            "attachments": {}
        },
        {
            "cell_type": "code",
            "source": [
                "select count(*) AS 'órák száma'\r\n",
                "from orak o JOIN Termek t ON o.terem=t.Tkód\r\n",
                "where t.Terem='120'"
            ],
            "metadata": {
                "azdata_cell_guid": "5ad5fdcb-2878-4111-861a-833bcd50e935",
                "language": "sql",
                "tags": []
            },
            "outputs": [
                {
                    "output_type": "display_data",
                    "data": {
                        "text/html": "(1 row affected)"
                    },
                    "metadata": {}
                },
                {
                    "output_type": "display_data",
                    "data": {
                        "text/html": "Total execution time: 00:00:00.017"
                    },
                    "metadata": {}
                },
                {
                    "output_type": "execute_result",
                    "metadata": {},
                    "execution_count": 28,
                    "data": {
                        "application/vnd.dataresource+json": {
                            "schema": {
                                "fields": [
                                    {
                                        "name": "órák száma"
                                    }
                                ]
                            },
                            "data": [
                                {
                                    "órák száma": "8"
                                }
                            ]
                        },
                        "text/html": [
                            "<table>",
                            "<tr><th>órák száma</th></tr>",
                            "<tr><td>8</td></tr>",
                            "</table>"
                        ]
                    }
                }
            ],
            "execution_count": 28
        },
        {
            "cell_type": "markdown",
            "source": [
                "**A 6-10 feladatokat halmazműveletek segítségével oldjuk meg, szintén a tanulmányi adatbázison**\n",
                "\n",
                "6. <span style=\"background-color:rgb(255, 255, 255);color:rgb(36, 41, 47);font-family:-apple-system, BlinkMacSystemFont, &quot;Segoe UI&quot;, Helvetica, Arial, sans-serif, &quot;Apple Color Emoji&quot;, &quot;Segoe UI Emoji&quot;;font-size:16px;font-weight:600;\">Jelenítsük meg azon tanárok azonosítóját és nevét, akik hétfői vagy keddi napokon tanítanak!</span>"
            ],
            "metadata": {
                "azdata_cell_guid": "5fe65c1c-2479-45ac-ad03-ec99d12eae21"
            },
            "attachments": {}
        },
        {
            "cell_type": "code",
            "source": [
                "select okt.oktato_id,\r\n",
                "        okt.nev\r\n",
                "from Orak o join Oktatok okt on o.tanar=okt.oktato_id\r\n",
                "            join Napok n on n.nap_id=o.nap\r\n",
                "where n.nap= N'Hétfő'  --az ő betű miatt lehet nem működik, N-et írunk elé, akkor unicode lesz, akor már felismeri a smiley-t meg különleges betűket\r\n",
                "\r\n",
                "UNION\r\n",
                "\r\n",
                "select okt.oktato_id,\r\n",
                "        okt.nev\r\n",
                "from Orak o join Oktatok okt on o.tanar=okt.oktato_id\r\n",
                "            join Napok n on n.nap_id=o.nap\r\n",
                "where n.nap='Kedd'"
            ],
            "metadata": {
                "azdata_cell_guid": "924f2dde-f1c2-4def-a7f9-dbf4bace7735",
                "language": "sql",
                "tags": []
            },
            "outputs": [
                {
                    "output_type": "display_data",
                    "data": {
                        "text/html": "(17 rows affected)"
                    },
                    "metadata": {}
                },
                {
                    "output_type": "display_data",
                    "data": {
                        "text/html": "Total execution time: 00:00:00.014"
                    },
                    "metadata": {}
                },
                {
                    "output_type": "execute_result",
                    "execution_count": 36,
                    "data": {
                        "application/vnd.dataresource+json": {
                            "schema": {
                                "fields": [
                                    {
                                        "name": "oktato_id"
                                    },
                                    {
                                        "name": "nev"
                                    }
                                ]
                            },
                            "data": [
                                {
                                    "oktato_id": "1",
                                    "nev": "Kovács László"
                                },
                                {
                                    "oktato_id": "2",
                                    "nev": "Szentágotai Istvás"
                                },
                                {
                                    "oktato_id": "3",
                                    "nev": "Szerb László"
                                },
                                {
                                    "oktato_id": "4",
                                    "nev": "Ujfalussi István"
                                },
                                {
                                    "oktato_id": "5",
                                    "nev": "Balkán András"
                                },
                                {
                                    "oktato_id": "6",
                                    "nev": "Szép llonka"
                                },
                                {
                                    "oktato_id": "7",
                                    "nev": "Kiss János"
                                },
                                {
                                    "oktato_id": "8",
                                    "nev": "Pelikán József"
                                },
                                {
                                    "oktato_id": "9",
                                    "nev": "Farkasos Piroska"
                                },
                                {
                                    "oktato_id": "10",
                                    "nev": "Jogrerős Pál"
                                },
                                {
                                    "oktato_id": "12",
                                    "nev": "Varga Kata"
                                },
                                {
                                    "oktato_id": "14",
                                    "nev": "Szénási ászló"
                                },
                                {
                                    "oktato_id": "18",
                                    "nev": "Nógrádi Kata"
                                },
                                {
                                    "oktato_id": "20",
                                    "nev": "Kovács András"
                                },
                                {
                                    "oktato_id": "104",
                                    "nev": "Ludas Mátyás"
                                },
                                {
                                    "oktato_id": "108",
                                    "nev": "Róbert Gida"
                                },
                                {
                                    "oktato_id": "200",
                                    "nev": "Aranyi Mária"
                                }
                            ]
                        },
                        "text/html": "<table><tr><th>oktato_id</th><th>nev</th></tr><tr><td>1</td><td>Kovács László</td></tr><tr><td>2</td><td>Szentágotai Istvás</td></tr><tr><td>3</td><td>Szerb László</td></tr><tr><td>4</td><td>Ujfalussi István</td></tr><tr><td>5</td><td>Balkán András</td></tr><tr><td>6</td><td>Szép llonka</td></tr><tr><td>7</td><td>Kiss János</td></tr><tr><td>8</td><td>Pelikán József</td></tr><tr><td>9</td><td>Farkasos Piroska</td></tr><tr><td>10</td><td>Jogrerős Pál</td></tr><tr><td>12</td><td>Varga Kata</td></tr><tr><td>14</td><td>Szénási ászló</td></tr><tr><td>18</td><td>Nógrádi Kata</td></tr><tr><td>20</td><td>Kovács András</td></tr><tr><td>104</td><td>Ludas Mátyás</td></tr><tr><td>108</td><td>Róbert Gida</td></tr><tr><td>200</td><td>Aranyi Mária</td></tr></table>"
                    },
                    "metadata": {}
                }
            ],
            "execution_count": 36
        },
        {
            "cell_type": "markdown",
            "source": [
                "7. <span style=\"background-color: rgb(255, 255, 255); color: rgb(36, 41, 47); font-family: -apple-system, BlinkMacSystemFont, &quot;Segoe UI&quot;, Helvetica, Arial, sans-serif, &quot;Apple Color Emoji&quot;, &quot;Segoe UI Emoji&quot;; font-size: 16px; font-weight: 600;\">Melyek azok a tantárgyak, amelyek esetén van óra a 8.00-kor kezdődő sávban, de nincs a 12.30-kor kezdődő sávban?</span>"
            ],
            "metadata": {
                "azdata_cell_guid": "3aeb6bf5-b111-40d5-92b2-9712ce335696"
            },
            "attachments": {}
        },
        {
            "cell_type": "code",
            "source": [
                "select Tantárgynév\r\n",
                "from Savok s join Orak o ON s.Sav_id = o.Sav\r\n",
                "        join Tantárgyak t ON o.targy=t.Tkód\r\n",
                "where s.Sav ='1' \r\n",
                "\r\n",
                "EXCEPT\r\n",
                "\r\n",
                " select Tantárgynév\r\n",
                "from Savok s join Orak o ON s.Sav_id = o.Sav\r\n",
                "        join Tantárgyak t ON o.targy=t.Tkód\r\n",
                "where s.Sav ='4'"
            ],
            "metadata": {
                "azdata_cell_guid": "3e89b651-f56f-4102-af52-30eb2bbe360d",
                "language": "sql",
                "tags": []
            },
            "outputs": [
                {
                    "output_type": "display_data",
                    "data": {
                        "text/html": "(3 rows affected)"
                    },
                    "metadata": {}
                },
                {
                    "output_type": "display_data",
                    "data": {
                        "text/html": "Total execution time: 00:00:00.035"
                    },
                    "metadata": {}
                },
                {
                    "output_type": "execute_result",
                    "metadata": {},
                    "execution_count": 39,
                    "data": {
                        "application/vnd.dataresource+json": {
                            "schema": {
                                "fields": [
                                    {
                                        "name": "Tantárgynév"
                                    }
                                ]
                            },
                            "data": [
                                {
                                    "Tantárgynév": "Az ürgeöntés hydrológiai alapjai II."
                                },
                                {
                                    "Tantárgynév": "Fejezetek az ürgék jogaiból"
                                },
                                {
                                    "Tantárgynév": "Ürgevitel"
                                }
                            ]
                        },
                        "text/html": [
                            "<table>",
                            "<tr><th>Tantárgynév</th></tr>",
                            "<tr><td>Az ürgeöntés hydrológiai alapjai II.</td></tr>",
                            "<tr><td>Fejezetek az ürgék jogaiból</td></tr>",
                            "<tr><td>Ürgevitel</td></tr>",
                            "</table>"
                        ]
                    }
                }
            ],
            "execution_count": 39
        },
        {
            "cell_type": "code",
            "source": [
                ""
            ],
            "metadata": {
                "azdata_cell_guid": "5f65e2f7-aace-49d1-9e30-a552d85ee59c",
                "language": "sql"
            },
            "outputs": [
                {
                    "output_type": "display_data",
                    "data": {
                        "text/html": "(12 rows affected)"
                    },
                    "metadata": {}
                },
                {
                    "output_type": "display_data",
                    "data": {
                        "text/html": "Total execution time: 00:00:00.036"
                    },
                    "metadata": {}
                },
                {
                    "output_type": "execute_result",
                    "metadata": {},
                    "execution_count": 35,
                    "data": {
                        "application/vnd.dataresource+json": {
                            "schema": {
                                "fields": [
                                    {
                                        "name": "Sav_id"
                                    },
                                    {
                                        "name": "Sav"
                                    },
                                    {
                                        "name": "Időpont"
                                    },
                                    {
                                        "name": "ora_id"
                                    },
                                    {
                                        "name": "tanar"
                                    },
                                    {
                                        "name": "nap"
                                    },
                                    {
                                        "name": "Sav"
                                    },
                                    {
                                        "name": "targy"
                                    },
                                    {
                                        "name": "terem"
                                    },
                                    {
                                        "name": "Tkód"
                                    },
                                    {
                                        "name": "Tantárgynév"
                                    },
                                    {
                                        "name": "Tantárgyfelelős"
                                    },
                                    {
                                        "name": "Tantargykod"
                                    },
                                    {
                                        "name": "Kredit"
                                    }
                                ]
                            },
                            "data": [
                                {
                                    "Sav_id": "4",
                                    "Sav": "4",
                                    "Időpont": "12.30",
                                    "ora_id": "162",
                                    "tanar": "20",
                                    "nap": "1",
                                    "targy": "1",
                                    "terem": "3",
                                    "Tkód": "1",
                                    "Tantárgynév": "Az ürgeöntés alapjai",
                                    "Tantárgyfelelős": "5",
                                    "Tantargykod": "NULL",
                                    "Kredit": "2"
                                },
                                {
                                    "Sav_id": "4",
                                    "Sav": "4",
                                    "Időpont": "12.30",
                                    "ora_id": "166",
                                    "tanar": "3",
                                    "nap": "2",
                                    "targy": "1",
                                    "terem": "3",
                                    "Tkód": "1",
                                    "Tantárgynév": "Az ürgeöntés alapjai",
                                    "Tantárgyfelelős": "5",
                                    "Tantargykod": "NULL",
                                    "Kredit": "2"
                                },
                                {
                                    "Sav_id": "4",
                                    "Sav": "4",
                                    "Időpont": "12.30",
                                    "ora_id": "167",
                                    "tanar": "2",
                                    "nap": "1",
                                    "targy": "1",
                                    "terem": "4",
                                    "Tkód": "1",
                                    "Tantárgynév": "Az ürgeöntés alapjai",
                                    "Tantárgyfelelős": "5",
                                    "Tantargykod": "NULL",
                                    "Kredit": "2"
                                },
                                {
                                    "Sav_id": "4",
                                    "Sav": "4",
                                    "Időpont": "12.30",
                                    "ora_id": "175",
                                    "tanar": "14",
                                    "nap": "4",
                                    "targy": "1",
                                    "terem": "4",
                                    "Tkód": "1",
                                    "Tantárgynév": "Az ürgeöntés alapjai",
                                    "Tantárgyfelelős": "5",
                                    "Tantargykod": "NULL",
                                    "Kredit": "2"
                                },
                                {
                                    "Sav_id": "4",
                                    "Sav": "4",
                                    "Időpont": "12.30",
                                    "ora_id": "176",
                                    "tanar": "20",
                                    "nap": "4",
                                    "targy": "1",
                                    "terem": "2",
                                    "Tkód": "1",
                                    "Tantárgynév": "Az ürgeöntés alapjai",
                                    "Tantárgyfelelős": "5",
                                    "Tantargykod": "NULL",
                                    "Kredit": "2"
                                },
                                {
                                    "Sav_id": "4",
                                    "Sav": "4",
                                    "Időpont": "12.30",
                                    "ora_id": "186",
                                    "tanar": "18",
                                    "nap": "2",
                                    "targy": "16",
                                    "terem": "7",
                                    "Tkód": "16",
                                    "Tantárgynév": "ü-business",
                                    "Tantárgyfelelős": "1",
                                    "Tantargykod": "NULL",
                                    "Kredit": "2"
                                },
                                {
                                    "Sav_id": "4",
                                    "Sav": "4",
                                    "Időpont": "12.30",
                                    "ora_id": "201",
                                    "tanar": "301",
                                    "nap": "4",
                                    "targy": "17",
                                    "terem": "14",
                                    "Tkód": "17",
                                    "Tantárgynév": "Öntési gyakorlat",
                                    "Tantárgyfelelős": "8",
                                    "Tantargykod": "NULL",
                                    "Kredit": "1"
                                },
                                {
                                    "Sav_id": "4",
                                    "Sav": "4",
                                    "Időpont": "12.30",
                                    "ora_id": "203",
                                    "tanar": "200",
                                    "nap": "1",
                                    "targy": "4",
                                    "terem": "10",
                                    "Tkód": "4",
                                    "Tantárgynév": "Az ürgeöntés hydrológiai alapjai I.",
                                    "Tantárgyfelelős": "4",
                                    "Tantargykod": "NULL",
                                    "Kredit": "2"
                                },
                                {
                                    "Sav_id": "4",
                                    "Sav": "4",
                                    "Időpont": "12.30",
                                    "ora_id": "205",
                                    "tanar": "4",
                                    "nap": "1",
                                    "targy": "18",
                                    "terem": "8",
                                    "Tkód": "18",
                                    "Tantárgynév": "Az öntés elmélete",
                                    "Tantárgyfelelős": "1",
                                    "Tantargykod": "NULL",
                                    "Kredit": "4"
                                },
                                {
                                    "Sav_id": "4",
                                    "Sav": "4",
                                    "Időpont": "12.30",
                                    "ora_id": "207",
                                    "tanar": "12",
                                    "nap": "4",
                                    "targy": "18",
                                    "terem": "7",
                                    "Tkód": "18",
                                    "Tantárgynév": "Az öntés elmélete",
                                    "Tantárgyfelelős": "1",
                                    "Tantargykod": "NULL",
                                    "Kredit": "4"
                                },
                                {
                                    "Sav_id": "4",
                                    "Sav": "4",
                                    "Időpont": "12.30",
                                    "ora_id": "215",
                                    "tanar": "8",
                                    "nap": "1",
                                    "targy": "3",
                                    "terem": "9",
                                    "Tkód": "3",
                                    "Tantárgynév": "Az ürge anatómiája",
                                    "Tantárgyfelelős": "8",
                                    "Tantargykod": "NULL",
                                    "Kredit": "5"
                                },
                                {
                                    "Sav_id": "4",
                                    "Sav": "4",
                                    "Időpont": "12.30",
                                    "ora_id": "217",
                                    "tanar": "6",
                                    "nap": "1",
                                    "targy": "3",
                                    "terem": "5",
                                    "Tkód": "3",
                                    "Tantárgynév": "Az ürge anatómiája",
                                    "Tantárgyfelelős": "8",
                                    "Tantargykod": "NULL",
                                    "Kredit": "5"
                                }
                            ]
                        },
                        "text/html": [
                            "<table>",
                            "<tr><th>Sav_id</th><th>Sav</th><th>Időpont</th><th>ora_id</th><th>tanar</th><th>nap</th><th>Sav</th><th>targy</th><th>terem</th><th>Tkód</th><th>Tantárgynév</th><th>Tantárgyfelelős</th><th>Tantargykod</th><th>Kredit</th></tr>",
                            "<tr><td>4</td><td>4</td><td>12.30</td><td>162</td><td>20</td><td>1</td><td>4</td><td>1</td><td>3</td><td>1</td><td>Az ürgeöntés alapjai</td><td>5</td><td>NULL</td><td>2</td></tr>",
                            "<tr><td>4</td><td>4</td><td>12.30</td><td>166</td><td>3</td><td>2</td><td>4</td><td>1</td><td>3</td><td>1</td><td>Az ürgeöntés alapjai</td><td>5</td><td>NULL</td><td>2</td></tr>",
                            "<tr><td>4</td><td>4</td><td>12.30</td><td>167</td><td>2</td><td>1</td><td>4</td><td>1</td><td>4</td><td>1</td><td>Az ürgeöntés alapjai</td><td>5</td><td>NULL</td><td>2</td></tr>",
                            "<tr><td>4</td><td>4</td><td>12.30</td><td>175</td><td>14</td><td>4</td><td>4</td><td>1</td><td>4</td><td>1</td><td>Az ürgeöntés alapjai</td><td>5</td><td>NULL</td><td>2</td></tr>",
                            "<tr><td>4</td><td>4</td><td>12.30</td><td>176</td><td>20</td><td>4</td><td>4</td><td>1</td><td>2</td><td>1</td><td>Az ürgeöntés alapjai</td><td>5</td><td>NULL</td><td>2</td></tr>",
                            "<tr><td>4</td><td>4</td><td>12.30</td><td>186</td><td>18</td><td>2</td><td>4</td><td>16</td><td>7</td><td>16</td><td>ü-business</td><td>1</td><td>NULL</td><td>2</td></tr>",
                            "<tr><td>4</td><td>4</td><td>12.30</td><td>201</td><td>301</td><td>4</td><td>4</td><td>17</td><td>14</td><td>17</td><td>Öntési gyakorlat</td><td>8</td><td>NULL</td><td>1</td></tr>",
                            "<tr><td>4</td><td>4</td><td>12.30</td><td>203</td><td>200</td><td>1</td><td>4</td><td>4</td><td>10</td><td>4</td><td>Az ürgeöntés hydrológiai alapjai I.</td><td>4</td><td>NULL</td><td>2</td></tr>",
                            "<tr><td>4</td><td>4</td><td>12.30</td><td>205</td><td>4</td><td>1</td><td>4</td><td>18</td><td>8</td><td>18</td><td>Az öntés elmélete</td><td>1</td><td>NULL</td><td>4</td></tr>",
                            "<tr><td>4</td><td>4</td><td>12.30</td><td>207</td><td>12</td><td>4</td><td>4</td><td>18</td><td>7</td><td>18</td><td>Az öntés elmélete</td><td>1</td><td>NULL</td><td>4</td></tr>",
                            "<tr><td>4</td><td>4</td><td>12.30</td><td>215</td><td>8</td><td>1</td><td>4</td><td>3</td><td>9</td><td>3</td><td>Az ürge anatómiája</td><td>8</td><td>NULL</td><td>5</td></tr>",
                            "<tr><td>4</td><td>4</td><td>12.30</td><td>217</td><td>6</td><td>1</td><td>4</td><td>3</td><td>5</td><td>3</td><td>Az ürge anatómiája</td><td>8</td><td>NULL</td><td>5</td></tr>",
                            "</table>"
                        ]
                    }
                }
            ],
            "execution_count": 35
        },
        {
            "cell_type": "markdown",
            "source": [
                "8. <span style=\"background-color: rgb(255, 255, 255); color: rgb(36, 41, 47); font-family: -apple-system, BlinkMacSystemFont, &quot;Segoe UI&quot;, Helvetica, Arial, sans-serif, &quot;Apple Color Emoji&quot;, &quot;Segoe UI Emoji&quot;; font-size: 16px; font-weight: 600;\">Listázzuk azokat a termeket, amelyekben oktat Kovács László és van olyan tanóra a teremben, ahol a tantárgy nevében nem szerepel az 'ürge' szó!</span>"
            ],
            "metadata": {
                "azdata_cell_guid": "26a504dc-ff6a-439f-94c0-4580eca3eacf"
            },
            "attachments": {}
        },
        {
            "cell_type": "code",
            "source": [
                "select targy,\r\n",
                "        t.Terem\r\n",
                "from Oktatok okt join Orak o ON okt.oktato_id=o.tanar\r\n",
                "        join Termek t ON T.Tkód=O.terem\r\n",
                "        join Tantárgyak tan ON tan.Tkód=o.tanar\r\n",
                "WHERE okt.nev='Kovács László'\r\n",
                "\r\n",
                "INTERSECT\r\n",
                "\r\n",
                "SELECT targy,\r\n",
                "    tm.Terem\r\n",
                "FROM Orak o JOIN Tantárgyak t ON o.targy = t.Tkód\r\n",
                "            JOIN Termek tm ON o.terem = tm.Tkód\r\n",
                "WHERE t.Tantárgynév NOT LIKE '%ürge%'"
            ],
            "metadata": {
                "azdata_cell_guid": "1cbb8aeb-78b5-4350-aa45-e3202fdab85b",
                "language": "sql"
            },
            "outputs": [
                {
                    "output_type": "display_data",
                    "data": {
                        "text/html": "(4 rows affected)"
                    },
                    "metadata": {}
                },
                {
                    "output_type": "display_data",
                    "data": {
                        "text/html": "Total execution time: 00:00:00.061"
                    },
                    "metadata": {}
                },
                {
                    "output_type": "execute_result",
                    "metadata": {},
                    "execution_count": 50,
                    "data": {
                        "application/vnd.dataresource+json": {
                            "schema": {
                                "fields": [
                                    {
                                        "name": "targy"
                                    },
                                    {
                                        "name": "Terem"
                                    }
                                ]
                            },
                            "data": [
                                {
                                    "targy": "10",
                                    "Terem": "116"
                                },
                                {
                                    "targy": "10",
                                    "Terem": "119"
                                },
                                {
                                    "targy": "10",
                                    "Terem": "S.Asor.S3"
                                },
                                {
                                    "targy": "10",
                                    "Terem": "VP 203."
                                }
                            ]
                        },
                        "text/html": [
                            "<table>",
                            "<tr><th>targy</th><th>Terem</th></tr>",
                            "<tr><td>10</td><td>116</td></tr>",
                            "<tr><td>10</td><td>119</td></tr>",
                            "<tr><td>10</td><td>S.Asor.S3</td></tr>",
                            "<tr><td>10</td><td>VP 203.</td></tr>",
                            "</table>"
                        ]
                    }
                }
            ],
            "execution_count": 50
        },
        {
            "cell_type": "code",
            "source": [
                "SELECT targy,\r\n",
                "    tm.Terem\r\n",
                "FROM Orak o JOIN Tantárgyak t ON o.targy = t.Tkód\r\n",
                "            JOIN Termek tm ON o.terem = tm.Tkód\r\n",
                "WHERE t.Tantárgynév NOT LIKE '%ürge%'"
            ],
            "metadata": {
                "azdata_cell_guid": "9d775196-b077-4f42-ab25-35f88802266c",
                "language": "sql"
            },
            "outputs": [
                {
                    "output_type": "display_data",
                    "data": {
                        "text/html": "(10 rows affected)"
                    },
                    "metadata": {}
                },
                {
                    "output_type": "display_data",
                    "data": {
                        "text/html": "Total execution time: 00:00:00.032"
                    },
                    "metadata": {}
                },
                {
                    "output_type": "execute_result",
                    "metadata": {},
                    "execution_count": 49,
                    "data": {
                        "application/vnd.dataresource+json": {
                            "schema": {
                                "fields": [
                                    {
                                        "name": "targy"
                                    },
                                    {
                                        "name": "Terem"
                                    }
                                ]
                            },
                            "data": [
                                {
                                    "targy": "16",
                                    "Terem": "219"
                                },
                                {
                                    "targy": "17",
                                    "Terem": "E.2.238"
                                },
                                {
                                    "targy": "17",
                                    "Terem": "E.3.332"
                                },
                                {
                                    "targy": "18",
                                    "Terem": "220"
                                },
                                {
                                    "targy": "18",
                                    "Terem": "S.Asor.S3"
                                },
                                {
                                    "targy": "18",
                                    "Terem": "219"
                                },
                                {
                                    "targy": "10",
                                    "Terem": "119"
                                },
                                {
                                    "targy": "10",
                                    "Terem": "VP 203."
                                },
                                {
                                    "targy": "10",
                                    "Terem": "116"
                                },
                                {
                                    "targy": "10",
                                    "Terem": "S.Asor.S3"
                                }
                            ]
                        },
                        "text/html": [
                            "<table>",
                            "<tr><th>targy</th><th>Terem</th></tr>",
                            "<tr><td>16</td><td>219</td></tr>",
                            "<tr><td>17</td><td>E.2.238</td></tr>",
                            "<tr><td>17</td><td>E.3.332</td></tr>",
                            "<tr><td>18</td><td>220</td></tr>",
                            "<tr><td>18</td><td>S.Asor.S3</td></tr>",
                            "<tr><td>18</td><td>219</td></tr>",
                            "<tr><td>10</td><td>119</td></tr>",
                            "<tr><td>10</td><td>VP 203.</td></tr>",
                            "<tr><td>10</td><td>116</td></tr>",
                            "<tr><td>10</td><td>S.Asor.S3</td></tr>",
                            "</table>"
                        ]
                    }
                }
            ],
            "execution_count": 49
        },
        {
            "cell_type": "markdown",
            "source": [
                "9. <span style=\"font-weight: 600; color: rgb(36, 41, 47); font-family: -apple-system, BlinkMacSystemFont, &quot;Segoe UI&quot;, Helvetica, Arial, sans-serif, &quot;Apple Color Emoji&quot;, &quot;Segoe UI Emoji&quot;; font-size: 16px;\">Készítsünk listát arról, hogy melyik tanárnak hány órája van a (munka) hét elején (hétfőn), hét közben (kedd, szerda és csütörtök), illetve a hét végén (péntek)!</span>\n",
                "\n",
                "1. Jelenítsük meg a tanár azonosítóját, nevét, az időszakot (hét eleje - hét közben - hét vége), valamint az óraszámot!\n",
                "2. A három megjelölt időszakot külön kérdezzük le, majd fűzzük össze a lekérdezések eredményeit!\n",
                "3. Rendezzük a listát az oktató neve, azon belül időszak szerint!"
            ],
            "metadata": {
                "azdata_cell_guid": "435e2860-2dd5-4877-90f4-34a43baeb53c"
            },
            "attachments": {}
        },
        {
            "cell_type": "code",
            "source": [
                "SELECT okt.oktato_id,\r\n",
                "       okt.nev,\r\n",
                "       CASE \r\n",
                "            WHEN n.nap = N'Hétfő' THEN 'Hét eleje'\r\n",
                "            WHEN n.nap IN ('Kedd', 'Szerda', 'Csütörtök') THEN 'hét közepe'\r\n",
                "            ELSE 'hét vége'\r\n",
                "       END AS 'Időszak',\r\n",
                "       COUNT(*)\r\n",
                "FROM Oktatok okt JOIN Orak o ON okt.oktato_id = o.tanar\r\n",
                "                 JOIN Napok n ON o.nap = n.nap_id\r\n",
                "GROUP BY okt.oktato_id, \r\n",
                "         okt.nev,\r\n",
                "         CASE \r\n",
                "            WHEN n.nap = N'Hétfő' THEN 'Hét eleje'\r\n",
                "            WHEN n.nap IN ('Kedd', 'Szerda', 'Csütörtök') THEN 'hét közepe'\r\n",
                "            ELSE 'hét vége'\r\n",
                "         END\r\n",
                "ORDER BY okt.oktato_id, okt.nev, 'Időszak'"
            ],
            "metadata": {
                "azdata_cell_guid": "ce846351-ddbe-4d8e-b8fb-2a92c73ac80b",
                "language": "sql",
                "tags": []
            },
            "outputs": [
                {
                    "output_type": "display_data",
                    "data": {
                        "text/html": "(33 rows affected)"
                    },
                    "metadata": {}
                },
                {
                    "output_type": "display_data",
                    "data": {
                        "text/html": "Total execution time: 00:00:00.027"
                    },
                    "metadata": {}
                },
                {
                    "output_type": "execute_result",
                    "metadata": {},
                    "execution_count": 61,
                    "data": {
                        "application/vnd.dataresource+json": {
                            "schema": {
                                "fields": [
                                    {
                                        "name": "oktato_id"
                                    },
                                    {
                                        "name": "nev"
                                    },
                                    {
                                        "name": "Időszak"
                                    },
                                    {
                                        "name": "(No column name)"
                                    }
                                ]
                            },
                            "data": [
                                {
                                    "oktato_id": "1",
                                    "nev": "Kovács László",
                                    "Időszak": "hét közepe",
                                    "(No column name)": "3"
                                },
                                {
                                    "oktato_id": "1",
                                    "nev": "Kovács László",
                                    "Időszak": "hét vége",
                                    "(No column name)": "1"
                                },
                                {
                                    "oktato_id": "2",
                                    "nev": "Szentágotai Istvás",
                                    "Időszak": "Hét eleje",
                                    "(No column name)": "1"
                                },
                                {
                                    "oktato_id": "2",
                                    "nev": "Szentágotai Istvás",
                                    "Időszak": "hét közepe",
                                    "(No column name)": "5"
                                },
                                {
                                    "oktato_id": "2",
                                    "nev": "Szentágotai Istvás",
                                    "Időszak": "hét vége",
                                    "(No column name)": "2"
                                },
                                {
                                    "oktato_id": "3",
                                    "nev": "Szerb László",
                                    "Időszak": "hét közepe",
                                    "(No column name)": "3"
                                },
                                {
                                    "oktato_id": "4",
                                    "nev": "Ujfalussi István",
                                    "Időszak": "Hét eleje",
                                    "(No column name)": "1"
                                },
                                {
                                    "oktato_id": "4",
                                    "nev": "Ujfalussi István",
                                    "Időszak": "hét közepe",
                                    "(No column name)": "2"
                                },
                                {
                                    "oktato_id": "5",
                                    "nev": "Balkán András",
                                    "Időszak": "Hét eleje",
                                    "(No column name)": "2"
                                },
                                {
                                    "oktato_id": "5",
                                    "nev": "Balkán András",
                                    "Időszak": "hét közepe",
                                    "(No column name)": "1"
                                },
                                {
                                    "oktato_id": "6",
                                    "nev": "Szép llonka",
                                    "Időszak": "Hét eleje",
                                    "(No column name)": "4"
                                },
                                {
                                    "oktato_id": "7",
                                    "nev": "Kiss János",
                                    "Időszak": "Hét eleje",
                                    "(No column name)": "2"
                                },
                                {
                                    "oktato_id": "7",
                                    "nev": "Kiss János",
                                    "Időszak": "hét közepe",
                                    "(No column name)": "2"
                                },
                                {
                                    "oktato_id": "8",
                                    "nev": "Pelikán József",
                                    "Időszak": "Hét eleje",
                                    "(No column name)": "3"
                                },
                                {
                                    "oktato_id": "8",
                                    "nev": "Pelikán József",
                                    "Időszak": "hét közepe",
                                    "(No column name)": "3"
                                },
                                {
                                    "oktato_id": "9",
                                    "nev": "Farkasos Piroska",
                                    "Időszak": "Hét eleje",
                                    "(No column name)": "2"
                                },
                                {
                                    "oktato_id": "9",
                                    "nev": "Farkasos Piroska",
                                    "Időszak": "hét közepe",
                                    "(No column name)": "4"
                                },
                                {
                                    "oktato_id": "9",
                                    "nev": "Farkasos Piroska",
                                    "Időszak": "hét vége",
                                    "(No column name)": "1"
                                },
                                {
                                    "oktato_id": "10",
                                    "nev": "Jogrerős Pál",
                                    "Időszak": "Hét eleje",
                                    "(No column name)": "2"
                                },
                                {
                                    "oktato_id": "12",
                                    "nev": "Varga Kata",
                                    "Időszak": "Hét eleje",
                                    "(No column name)": "2"
                                },
                                {
                                    "oktato_id": "12",
                                    "nev": "Varga Kata",
                                    "Időszak": "hét közepe",
                                    "(No column name)": "2"
                                },
                                {
                                    "oktato_id": "14",
                                    "nev": "Szénási ászló",
                                    "Időszak": "hét közepe",
                                    "(No column name)": "2"
                                },
                                {
                                    "oktato_id": "18",
                                    "nev": "Nógrádi Kata",
                                    "Időszak": "hét közepe",
                                    "(No column name)": "1"
                                },
                                {
                                    "oktato_id": "20",
                                    "nev": "Kovács András",
                                    "Időszak": "Hét eleje",
                                    "(No column name)": "2"
                                },
                                {
                                    "oktato_id": "20",
                                    "nev": "Kovács András",
                                    "Időszak": "hét közepe",
                                    "(No column name)": "2"
                                },
                                {
                                    "oktato_id": "104",
                                    "nev": "Ludas Mátyás",
                                    "Időszak": "Hét eleje",
                                    "(No column name)": "1"
                                },
                                {
                                    "oktato_id": "104",
                                    "nev": "Ludas Mátyás",
                                    "Időszak": "hét közepe",
                                    "(No column name)": "1"
                                },
                                {
                                    "oktato_id": "108",
                                    "nev": "Róbert Gida",
                                    "Időszak": "hét közepe",
                                    "(No column name)": "1"
                                },
                                {
                                    "oktato_id": "111",
                                    "nev": "Vitéz János",
                                    "Időszak": "hét közepe",
                                    "(No column name)": "2"
                                },
                                {
                                    "oktato_id": "111",
                                    "nev": "Vitéz János",
                                    "Időszak": "hét vége",
                                    "(No column name)": "2"
                                },
                                {
                                    "oktato_id": "200",
                                    "nev": "Aranyi Mária",
                                    "Időszak": "Hét eleje",
                                    "(No column name)": "1"
                                },
                                {
                                    "oktato_id": "300",
                                    "nev": "Szabó Andrera",
                                    "Időszak": "hét közepe",
                                    "(No column name)": "2"
                                },
                                {
                                    "oktato_id": "301",
                                    "nev": "Juhász András",
                                    "Időszak": "hét közepe",
                                    "(No column name)": "2"
                                }
                            ]
                        },
                        "text/html": [
                            "<table>",
                            "<tr><th>oktato_id</th><th>nev</th><th>Időszak</th><th>(No column name)</th></tr>",
                            "<tr><td>1</td><td>Kovács László</td><td>hét közepe</td><td>3</td></tr>",
                            "<tr><td>1</td><td>Kovács László</td><td>hét vége</td><td>1</td></tr>",
                            "<tr><td>2</td><td>Szentágotai Istvás</td><td>Hét eleje</td><td>1</td></tr>",
                            "<tr><td>2</td><td>Szentágotai Istvás</td><td>hét közepe</td><td>5</td></tr>",
                            "<tr><td>2</td><td>Szentágotai Istvás</td><td>hét vége</td><td>2</td></tr>",
                            "<tr><td>3</td><td>Szerb László</td><td>hét közepe</td><td>3</td></tr>",
                            "<tr><td>4</td><td>Ujfalussi István</td><td>Hét eleje</td><td>1</td></tr>",
                            "<tr><td>4</td><td>Ujfalussi István</td><td>hét közepe</td><td>2</td></tr>",
                            "<tr><td>5</td><td>Balkán András</td><td>Hét eleje</td><td>2</td></tr>",
                            "<tr><td>5</td><td>Balkán András</td><td>hét közepe</td><td>1</td></tr>",
                            "<tr><td>6</td><td>Szép llonka</td><td>Hét eleje</td><td>4</td></tr>",
                            "<tr><td>7</td><td>Kiss János</td><td>Hét eleje</td><td>2</td></tr>",
                            "<tr><td>7</td><td>Kiss János</td><td>hét közepe</td><td>2</td></tr>",
                            "<tr><td>8</td><td>Pelikán József</td><td>Hét eleje</td><td>3</td></tr>",
                            "<tr><td>8</td><td>Pelikán József</td><td>hét közepe</td><td>3</td></tr>",
                            "<tr><td>9</td><td>Farkasos Piroska</td><td>Hét eleje</td><td>2</td></tr>",
                            "<tr><td>9</td><td>Farkasos Piroska</td><td>hét közepe</td><td>4</td></tr>",
                            "<tr><td>9</td><td>Farkasos Piroska</td><td>hét vége</td><td>1</td></tr>",
                            "<tr><td>10</td><td>Jogrerős Pál</td><td>Hét eleje</td><td>2</td></tr>",
                            "<tr><td>12</td><td>Varga Kata</td><td>Hét eleje</td><td>2</td></tr>",
                            "<tr><td>12</td><td>Varga Kata</td><td>hét közepe</td><td>2</td></tr>",
                            "<tr><td>14</td><td>Szénási ászló</td><td>hét közepe</td><td>2</td></tr>",
                            "<tr><td>18</td><td>Nógrádi Kata</td><td>hét közepe</td><td>1</td></tr>",
                            "<tr><td>20</td><td>Kovács András</td><td>Hét eleje</td><td>2</td></tr>",
                            "<tr><td>20</td><td>Kovács András</td><td>hét közepe</td><td>2</td></tr>",
                            "<tr><td>104</td><td>Ludas Mátyás</td><td>Hét eleje</td><td>1</td></tr>",
                            "<tr><td>104</td><td>Ludas Mátyás</td><td>hét közepe</td><td>1</td></tr>",
                            "<tr><td>108</td><td>Róbert Gida</td><td>hét közepe</td><td>1</td></tr>",
                            "<tr><td>111</td><td>Vitéz János</td><td>hét közepe</td><td>2</td></tr>",
                            "<tr><td>111</td><td>Vitéz János</td><td>hét vége</td><td>2</td></tr>",
                            "<tr><td>200</td><td>Aranyi Mária</td><td>Hét eleje</td><td>1</td></tr>",
                            "<tr><td>300</td><td>Szabó Andrera</td><td>hét közepe</td><td>2</td></tr>",
                            "<tr><td>301</td><td>Juhász András</td><td>hét közepe</td><td>2</td></tr>",
                            "</table>"
                        ]
                    }
                }
            ],
            "execution_count": 61
        },
        {
            "cell_type": "markdown",
            "source": [
                "10. <span style=\"background-color: rgb(255, 255, 255); color: rgb(36, 41, 47); font-family: -apple-system, BlinkMacSystemFont, &quot;Segoe UI&quot;, Helvetica, Arial, sans-serif, &quot;Apple Color Emoji&quot;, &quot;Segoe UI Emoji&quot;; font-size: 16px; font-weight: 600;\">Melyik napokon nincs órája Pelikán Józsefnek?</span>"
            ],
            "metadata": {
                "azdata_cell_guid": "217c5772-afe2-4a7c-b913-e3a3e09d6411"
            },
            "attachments": {}
        },
        {
            "cell_type": "code",
            "source": [
                "select nap\r\n",
                "from Napok\r\n",
                "\r\n",
                "EXCEPT\r\n",
                "\r\n",
                "SELECT n.nap\r\n",
                "from Napok n join Orak o on o.nap=n.nap_id   \r\n",
                "            join Oktatok okt on okt.oktato_id=o.tanar\r\n",
                "where okt.nev='Pelikán József'"
            ],
            "metadata": {
                "azdata_cell_guid": "a9cc0926-3dbd-4ed8-8179-1c39d64a0762",
                "language": "sql"
            },
            "outputs": [
                {
                    "output_type": "display_data",
                    "data": {
                        "text/html": "(3 rows affected)"
                    },
                    "metadata": {}
                },
                {
                    "output_type": "display_data",
                    "data": {
                        "text/html": "Total execution time: 00:00:00.016"
                    },
                    "metadata": {}
                },
                {
                    "output_type": "execute_result",
                    "execution_count": 42,
                    "data": {
                        "application/vnd.dataresource+json": {
                            "schema": {
                                "fields": [
                                    {
                                        "name": "nap"
                                    }
                                ]
                            },
                            "data": [
                                {
                                    "nap": "Csütörtök"
                                },
                                {
                                    "nap": "Péntek"
                                },
                                {
                                    "nap": "Szerda"
                                }
                            ]
                        },
                        "text/html": "<table><tr><th>nap</th></tr><tr><td>Csütörtök</td></tr><tr><td>Péntek</td></tr><tr><td>Szerda</td></tr></table>"
                    },
                    "metadata": {}
                }
            ],
            "execution_count": 42
        },
        {
            "cell_type": "markdown",
            "source": [
                "**A 11-15 feladatok gyakorlásra szolgálnak a közelgő zh-ra :-)**\n",
                "\n",
                "11. _Készítsünk listát az oktatók adatairól!_\n",
                "\n",
                "1. Az oktatók titulusa és neve összefűzve jelenjen meg, közöttük szóközzel!\n",
                "2. Ha valakinek nincs titulusa, akkor csak a neve jelenjen meg, szóköz nélkül!\n",
                "3. A listát rendezzük a beosztás kódja, azon belül a státusz kódja szerint növekvő sorrendbe!\n",
                "4. Az oszlopokat nevezzük el értelemszerűen!"
            ],
            "metadata": {
                "azdata_cell_guid": "d2340f5f-1614-473c-b937-85740d67f7c1"
            },
            "attachments": {}
        },
        {
            "cell_type": "code",
            "source": [
                "SELECT oktato_id,\r\n",
                "        IIF(titulus  IS NULL, nev, titulus + ' ' + nev) AS 'Oktató neve',\r\n",
                "        beosztás AS 'Beosztás kódja',\r\n",
                "        [status] AS'Státusz kódja'\r\n",
                "from Oktatok\r\n",
                "order by beosztás, [status] ASC\r\n",
                "\r\n",
                "\r\n",
                ""
            ],
            "metadata": {
                "azdata_cell_guid": "e99c2c53-898f-4787-b0e6-182d106dc16f",
                "language": "sql",
                "tags": []
            },
            "outputs": [
                {
                    "output_type": "display_data",
                    "data": {
                        "text/html": "(25 rows affected)"
                    },
                    "metadata": {}
                },
                {
                    "output_type": "display_data",
                    "data": {
                        "text/html": "Total execution time: 00:00:00.025"
                    },
                    "metadata": {}
                },
                {
                    "output_type": "execute_result",
                    "metadata": {},
                    "execution_count": 66,
                    "data": {
                        "application/vnd.dataresource+json": {
                            "schema": {
                                "fields": [
                                    {
                                        "name": "oktato_id"
                                    },
                                    {
                                        "name": "Oktató neve"
                                    },
                                    {
                                        "name": "Beosztás kódja"
                                    },
                                    {
                                        "name": "Státusz kódja"
                                    }
                                ]
                            },
                            "data": [
                                {
                                    "oktato_id": "18",
                                    "Oktató neve": "Nógrádi Kata",
                                    "Beosztás kódja": "1",
                                    "Státusz kódja": "1"
                                },
                                {
                                    "oktato_id": "19",
                                    "Oktató neve": "Rácz András",
                                    "Beosztás kódja": "1",
                                    "Státusz kódja": "1"
                                },
                                {
                                    "oktato_id": "20",
                                    "Oktató neve": "Kovács András",
                                    "Beosztás kódja": "1",
                                    "Státusz kódja": "1"
                                },
                                {
                                    "oktato_id": "104",
                                    "Oktató neve": "Ludas Mátyás",
                                    "Beosztás kódja": "1",
                                    "Státusz kódja": "1"
                                },
                                {
                                    "oktato_id": "200",
                                    "Oktató neve": "Aranyi Mária",
                                    "Beosztás kódja": "1",
                                    "Státusz kódja": "1"
                                },
                                {
                                    "oktato_id": "300",
                                    "Oktató neve": "Szabó Andrera",
                                    "Beosztás kódja": "1",
                                    "Státusz kódja": "1"
                                },
                                {
                                    "oktato_id": "105",
                                    "Oktató neve": "Kiss István",
                                    "Beosztás kódja": "1",
                                    "Státusz kódja": "2"
                                },
                                {
                                    "oktato_id": "107",
                                    "Oktató neve": "Mészáros Kriszta",
                                    "Beosztás kódja": "1",
                                    "Státusz kódja": "2"
                                },
                                {
                                    "oktato_id": "108",
                                    "Oktató neve": "Róbert Gida",
                                    "Beosztás kódja": "2",
                                    "Státusz kódja": "1"
                                },
                                {
                                    "oktato_id": "111",
                                    "Oktató neve": "Vitéz János",
                                    "Beosztás kódja": "2",
                                    "Státusz kódja": "1"
                                },
                                {
                                    "oktato_id": "7",
                                    "Oktató neve": "Kiss János",
                                    "Beosztás kódja": "2",
                                    "Státusz kódja": "1"
                                },
                                {
                                    "oktato_id": "8",
                                    "Oktató neve": "Pelikán József",
                                    "Beosztás kódja": "2",
                                    "Státusz kódja": "3"
                                },
                                {
                                    "oktato_id": "9",
                                    "Oktató neve": "Farkasos Piroska",
                                    "Beosztás kódja": "2",
                                    "Státusz kódja": "3"
                                },
                                {
                                    "oktato_id": "6",
                                    "Oktató neve": "Dr. Szép llonka",
                                    "Beosztás kódja": "3",
                                    "Státusz kódja": "1"
                                },
                                {
                                    "oktato_id": "14",
                                    "Oktató neve": "Szénási ászló",
                                    "Beosztás kódja": "3",
                                    "Státusz kódja": "1"
                                },
                                {
                                    "oktato_id": "2",
                                    "Oktató neve": "Dr. Szentágotai Istvás",
                                    "Beosztás kódja": "3",
                                    "Státusz kódja": "2"
                                },
                                {
                                    "oktato_id": "3",
                                    "Oktató neve": "Szerb László",
                                    "Beosztás kódja": "4",
                                    "Státusz kódja": "1"
                                },
                                {
                                    "oktato_id": "11",
                                    "Oktató neve": "Dr. Józsa Gábor",
                                    "Beosztás kódja": "4",
                                    "Státusz kódja": "1"
                                },
                                {
                                    "oktato_id": "12",
                                    "Oktató neve": "Dr. Varga Kata",
                                    "Beosztás kódja": "4",
                                    "Státusz kódja": "1"
                                },
                                {
                                    "oktato_id": "5",
                                    "Oktató neve": "Dr. Balkán András",
                                    "Beosztás kódja": "4",
                                    "Státusz kódja": "2"
                                },
                                {
                                    "oktato_id": "302",
                                    "Oktató neve": "Dr. Kovacs Istvan",
                                    "Beosztás kódja": "5",
                                    "Státusz kódja": "1"
                                },
                                {
                                    "oktato_id": "301",
                                    "Oktató neve": "Dr. Juhász András",
                                    "Beosztás kódja": "6",
                                    "Státusz kódja": "1"
                                },
                                {
                                    "oktato_id": "10",
                                    "Oktató neve": "Prof. Jogrerős Pál",
                                    "Beosztás kódja": "6",
                                    "Státusz kódja": "1"
                                },
                                {
                                    "oktato_id": "1",
                                    "Oktató neve": "Dr. Kovács László",
                                    "Beosztás kódja": "6",
                                    "Státusz kódja": "2"
                                },
                                {
                                    "oktato_id": "4",
                                    "Oktató neve": "Prof, tanszékvezető Ujfalussi István",
                                    "Beosztás kódja": "6",
                                    "Státusz kódja": "2"
                                }
                            ]
                        },
                        "text/html": [
                            "<table>",
                            "<tr><th>oktato_id</th><th>Oktató neve</th><th>Beosztás kódja</th><th>Státusz kódja</th></tr>",
                            "<tr><td>18</td><td>Nógrádi Kata</td><td>1</td><td>1</td></tr>",
                            "<tr><td>19</td><td>Rácz András</td><td>1</td><td>1</td></tr>",
                            "<tr><td>20</td><td>Kovács András</td><td>1</td><td>1</td></tr>",
                            "<tr><td>104</td><td>Ludas Mátyás</td><td>1</td><td>1</td></tr>",
                            "<tr><td>200</td><td>Aranyi Mária</td><td>1</td><td>1</td></tr>",
                            "<tr><td>300</td><td>Szabó Andrera</td><td>1</td><td>1</td></tr>",
                            "<tr><td>105</td><td>Kiss István</td><td>1</td><td>2</td></tr>",
                            "<tr><td>107</td><td>Mészáros Kriszta</td><td>1</td><td>2</td></tr>",
                            "<tr><td>108</td><td>Róbert Gida</td><td>2</td><td>1</td></tr>",
                            "<tr><td>111</td><td>Vitéz János</td><td>2</td><td>1</td></tr>",
                            "<tr><td>7</td><td>Kiss János</td><td>2</td><td>1</td></tr>",
                            "<tr><td>8</td><td>Pelikán József</td><td>2</td><td>3</td></tr>",
                            "<tr><td>9</td><td>Farkasos Piroska</td><td>2</td><td>3</td></tr>",
                            "<tr><td>6</td><td>Dr. Szép llonka</td><td>3</td><td>1</td></tr>",
                            "<tr><td>14</td><td>Szénási ászló</td><td>3</td><td>1</td></tr>",
                            "<tr><td>2</td><td>Dr. Szentágotai Istvás</td><td>3</td><td>2</td></tr>",
                            "<tr><td>3</td><td>Szerb László</td><td>4</td><td>1</td></tr>",
                            "<tr><td>11</td><td>Dr. Józsa Gábor</td><td>4</td><td>1</td></tr>",
                            "<tr><td>12</td><td>Dr. Varga Kata</td><td>4</td><td>1</td></tr>",
                            "<tr><td>5</td><td>Dr. Balkán András</td><td>4</td><td>2</td></tr>",
                            "<tr><td>302</td><td>Dr. Kovacs Istvan</td><td>5</td><td>1</td></tr>",
                            "<tr><td>301</td><td>Dr. Juhász András</td><td>6</td><td>1</td></tr>",
                            "<tr><td>10</td><td>Prof. Jogrerős Pál</td><td>6</td><td>1</td></tr>",
                            "<tr><td>1</td><td>Dr. Kovács László</td><td>6</td><td>2</td></tr>",
                            "<tr><td>4</td><td>Prof, tanszékvezető Ujfalussi István</td><td>6</td><td>2</td></tr>",
                            "</table>"
                        ]
                    }
                }
            ],
            "execution_count": 66
        },
        {
            "cell_type": "markdown",
            "source": [
                "<span style=\"color: #09885a;\">12</span>. Készítsünk listát, amely megmutatja, hogy összesen hány tantárgy van kreditenkénti csoportosításban!\n",
                "\n",
                "  \n",
                "\n",
                "A listából hagyjuk ki azokat a tételeket, ahol ez a darabszám <span style=\"color: #09885a;\">1</span>!\n",
                "\n",
                "A Folyami gáttan tantárgyat ne vegyük figyelembe!\n",
                "\n",
                "A listát rendezzük darabszám szerint csökkenő sorrendbe!\n",
                "\n",
                "Az oszlopokat nevezzük el értelemszerűen!"
            ],
            "metadata": {
                "azdata_cell_guid": "a765e9d6-58b3-4171-872a-78f3118fd6e3"
            },
            "attachments": {}
        },
        {
            "cell_type": "code",
            "source": [
                "SELECT Kredit,\r\n",
                "        count(Tkód) as 'Tantárgyszám'\r\n",
                "from Tantárgyak\r\n",
                "where Tantárgynév <> 'Folyami gáttan'\r\n",
                "group by Kredit\r\n",
                "having count(Tkód) <> 1\r\n",
                "order by count(Tkód) DESC  "
            ],
            "metadata": {
                "azdata_cell_guid": "422e8127-b652-4d3a-bfd7-9b1637b5781e",
                "language": "sql",
                "tags": []
            },
            "outputs": [
                {
                    "output_type": "display_data",
                    "data": {
                        "text/html": "(4 rows affected)"
                    },
                    "metadata": {}
                },
                {
                    "output_type": "display_data",
                    "data": {
                        "text/html": "Total execution time: 00:00:00.008"
                    },
                    "metadata": {}
                },
                {
                    "output_type": "execute_result",
                    "execution_count": 56,
                    "data": {
                        "application/vnd.dataresource+json": {
                            "schema": {
                                "fields": [
                                    {
                                        "name": "Kredit"
                                    },
                                    {
                                        "name": "Tantárgyszám"
                                    }
                                ]
                            },
                            "data": [
                                {
                                    "Kredit": "2",
                                    "Tantárgyszám": "3"
                                },
                                {
                                    "Kredit": "3",
                                    "Tantárgyszám": "3"
                                },
                                {
                                    "Kredit": "4",
                                    "Tantárgyszám": "2"
                                },
                                {
                                    "Kredit": "1",
                                    "Tantárgyszám": "2"
                                }
                            ]
                        },
                        "text/html": "<table><tr><th>Kredit</th><th>Tantárgyszám</th></tr><tr><td>2</td><td>3</td></tr><tr><td>3</td><td>3</td></tr><tr><td>4</td><td>2</td></tr><tr><td>1</td><td>2</td></tr></table>"
                    },
                    "metadata": {}
                }
            ],
            "execution_count": 56
        },
        {
            "cell_type": "markdown",
            "source": [
                "13. _Készítsünk listát az oktatók nevéről, a beosztásuk alapján elvárt és a tényleges óraszámukról!_\n",
                "\n",
                "1. Az oszlopok neve legyen 'Oktató neve', 'Elvárt óraszám' és 'Tényleges óraszám'\n",
                "2. Szűrjük a listát azokra az oktatókra, ahol az elvárt és a tényleges óraszám azonos"
            ],
            "metadata": {
                "azdata_cell_guid": "3f9237ae-f109-401c-acb9-31d75e73331b"
            },
            "attachments": {}
        },
        {
            "cell_type": "code",
            "source": [
                "select okt.nev as 'Oktató neve',\r\n",
                "        elvart as 'elvárt óraszám',\r\n",
                "        count(o.ora_id) as 'tényleges óraszám'\r\n",
                "from Oktatok okt join Beosztasok b on b.beosztas_id=okt.beosztás\r\n",
                "                join Orak o on o.tanar=okt.oktato_id\r\n",
                "group by okt.nev, b.elvart\r\n",
                "having count(o.ora_id)=elvart"
            ],
            "metadata": {
                "azdata_cell_guid": "4b31bb89-cfbc-46b1-8639-85c462877786",
                "language": "sql"
            },
            "outputs": [
                {
                    "output_type": "display_data",
                    "data": {
                        "text/html": "(4 rows affected)"
                    },
                    "metadata": {}
                },
                {
                    "output_type": "display_data",
                    "data": {
                        "text/html": "Total execution time: 00:00:00.007"
                    },
                    "metadata": {}
                },
                {
                    "output_type": "execute_result",
                    "execution_count": 61,
                    "data": {
                        "application/vnd.dataresource+json": {
                            "schema": {
                                "fields": [
                                    {
                                        "name": "Oktató neve"
                                    },
                                    {
                                        "name": "elvárt óraszám"
                                    },
                                    {
                                        "name": "tényleges óraszám"
                                    }
                                ]
                            },
                            "data": [
                                {
                                    "Oktató neve": "Jogrerős Pál",
                                    "elvárt óraszám": "2",
                                    "tényleges óraszám": "2"
                                },
                                {
                                    "Oktató neve": "Juhász András",
                                    "elvárt óraszám": "2",
                                    "tényleges óraszám": "2"
                                },
                                {
                                    "Oktató neve": "Varga Kata",
                                    "elvárt óraszám": "4",
                                    "tényleges óraszám": "4"
                                },
                                {
                                    "Oktató neve": "Pelikán József",
                                    "elvárt óraszám": "6",
                                    "tényleges óraszám": "6"
                                }
                            ]
                        },
                        "text/html": "<table><tr><th>Oktató neve</th><th>elvárt óraszám</th><th>tényleges óraszám</th></tr><tr><td>Jogrerős Pál</td><td>2</td><td>2</td></tr><tr><td>Juhász András</td><td>2</td><td>2</td></tr><tr><td>Varga Kata</td><td>4</td><td>4</td></tr><tr><td>Pelikán József</td><td>6</td><td>6</td></tr></table>"
                    },
                    "metadata": {}
                }
            ],
            "execution_count": 61
        },
        {
            "cell_type": "markdown",
            "source": [
                "14. _Készítsünk listát, amely megmutatja, hogy mely tantárgyból nincs óra egyáltalán!_\n",
                "\n",
                "1. Csak a tantárgy neve jelenjen meg!"
            ],
            "metadata": {
                "azdata_cell_guid": "f634e09a-85ef-4e70-8ec6-ef355dfddaa7"
            },
            "attachments": {}
        },
        {
            "cell_type": "code",
            "source": [
                "select Tantárgynév\r\n",
                "from orak o RIGHT join Tantárgyak t on o.targy=t.Tkód\r\n",
                "where terem is null"
            ],
            "metadata": {
                "azdata_cell_guid": "88abc55b-2c78-495b-a72f-3f8f4eb5fe70",
                "language": "sql"
            },
            "outputs": [
                {
                    "output_type": "display_data",
                    "data": {
                        "text/html": "(1 row affected)"
                    },
                    "metadata": {}
                },
                {
                    "output_type": "display_data",
                    "data": {
                        "text/html": "Total execution time: 00:00:00.031"
                    },
                    "metadata": {}
                },
                {
                    "output_type": "execute_result",
                    "metadata": {},
                    "execution_count": 74,
                    "data": {
                        "application/vnd.dataresource+json": {
                            "schema": {
                                "fields": [
                                    {
                                        "name": "Tantárgynév"
                                    }
                                ]
                            },
                            "data": [
                                {
                                    "Tantárgynév": "Folyami gáttan"
                                }
                            ]
                        },
                        "text/html": [
                            "<table>",
                            "<tr><th>Tantárgynév</th></tr>",
                            "<tr><td>Folyami gáttan</td></tr>",
                            "</table>"
                        ]
                    }
                }
            ],
            "execution_count": 74
        },
        {
            "cell_type": "markdown",
            "source": [
                "15. _Hány órájuk van az óraadóknak napi bontásban?_\n",
                "\n",
                "1. Csak a napok nevét és az óraszámot jelenítsük meg!\n",
                "2. Rendezzük a listát óraszám szerint növekvő sorrendbe!"
            ],
            "metadata": {
                "azdata_cell_guid": "4cbf2f0d-a65d-480a-8186-ccdb24498443"
            },
            "attachments": {}
        },
        {
            "cell_type": "code",
            "source": [
                "select n.nap,\r\n",
                "        count(*) as 'Óraszám'\r\n",
                "from statusok s join  Oktatok okt on s.Skod=okt.[status]\r\n",
                "        join Orak o on o.tanar=okt.oktato_id\r\n",
                "        join Napok n on  o.nap=n.nap_id\r\n",
                "where s.[Status]='Óraadó'\r\n",
                "group by n.nap\r\n",
                "order by count(*) ASC"
            ],
            "metadata": {
                "azdata_cell_guid": "c148aee8-bc85-40bf-b80a-a4898a6c05cb",
                "language": "sql",
                "tags": []
            },
            "outputs": [
                {
                    "output_type": "display_data",
                    "data": {
                        "text/html": "(5 rows affected)"
                    },
                    "metadata": {}
                },
                {
                    "output_type": "display_data",
                    "data": {
                        "text/html": "Total execution time: 00:00:00.022"
                    },
                    "metadata": {}
                },
                {
                    "output_type": "execute_result",
                    "metadata": {},
                    "execution_count": 85,
                    "data": {
                        "application/vnd.dataresource+json": {
                            "schema": {
                                "fields": [
                                    {
                                        "name": "nap"
                                    },
                                    {
                                        "name": "Óraszám"
                                    }
                                ]
                            },
                            "data": [
                                {
                                    "nap": "Péntek",
                                    "Óraszám": "1"
                                },
                                {
                                    "nap": "Szerda",
                                    "Óraszám": "1"
                                },
                                {
                                    "nap": "Csütörtök",
                                    "Óraszám": "3"
                                },
                                {
                                    "nap": "Kedd",
                                    "Óraszám": "3"
                                },
                                {
                                    "nap": "Hétfő",
                                    "Óraszám": "5"
                                }
                            ]
                        },
                        "text/html": [
                            "<table>",
                            "<tr><th>nap</th><th>Óraszám</th></tr>",
                            "<tr><td>Péntek</td><td>1</td></tr>",
                            "<tr><td>Szerda</td><td>1</td></tr>",
                            "<tr><td>Csütörtök</td><td>3</td></tr>",
                            "<tr><td>Kedd</td><td>3</td></tr>",
                            "<tr><td>Hétfő</td><td>5</td></tr>",
                            "</table>"
                        ]
                    }
                }
            ],
            "execution_count": 85
        }
    ]
}