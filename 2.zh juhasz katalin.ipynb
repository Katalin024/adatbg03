{
    "metadata": {
        "kernelspec": {
            "name": "SQL",
            "display_name": "SQL",
            "language": "sql"
        },
        "language_info": {
            "name": "sql",
            "version": ""
        }
    },
    "nbformat_minor": 2,
    "nbformat": 4,
    "cells": [
        {
            "cell_type": "code",
            "source": [
                "--1. feladat\r\n",
                "\r\n",
                "select SZOBA_ID as 'szobaazonosító',\r\n",
                "        FOGLALAS_PK as 'foglalásazonosító',\r\n",
                "        DATEDIFF(DAY,METTOL,MEDDIG) as 'foglalás hossza (nap)',\r\n",
                "        lag(DATEDIFF(DAY,METTOL,MEDDIG),1,0) over(PARTITION by SZOBA_ID order by METTOL) as 'adott szobára előző fogalalás hossza'\r\n",
                "from szoba sz join Foglalas f on sz.SZOBA_ID=f.SZOBA_FK"
            ],
            "metadata": {
                "azdata_cell_guid": "84b11ba1-0dc8-46e2-995a-e40998f3340a",
                "language": "sql"
            },
            "outputs": [
                {
                    "output_type": "display_data",
                    "data": {
                        "text/html": "(1027 rows affected)"
                    },
                    "metadata": {}
                },
                {
                    "output_type": "display_data",
                    "data": {
                        "text/html": "Total execution time: 00:00:00.031"
                    },
                    "metadata": {}
                },
                {
                    "output_type": "execute_result",
                    "metadata": {},
                    "execution_count": 11,
                    "data": {
                        "application/vnd.dataresource+json": {
                            "schema": {
                                "fields": [
                                    {
                                        "name": "szobaazonosító"
                                    },
                                    {
                                        "name": "foglalásazonosító"
                                    },
                                    {
                                        "name": "foglalás hossza (nap)"
                                    },
                                    {
                                        "name": "adott szobára előző fogalalás hossza"
                                    }
                                ]
                            },
                            "data": [
                                {
                                    "szobaazonosító": "1",
                                    "foglalásazonosító": "620",
                                    "foglalás hossza (nap)": "5",
                                    "adott szobára előző fogalalás hossza": "0"
                                },
                                {
                                    "szobaazonosító": "1",
                                    "foglalásazonosító": "949",
                                    "foglalás hossza (nap)": "1",
                                    "adott szobára előző fogalalás hossza": "5"
                                },
                                {
                                    "szobaazonosító": "1",
                                    "foglalásazonosító": "738",
                                    "foglalás hossza (nap)": "7",
                                    "adott szobára előző fogalalás hossza": "1"
                                },
                                {
                                    "szobaazonosító": "1",
                                    "foglalásazonosító": "803",
                                    "foglalás hossza (nap)": "4",
                                    "adott szobára előző fogalalás hossza": "7"
                                },
                                {
                                    "szobaazonosító": "1",
                                    "foglalásazonosító": "1137",
                                    "foglalás hossza (nap)": "2",
                                    "adott szobára előző fogalalás hossza": "4"
                                },
                                {
                                    "szobaazonosító": "1",
                                    "foglalásazonosító": "1152",
                                    "foglalás hossza (nap)": "1",
                                    "adott szobára előző fogalalás hossza": "2"
                                },
                                {
                                    "szobaazonosító": "1",
                                    "foglalásazonosító": "1274",
                                    "foglalás hossza (nap)": "1",
                                    "adott szobára előző fogalalás hossza": "1"
                                },
                                {
                                    "szobaazonosító": "1",
                                    "foglalásazonosító": "1334",
                                    "foglalás hossza (nap)": "4",
                                    "adott szobára előző fogalalás hossza": "1"
                                },
                                {
                                    "szobaazonosító": "2",
                                    "foglalásazonosító": "828",
                                    "foglalás hossza (nap)": "3",
                                    "adott szobára előző fogalalás hossza": "0"
                                },
                                {
                                    "szobaazonosító": "2",
                                    "foglalásazonosító": "1051",
                                    "foglalás hossza (nap)": "1",
                                    "adott szobára előző fogalalás hossza": "3"
                                },
                                {
                                    "szobaazonosító": "2",
                                    "foglalásazonosító": "1069",
                                    "foglalás hossza (nap)": "7",
                                    "adott szobára előző fogalalás hossza": "1"
                                },
                                {
                                    "szobaazonosító": "2",
                                    "foglalásazonosító": "1311",
                                    "foglalás hossza (nap)": "7",
                                    "adott szobára előző fogalalás hossza": "7"
                                },
                                {
                                    "szobaazonosító": "3",
                                    "foglalásazonosító": "629",
                                    "foglalás hossza (nap)": "4",
                                    "adott szobára előző fogalalás hossza": "0"
                                },
                                {
                                    "szobaazonosító": "3",
                                    "foglalásazonosító": "666",
                                    "foglalás hossza (nap)": "6",
                                    "adott szobára előző fogalalás hossza": "4"
                                },
                                {
                                    "szobaazonosító": "3",
                                    "foglalásazonosító": "788",
                                    "foglalás hossza (nap)": "6",
                                    "adott szobára előző fogalalás hossza": "6"
                                },
                                {
                                    "szobaazonosító": "3",
                                    "foglalásazonosító": "1038",
                                    "foglalás hossza (nap)": "3",
                                    "adott szobára előző fogalalás hossza": "6"
                                },
                                {
                                    "szobaazonosító": "3",
                                    "foglalásazonosító": "1110",
                                    "foglalás hossza (nap)": "7",
                                    "adott szobára előző fogalalás hossza": "3"
                                },
                                {
                                    "szobaazonosító": "3",
                                    "foglalásazonosító": "1151",
                                    "foglalás hossza (nap)": "1",
                                    "adott szobára előző fogalalás hossza": "7"
                                },
                                {
                                    "szobaazonosító": "3",
                                    "foglalásazonosító": "1434",
                                    "foglalás hossza (nap)": "5",
                                    "adott szobára előző fogalalás hossza": "1"
                                },
                                {
                                    "szobaazonosító": "3",
                                    "foglalásazonosító": "1544",
                                    "foglalás hossza (nap)": "5",
                                    "adott szobára előző fogalalás hossza": "5"
                                },
                                {
                                    "szobaazonosító": "4",
                                    "foglalásazonosító": "651",
                                    "foglalás hossza (nap)": "7",
                                    "adott szobára előző fogalalás hossza": "0"
                                },
                                {
                                    "szobaazonosító": "4",
                                    "foglalásazonosító": "946",
                                    "foglalás hossza (nap)": "5",
                                    "adott szobára előző fogalalás hossza": "7"
                                },
                                {
                                    "szobaazonosító": "4",
                                    "foglalásazonosító": "1001",
                                    "foglalás hossza (nap)": "7",
                                    "adott szobára előző fogalalás hossza": "5"
                                },
                                {
                                    "szobaazonosító": "4",
                                    "foglalásazonosító": "1127",
                                    "foglalás hossza (nap)": "3",
                                    "adott szobára előző fogalalás hossza": "7"
                                },
                                {
                                    "szobaazonosító": "4",
                                    "foglalásazonosító": "1132",
                                    "foglalás hossza (nap)": "6",
                                    "adott szobára előző fogalalás hossza": "3"
                                },
                                {
                                    "szobaazonosító": "4",
                                    "foglalásazonosító": "1492",
                                    "foglalás hossza (nap)": "6",
                                    "adott szobára előző fogalalás hossza": "6"
                                },
                                {
                                    "szobaazonosító": "5",
                                    "foglalásazonosító": "564",
                                    "foglalás hossza (nap)": "2",
                                    "adott szobára előző fogalalás hossza": "0"
                                },
                                {
                                    "szobaazonosító": "5",
                                    "foglalásazonosító": "965",
                                    "foglalás hossza (nap)": "7",
                                    "adott szobára előző fogalalás hossza": "2"
                                },
                                {
                                    "szobaazonosító": "5",
                                    "foglalásazonosító": "1073",
                                    "foglalás hossza (nap)": "5",
                                    "adott szobára előző fogalalás hossza": "7"
                                },
                                {
                                    "szobaazonosító": "5",
                                    "foglalásazonosító": "1257",
                                    "foglalás hossza (nap)": "3",
                                    "adott szobára előző fogalalás hossza": "5"
                                },
                                {
                                    "szobaazonosító": "6",
                                    "foglalásazonosító": "560",
                                    "foglalás hossza (nap)": "6",
                                    "adott szobára előző fogalalás hossza": "0"
                                },
                                {
                                    "szobaazonosító": "6",
                                    "foglalásazonosító": "873",
                                    "foglalás hossza (nap)": "3",
                                    "adott szobára előző fogalalás hossza": "6"
                                },
                                {
                                    "szobaazonosító": "6",
                                    "foglalásazonosító": "990",
                                    "foglalás hossza (nap)": "4",
                                    "adott szobára előző fogalalás hossza": "3"
                                },
                                {
                                    "szobaazonosító": "6",
                                    "foglalásazonosító": "772",
                                    "foglalás hossza (nap)": "6",
                                    "adott szobára előző fogalalás hossza": "4"
                                },
                                {
                                    "szobaazonosító": "6",
                                    "foglalásazonosító": "850",
                                    "foglalás hossza (nap)": "2",
                                    "adott szobára előző fogalalás hossza": "6"
                                },
                                {
                                    "szobaazonosító": "6",
                                    "foglalásazonosító": "1099",
                                    "foglalás hossza (nap)": "4",
                                    "adott szobára előző fogalalás hossza": "2"
                                },
                                {
                                    "szobaazonosító": "7",
                                    "foglalásazonosító": "562",
                                    "foglalás hossza (nap)": "4",
                                    "adott szobára előző fogalalás hossza": "0"
                                },
                                {
                                    "szobaazonosító": "7",
                                    "foglalásazonosító": "759",
                                    "foglalás hossza (nap)": "7",
                                    "adott szobára előző fogalalás hossza": "4"
                                },
                                {
                                    "szobaazonosító": "7",
                                    "foglalásazonosító": "1131",
                                    "foglalás hossza (nap)": "1",
                                    "adott szobára előző fogalalás hossza": "7"
                                },
                                {
                                    "szobaazonosító": "7",
                                    "foglalásazonosító": "1175",
                                    "foglalás hossza (nap)": "4",
                                    "adott szobára előző fogalalás hossza": "1"
                                },
                                {
                                    "szobaazonosító": "7",
                                    "foglalásazonosító": "1182",
                                    "foglalás hossza (nap)": "4",
                                    "adott szobára előző fogalalás hossza": "4"
                                },
                                {
                                    "szobaazonosító": "7",
                                    "foglalásazonosító": "1252",
                                    "foglalás hossza (nap)": "2",
                                    "adott szobára előző fogalalás hossza": "4"
                                },
                                {
                                    "szobaazonosító": "8",
                                    "foglalásazonosító": "882",
                                    "foglalás hossza (nap)": "1",
                                    "adott szobára előző fogalalás hossza": "0"
                                },
                                {
                                    "szobaazonosító": "8",
                                    "foglalásazonosító": "947",
                                    "foglalás hossza (nap)": "3",
                                    "adott szobára előző fogalalás hossza": "1"
                                },
                                {
                                    "szobaazonosító": "8",
                                    "foglalásazonosító": "694",
                                    "foglalás hossza (nap)": "4",
                                    "adott szobára előző fogalalás hossza": "3"
                                },
                                {
                                    "szobaazonosító": "8",
                                    "foglalásazonosító": "818",
                                    "foglalás hossza (nap)": "4",
                                    "adott szobára előző fogalalás hossza": "4"
                                },
                                {
                                    "szobaazonosító": "8",
                                    "foglalásazonosító": "832",
                                    "foglalás hossza (nap)": "4",
                                    "adott szobára előző fogalalás hossza": "4"
                                },
                                {
                                    "szobaazonosító": "9",
                                    "foglalásazonosító": "609",
                                    "foglalás hossza (nap)": "2",
                                    "adott szobára előző fogalalás hossza": "0"
                                },
                                {
                                    "szobaazonosító": "9",
                                    "foglalásazonosító": "1157",
                                    "foglalás hossza (nap)": "6",
                                    "adott szobára előző fogalalás hossza": "2"
                                },
                                {
                                    "szobaazonosító": "9",
                                    "foglalásazonosító": "1220",
                                    "foglalás hossza (nap)": "3",
                                    "adott szobára előző fogalalás hossza": "6"
                                },
                                {
                                    "szobaazonosító": "9",
                                    "foglalásazonosító": "1260",
                                    "foglalás hossza (nap)": "6",
                                    "adott szobára előző fogalalás hossza": "3"
                                },
                                {
                                    "szobaazonosító": "9",
                                    "foglalásazonosító": "1423",
                                    "foglalás hossza (nap)": "3",
                                    "adott szobára előző fogalalás hossza": "6"
                                },
                                {
                                    "szobaazonosító": "9",
                                    "foglalásazonosító": "1537",
                                    "foglalás hossza (nap)": "3",
                                    "adott szobára előző fogalalás hossza": "3"
                                },
                                {
                                    "szobaazonosító": "10",
                                    "foglalásazonosító": "569",
                                    "foglalás hossza (nap)": "3",
                                    "adott szobára előző fogalalás hossza": "0"
                                },
                                {
                                    "szobaazonosító": "10",
                                    "foglalásazonosító": "790",
                                    "foglalás hossza (nap)": "5",
                                    "adott szobára előző fogalalás hossza": "3"
                                },
                                {
                                    "szobaazonosító": "10",
                                    "foglalásazonosító": "795",
                                    "foglalás hossza (nap)": "4",
                                    "adott szobára előző fogalalás hossza": "5"
                                },
                                {
                                    "szobaazonosító": "10",
                                    "foglalásazonosító": "1319",
                                    "foglalás hossza (nap)": "6",
                                    "adott szobára előző fogalalás hossza": "4"
                                },
                                {
                                    "szobaazonosító": "11",
                                    "foglalásazonosító": "918",
                                    "foglalás hossza (nap)": "6",
                                    "adott szobára előző fogalalás hossza": "0"
                                },
                                {
                                    "szobaazonosító": "11",
                                    "foglalásazonosító": "1123",
                                    "foglalás hossza (nap)": "5",
                                    "adott szobára előző fogalalás hossza": "6"
                                },
                                {
                                    "szobaazonosító": "11",
                                    "foglalásazonosító": "1236",
                                    "foglalás hossza (nap)": "1",
                                    "adott szobára előző fogalalás hossza": "5"
                                },
                                {
                                    "szobaazonosító": "11",
                                    "foglalásazonosító": "1523",
                                    "foglalás hossza (nap)": "1",
                                    "adott szobára előző fogalalás hossza": "1"
                                },
                                {
                                    "szobaazonosító": "12",
                                    "foglalásazonosító": "876",
                                    "foglalás hossza (nap)": "7",
                                    "adott szobára előző fogalalás hossza": "0"
                                },
                                {
                                    "szobaazonosító": "12",
                                    "foglalásazonosító": "951",
                                    "foglalás hossza (nap)": "3",
                                    "adott szobára előző fogalalás hossza": "7"
                                },
                                {
                                    "szobaazonosító": "12",
                                    "foglalásazonosító": "970",
                                    "foglalás hossza (nap)": "2",
                                    "adott szobára előző fogalalás hossza": "3"
                                },
                                {
                                    "szobaazonosító": "12",
                                    "foglalásazonosító": "1020",
                                    "foglalás hossza (nap)": "5",
                                    "adott szobára előző fogalalás hossza": "2"
                                },
                                {
                                    "szobaazonosító": "12",
                                    "foglalásazonosító": "697",
                                    "foglalás hossza (nap)": "2",
                                    "adott szobára előző fogalalás hossza": "5"
                                },
                                {
                                    "szobaazonosító": "12",
                                    "foglalásazonosító": "775",
                                    "foglalás hossza (nap)": "4",
                                    "adott szobára előző fogalalás hossza": "2"
                                },
                                {
                                    "szobaazonosító": "12",
                                    "foglalásazonosító": "1140",
                                    "foglalás hossza (nap)": "3",
                                    "adott szobára előző fogalalás hossza": "4"
                                },
                                {
                                    "szobaazonosító": "12",
                                    "foglalásazonosító": "1164",
                                    "foglalás hossza (nap)": "5",
                                    "adott szobára előző fogalalás hossza": "3"
                                },
                                {
                                    "szobaazonosító": "12",
                                    "foglalásazonosító": "1430",
                                    "foglalás hossza (nap)": "2",
                                    "adott szobára előző fogalalás hossza": "5"
                                },
                                {
                                    "szobaazonosító": "13",
                                    "foglalásazonosító": "763",
                                    "foglalás hossza (nap)": "4",
                                    "adott szobára előző fogalalás hossza": "0"
                                },
                                {
                                    "szobaazonosító": "13",
                                    "foglalásazonosító": "1044",
                                    "foglalás hossza (nap)": "6",
                                    "adott szobára előző fogalalás hossza": "4"
                                },
                                {
                                    "szobaazonosító": "13",
                                    "foglalásazonosító": "1347",
                                    "foglalás hossza (nap)": "3",
                                    "adott szobára előző fogalalás hossza": "6"
                                },
                                {
                                    "szobaazonosító": "13",
                                    "foglalásazonosító": "1469",
                                    "foglalás hossza (nap)": "2",
                                    "adott szobára előző fogalalás hossza": "3"
                                },
                                {
                                    "szobaazonosító": "14",
                                    "foglalásazonosító": "663",
                                    "foglalás hossza (nap)": "1",
                                    "adott szobára előző fogalalás hossza": "0"
                                },
                                {
                                    "szobaazonosító": "14",
                                    "foglalásazonosító": "813",
                                    "foglalás hossza (nap)": "3",
                                    "adott szobára előző fogalalás hossza": "1"
                                },
                                {
                                    "szobaazonosító": "14",
                                    "foglalásazonosító": "1542",
                                    "foglalás hossza (nap)": "4",
                                    "adott szobára előző fogalalás hossza": "3"
                                },
                                {
                                    "szobaazonosító": "15",
                                    "foglalásazonosító": "1028",
                                    "foglalás hossza (nap)": "2",
                                    "adott szobára előző fogalalás hossza": "0"
                                },
                                {
                                    "szobaazonosító": "15",
                                    "foglalásazonosító": "791",
                                    "foglalás hossza (nap)": "5",
                                    "adott szobára előző fogalalás hossza": "2"
                                },
                                {
                                    "szobaazonosító": "15",
                                    "foglalásazonosító": "1129",
                                    "foglalás hossza (nap)": "4",
                                    "adott szobára előző fogalalás hossza": "5"
                                },
                                {
                                    "szobaazonosító": "15",
                                    "foglalásazonosító": "1244",
                                    "foglalás hossza (nap)": "1",
                                    "adott szobára előző fogalalás hossza": "4"
                                },
                                {
                                    "szobaazonosító": "15",
                                    "foglalásazonosító": "1418",
                                    "foglalás hossza (nap)": "4",
                                    "adott szobára előző fogalalás hossza": "1"
                                },
                                {
                                    "szobaazonosító": "15",
                                    "foglalásazonosító": "1442",
                                    "foglalás hossza (nap)": "3",
                                    "adott szobára előző fogalalás hossza": "4"
                                },
                                {
                                    "szobaazonosító": "16",
                                    "foglalásazonosító": "856",
                                    "foglalás hossza (nap)": "6",
                                    "adott szobára előző fogalalás hossza": "0"
                                },
                                {
                                    "szobaazonosító": "16",
                                    "foglalásazonosító": "896",
                                    "foglalás hossza (nap)": "1",
                                    "adott szobára előző fogalalás hossza": "6"
                                },
                                {
                                    "szobaazonosító": "16",
                                    "foglalásazonosító": "973",
                                    "foglalás hossza (nap)": "1",
                                    "adott szobára előző fogalalás hossza": "1"
                                },
                                {
                                    "szobaazonosító": "16",
                                    "foglalásazonosító": "687",
                                    "foglalás hossza (nap)": "3",
                                    "adott szobára előző fogalalás hossza": "1"
                                },
                                {
                                    "szobaazonosító": "16",
                                    "foglalásazonosító": "1498",
                                    "foglalás hossza (nap)": "7",
                                    "adott szobára előző fogalalás hossza": "3"
                                },
                                {
                                    "szobaazonosító": "17",
                                    "foglalásazonosító": "602",
                                    "foglalás hossza (nap)": "6",
                                    "adott szobára előző fogalalás hossza": "0"
                                },
                                {
                                    "szobaazonosító": "17",
                                    "foglalásazonosító": "916",
                                    "foglalás hossza (nap)": "2",
                                    "adott szobára előző fogalalás hossza": "6"
                                },
                                {
                                    "szobaazonosító": "17",
                                    "foglalásazonosító": "713",
                                    "foglalás hossza (nap)": "6",
                                    "adott szobára előző fogalalás hossza": "2"
                                },
                                {
                                    "szobaazonosító": "17",
                                    "foglalásazonosító": "744",
                                    "foglalás hossza (nap)": "1",
                                    "adott szobára előző fogalalás hossza": "6"
                                },
                                {
                                    "szobaazonosító": "17",
                                    "foglalásazonosító": "1316",
                                    "foglalás hossza (nap)": "5",
                                    "adott szobára előző fogalalás hossza": "1"
                                },
                                {
                                    "szobaazonosító": "17",
                                    "foglalásazonosító": "1549",
                                    "foglalás hossza (nap)": "3",
                                    "adott szobára előző fogalalás hossza": "5"
                                },
                                {
                                    "szobaazonosító": "18",
                                    "foglalásazonosító": "626",
                                    "foglalás hossza (nap)": "3",
                                    "adott szobára előző fogalalás hossza": "0"
                                },
                                {
                                    "szobaazonosító": "18",
                                    "foglalásazonosító": "767",
                                    "foglalás hossza (nap)": "3",
                                    "adott szobára előző fogalalás hossza": "3"
                                },
                                {
                                    "szobaazonosító": "18",
                                    "foglalásazonosító": "1035",
                                    "foglalás hossza (nap)": "6",
                                    "adott szobára előző fogalalás hossza": "3"
                                },
                                {
                                    "szobaazonosító": "18",
                                    "foglalásazonosító": "1173",
                                    "foglalás hossza (nap)": "6",
                                    "adott szobára előző fogalalás hossza": "6"
                                },
                                {
                                    "szobaazonosító": "18",
                                    "foglalásazonosító": "1198",
                                    "foglalás hossza (nap)": "4",
                                    "adott szobára előző fogalalás hossza": "6"
                                },
                                {
                                    "szobaazonosító": "18",
                                    "foglalásazonosító": "1505",
                                    "foglalás hossza (nap)": "6",
                                    "adott szobára előző fogalalás hossza": "4"
                                },
                                {
                                    "szobaazonosító": "19",
                                    "foglalásazonosító": "948",
                                    "foglalás hossza (nap)": "2",
                                    "adott szobára előző fogalalás hossza": "0"
                                },
                                {
                                    "szobaazonosító": "19",
                                    "foglalásazonosító": "696",
                                    "foglalás hossza (nap)": "1",
                                    "adott szobára előző fogalalás hossza": "2"
                                },
                                {
                                    "szobaazonosító": "19",
                                    "foglalásazonosító": "778",
                                    "foglalás hossza (nap)": "1",
                                    "adott szobára előző fogalalás hossza": "1"
                                },
                                {
                                    "szobaazonosító": "19",
                                    "foglalásazonosító": "1139",
                                    "foglalás hossza (nap)": "7",
                                    "adott szobára előző fogalalás hossza": "1"
                                },
                                {
                                    "szobaazonosító": "19",
                                    "foglalásazonosító": "1237",
                                    "foglalás hossza (nap)": "1",
                                    "adott szobára előző fogalalás hossza": "7"
                                },
                                {
                                    "szobaazonosító": "19",
                                    "foglalásazonosító": "1533",
                                    "foglalás hossza (nap)": "1",
                                    "adott szobára előző fogalalás hossza": "1"
                                },
                                {
                                    "szobaazonosító": "20",
                                    "foglalásazonosító": "755",
                                    "foglalás hossza (nap)": "6",
                                    "adott szobára előző fogalalás hossza": "0"
                                },
                                {
                                    "szobaazonosító": "20",
                                    "foglalásazonosító": "820",
                                    "foglalás hossza (nap)": "1",
                                    "adott szobára előző fogalalás hossza": "6"
                                },
                                {
                                    "szobaazonosító": "20",
                                    "foglalásazonosító": "1070",
                                    "foglalás hossza (nap)": "1",
                                    "adott szobára előző fogalalás hossza": "1"
                                },
                                {
                                    "szobaazonosító": "20",
                                    "foglalásazonosító": "1114",
                                    "foglalás hossza (nap)": "5",
                                    "adott szobára előző fogalalás hossza": "1"
                                },
                                {
                                    "szobaazonosító": "20",
                                    "foglalásazonosító": "1106",
                                    "foglalás hossza (nap)": "2",
                                    "adott szobára előző fogalalás hossza": "5"
                                },
                                {
                                    "szobaazonosító": "21",
                                    "foglalásazonosító": "566",
                                    "foglalás hossza (nap)": "6",
                                    "adott szobára előző fogalalás hossza": "0"
                                },
                                {
                                    "szobaazonosító": "21",
                                    "foglalásazonosító": "660",
                                    "foglalás hossza (nap)": "5",
                                    "adott szobára előző fogalalás hossza": "6"
                                },
                                {
                                    "szobaazonosító": "21",
                                    "foglalásazonosító": "805",
                                    "foglalás hossza (nap)": "1",
                                    "adott szobára előző fogalalás hossza": "5"
                                },
                                {
                                    "szobaazonosító": "21",
                                    "foglalásazonosító": "1212",
                                    "foglalás hossza (nap)": "6",
                                    "adott szobára előző fogalalás hossza": "1"
                                },
                                {
                                    "szobaazonosító": "22",
                                    "foglalásazonosító": "906",
                                    "foglalás hossza (nap)": "1",
                                    "adott szobára előző fogalalás hossza": "0"
                                },
                                {
                                    "szobaazonosító": "22",
                                    "foglalásazonosító": "1005",
                                    "foglalás hossza (nap)": "3",
                                    "adott szobára előző fogalalás hossza": "1"
                                },
                                {
                                    "szobaazonosító": "22",
                                    "foglalásazonosító": "1130",
                                    "foglalás hossza (nap)": "1",
                                    "adott szobára előző fogalalás hossza": "3"
                                },
                                {
                                    "szobaazonosító": "22",
                                    "foglalásazonosító": "1195",
                                    "foglalás hossza (nap)": "6",
                                    "adott szobára előző fogalalás hossza": "1"
                                },
                                {
                                    "szobaazonosító": "22",
                                    "foglalásazonosító": "1206",
                                    "foglalás hossza (nap)": "7",
                                    "adott szobára előző fogalalás hossza": "6"
                                },
                                {
                                    "szobaazonosító": "22",
                                    "foglalásazonosító": "1287",
                                    "foglalás hossza (nap)": "3",
                                    "adott szobára előző fogalalás hossza": "7"
                                },
                                {
                                    "szobaazonosító": "23",
                                    "foglalásazonosító": "934",
                                    "foglalás hossza (nap)": "1",
                                    "adott szobára előző fogalalás hossza": "0"
                                },
                                {
                                    "szobaazonosító": "23",
                                    "foglalásazonosító": "945",
                                    "foglalás hossza (nap)": "7",
                                    "adott szobára előző fogalalás hossza": "1"
                                },
                                {
                                    "szobaazonosító": "23",
                                    "foglalásazonosító": "848",
                                    "foglalás hossza (nap)": "1",
                                    "adott szobára előző fogalalás hossza": "7"
                                },
                                {
                                    "szobaazonosító": "24",
                                    "foglalásazonosító": "852",
                                    "foglalás hossza (nap)": "2",
                                    "adott szobára előző fogalalás hossza": "0"
                                },
                                {
                                    "szobaazonosító": "24",
                                    "foglalásazonosító": "1167",
                                    "foglalás hossza (nap)": "1",
                                    "adott szobára előző fogalalás hossza": "2"
                                },
                                {
                                    "szobaazonosító": "24",
                                    "foglalásazonosító": "1415",
                                    "foglalás hossza (nap)": "3",
                                    "adott szobára előző fogalalás hossza": "1"
                                },
                                {
                                    "szobaazonosító": "25",
                                    "foglalásazonosító": "1052",
                                    "foglalás hossza (nap)": "3",
                                    "adott szobára előző fogalalás hossza": "0"
                                },
                                {
                                    "szobaazonosító": "25",
                                    "foglalásazonosító": "1362",
                                    "foglalás hossza (nap)": "2",
                                    "adott szobára előző fogalalás hossza": "3"
                                },
                                {
                                    "szobaazonosító": "26",
                                    "foglalásazonosító": "1158",
                                    "foglalás hossza (nap)": "2",
                                    "adott szobára előző fogalalás hossza": "0"
                                },
                                {
                                    "szobaazonosító": "26",
                                    "foglalásazonosító": "1388",
                                    "foglalás hossza (nap)": "3",
                                    "adott szobára előző fogalalás hossza": "2"
                                },
                                {
                                    "szobaazonosító": "27",
                                    "foglalásazonosító": "758",
                                    "foglalás hossza (nap)": "3",
                                    "adott szobára előző fogalalás hossza": "0"
                                },
                                {
                                    "szobaazonosító": "27",
                                    "foglalásazonosító": "807",
                                    "foglalás hossza (nap)": "2",
                                    "adott szobára előző fogalalás hossza": "3"
                                },
                                {
                                    "szobaazonosító": "27",
                                    "foglalásazonosító": "1031",
                                    "foglalás hossza (nap)": "2",
                                    "adott szobára előző fogalalás hossza": "2"
                                },
                                {
                                    "szobaazonosító": "27",
                                    "foglalásazonosító": "1082",
                                    "foglalás hossza (nap)": "5",
                                    "adott szobára előző fogalalás hossza": "2"
                                },
                                {
                                    "szobaazonosító": "27",
                                    "foglalásazonosító": "1275",
                                    "foglalás hossza (nap)": "6",
                                    "adott szobára előző fogalalás hossza": "5"
                                },
                                {
                                    "szobaazonosító": "27",
                                    "foglalásazonosító": "1377",
                                    "foglalás hossza (nap)": "1",
                                    "adott szobára előző fogalalás hossza": "6"
                                },
                                {
                                    "szobaazonosító": "27",
                                    "foglalásazonosító": "1476",
                                    "foglalás hossza (nap)": "1",
                                    "adott szobára előző fogalalás hossza": "1"
                                },
                                {
                                    "szobaazonosító": "28",
                                    "foglalásazonosító": "872",
                                    "foglalás hossza (nap)": "5",
                                    "adott szobára előző fogalalás hossza": "0"
                                },
                                {
                                    "szobaazonosító": "28",
                                    "foglalásazonosító": "886",
                                    "foglalás hossza (nap)": "4",
                                    "adott szobára előző fogalalás hossza": "5"
                                },
                                {
                                    "szobaazonosító": "28",
                                    "foglalásazonosító": "901",
                                    "foglalás hossza (nap)": "4",
                                    "adott szobára előző fogalalás hossza": "4"
                                },
                                {
                                    "szobaazonosító": "28",
                                    "foglalásazonosító": "725",
                                    "foglalás hossza (nap)": "5",
                                    "adott szobára előző fogalalás hossza": "4"
                                },
                                {
                                    "szobaazonosító": "28",
                                    "foglalásazonosító": "1150",
                                    "foglalás hossza (nap)": "6",
                                    "adott szobára előző fogalalás hossza": "5"
                                },
                                {
                                    "szobaazonosító": "28",
                                    "foglalásazonosító": "1459",
                                    "foglalás hossza (nap)": "2",
                                    "adott szobára előző fogalalás hossza": "6"
                                },
                                {
                                    "szobaazonosító": "29",
                                    "foglalásazonosító": "611",
                                    "foglalás hossza (nap)": "5",
                                    "adott szobára előző fogalalás hossza": "0"
                                },
                                {
                                    "szobaazonosító": "29",
                                    "foglalásazonosító": "894",
                                    "foglalás hossza (nap)": "1",
                                    "adott szobára előző fogalalás hossza": "5"
                                },
                                {
                                    "szobaazonosító": "29",
                                    "foglalásazonosító": "1076",
                                    "foglalás hossza (nap)": "7",
                                    "adott szobára előző fogalalás hossza": "1"
                                },
                                {
                                    "szobaazonosító": "29",
                                    "foglalásazonosító": "1185",
                                    "foglalás hossza (nap)": "5",
                                    "adott szobára előző fogalalás hossza": "7"
                                },
                                {
                                    "szobaazonosító": "29",
                                    "foglalásazonosító": "1235",
                                    "foglalás hossza (nap)": "7",
                                    "adott szobára előző fogalalás hossza": "5"
                                },
                                {
                                    "szobaazonosító": "29",
                                    "foglalásazonosító": "1568",
                                    "foglalás hossza (nap)": "7",
                                    "adott szobára előző fogalalás hossza": "7"
                                },
                                {
                                    "szobaazonosító": "30",
                                    "foglalásazonosító": "604",
                                    "foglalás hossza (nap)": "2",
                                    "adott szobára előző fogalalás hossza": "0"
                                },
                                {
                                    "szobaazonosító": "30",
                                    "foglalásazonosító": "1023",
                                    "foglalás hossza (nap)": "7",
                                    "adott szobára előző fogalalás hossza": "2"
                                },
                                {
                                    "szobaazonosító": "30",
                                    "foglalásazonosító": "1136",
                                    "foglalás hossza (nap)": "5",
                                    "adott szobára előző fogalalás hossza": "7"
                                },
                                {
                                    "szobaazonosító": "31",
                                    "foglalásazonosító": "598",
                                    "foglalás hossza (nap)": "2",
                                    "adott szobára előző fogalalás hossza": "0"
                                },
                                {
                                    "szobaazonosító": "31",
                                    "foglalásazonosító": "606",
                                    "foglalás hossza (nap)": "1",
                                    "adott szobára előző fogalalás hossza": "2"
                                },
                                {
                                    "szobaazonosító": "31",
                                    "foglalásazonosító": "728",
                                    "foglalás hossza (nap)": "4",
                                    "adott szobára előző fogalalás hossza": "1"
                                },
                                {
                                    "szobaazonosító": "32",
                                    "foglalásazonosító": "920",
                                    "foglalás hossza (nap)": "4",
                                    "adott szobára előző fogalalás hossza": "0"
                                },
                                {
                                    "szobaazonosító": "33",
                                    "foglalásazonosító": "624",
                                    "foglalás hossza (nap)": "6",
                                    "adott szobára előző fogalalás hossza": "0"
                                },
                                {
                                    "szobaazonosító": "33",
                                    "foglalásazonosító": "1012",
                                    "foglalás hossza (nap)": "7",
                                    "adott szobára előző fogalalás hossza": "6"
                                },
                                {
                                    "szobaazonosító": "33",
                                    "foglalásazonosító": "1053",
                                    "foglalás hossza (nap)": "1",
                                    "adott szobára előző fogalalás hossza": "7"
                                },
                                {
                                    "szobaazonosító": "33",
                                    "foglalásazonosító": "1321",
                                    "foglalás hossza (nap)": "4",
                                    "adott szobára előző fogalalás hossza": "1"
                                },
                                {
                                    "szobaazonosító": "33",
                                    "foglalásazonosító": "1344",
                                    "foglalás hossza (nap)": "5",
                                    "adott szobára előző fogalalás hossza": "4"
                                },
                                {
                                    "szobaazonosító": "33",
                                    "foglalásazonosító": "1381",
                                    "foglalás hossza (nap)": "6",
                                    "adott szobára előző fogalalás hossza": "5"
                                },
                                {
                                    "szobaazonosító": "34",
                                    "foglalásazonosító": "870",
                                    "foglalás hossza (nap)": "6",
                                    "adott szobára előző fogalalás hossza": "0"
                                },
                                {
                                    "szobaazonosító": "34",
                                    "foglalásazonosító": "904",
                                    "foglalás hossza (nap)": "2",
                                    "adott szobára előző fogalalás hossza": "6"
                                },
                                {
                                    "szobaazonosító": "34",
                                    "foglalásazonosító": "777",
                                    "foglalás hossza (nap)": "3",
                                    "adott szobára előző fogalalás hossza": "2"
                                },
                                {
                                    "szobaazonosító": "34",
                                    "foglalásazonosító": "821",
                                    "foglalás hossza (nap)": "1",
                                    "adott szobára előző fogalalás hossza": "3"
                                },
                                {
                                    "szobaazonosító": "35",
                                    "foglalásazonosító": "971",
                                    "foglalás hossza (nap)": "3",
                                    "adott szobára előző fogalalás hossza": "0"
                                },
                                {
                                    "szobaazonosító": "35",
                                    "foglalásazonosító": "979",
                                    "foglalás hossza (nap)": "7",
                                    "adott szobára előző fogalalás hossza": "3"
                                },
                                {
                                    "szobaazonosító": "35",
                                    "foglalásazonosító": "686",
                                    "foglalás hossza (nap)": "6",
                                    "adott szobára előző fogalalás hossza": "7"
                                },
                                {
                                    "szobaazonosító": "35",
                                    "foglalásazonosító": "707",
                                    "foglalás hossza (nap)": "2",
                                    "adott szobára előző fogalalás hossza": "6"
                                },
                                {
                                    "szobaazonosító": "35",
                                    "foglalásazonosító": "829",
                                    "foglalás hossza (nap)": "2",
                                    "adott szobára előző fogalalás hossza": "2"
                                },
                                {
                                    "szobaazonosító": "35",
                                    "foglalásazonosító": "1480",
                                    "foglalás hossza (nap)": "37",
                                    "adott szobára előző fogalalás hossza": "2"
                                },
                                {
                                    "szobaazonosító": "35",
                                    "foglalásazonosító": "1411",
                                    "foglalás hossza (nap)": "1",
                                    "adott szobára előző fogalalás hossza": "37"
                                },
                                {
                                    "szobaazonosító": "35",
                                    "foglalásazonosító": "1436",
                                    "foglalás hossza (nap)": "1",
                                    "adott szobára előző fogalalás hossza": "1"
                                },
                                {
                                    "szobaazonosító": "35",
                                    "foglalásazonosító": "1529",
                                    "foglalás hossza (nap)": "4",
                                    "adott szobára előző fogalalás hossza": "1"
                                },
                                {
                                    "szobaazonosító": "36",
                                    "foglalásazonosító": "895",
                                    "foglalás hossza (nap)": "5",
                                    "adott szobára előző fogalalás hossza": "0"
                                },
                                {
                                    "szobaazonosító": "36",
                                    "foglalásazonosító": "919",
                                    "foglalás hossza (nap)": "1",
                                    "adott szobára előző fogalalás hossza": "5"
                                },
                                {
                                    "szobaazonosító": "36",
                                    "foglalásazonosító": "985",
                                    "foglalás hossza (nap)": "6",
                                    "adott szobára előző fogalalás hossza": "1"
                                },
                                {
                                    "szobaazonosító": "36",
                                    "foglalásazonosító": "1003",
                                    "foglalás hossza (nap)": "4",
                                    "adott szobára előző fogalalás hossza": "6"
                                },
                                {
                                    "szobaazonosító": "36",
                                    "foglalásazonosító": "748",
                                    "foglalás hossza (nap)": "2",
                                    "adott szobára előző fogalalás hossza": "4"
                                },
                                {
                                    "szobaazonosító": "36",
                                    "foglalásazonosító": "750",
                                    "foglalás hossza (nap)": "6",
                                    "adott szobára előző fogalalás hossza": "2"
                                },
                                {
                                    "szobaazonosító": "37",
                                    "foglalásazonosító": "688",
                                    "foglalás hossza (nap)": "2",
                                    "adott szobára előző fogalalás hossza": "0"
                                },
                                {
                                    "szobaazonosító": "37",
                                    "foglalásazonosító": "705",
                                    "foglalás hossza (nap)": "4",
                                    "adott szobára előző fogalalás hossza": "2"
                                },
                                {
                                    "szobaazonosító": "37",
                                    "foglalásazonosító": "1335",
                                    "foglalás hossza (nap)": "7",
                                    "adott szobára előző fogalalás hossza": "4"
                                },
                                {
                                    "szobaazonosító": "38",
                                    "foglalásazonosító": "627",
                                    "foglalás hossza (nap)": "6",
                                    "adott szobára előző fogalalás hossza": "0"
                                },
                                {
                                    "szobaazonosító": "38",
                                    "foglalásazonosító": "1033",
                                    "foglalás hossza (nap)": "2",
                                    "adott szobára előző fogalalás hossza": "6"
                                },
                                {
                                    "szobaazonosító": "38",
                                    "foglalásazonosító": "1060",
                                    "foglalás hossza (nap)": "2",
                                    "adott szobára előző fogalalás hossza": "2"
                                },
                                {
                                    "szobaazonosító": "38",
                                    "foglalásazonosító": "1078",
                                    "foglalás hossza (nap)": "7",
                                    "adott szobára előző fogalalás hossza": "2"
                                },
                                {
                                    "szobaazonosító": "38",
                                    "foglalásazonosító": "1351",
                                    "foglalás hossza (nap)": "4",
                                    "adott szobára előző fogalalás hossza": "7"
                                },
                                {
                                    "szobaazonosító": "38",
                                    "foglalásazonosító": "1416",
                                    "foglalás hossza (nap)": "5",
                                    "adott szobára előző fogalalás hossza": "4"
                                },
                                {
                                    "szobaazonosító": "38",
                                    "foglalásazonosító": "1478",
                                    "foglalás hossza (nap)": "4",
                                    "adott szobára előző fogalalás hossza": "5"
                                },
                                {
                                    "szobaazonosító": "38",
                                    "foglalásazonosító": "1556",
                                    "foglalás hossza (nap)": "6",
                                    "adott szobára előző fogalalás hossza": "4"
                                },
                                {
                                    "szobaazonosító": "39",
                                    "foglalásazonosító": "601",
                                    "foglalás hossza (nap)": "6",
                                    "adott szobára előző fogalalás hossza": "0"
                                },
                                {
                                    "szobaazonosító": "39",
                                    "foglalásazonosító": "899",
                                    "foglalás hossza (nap)": "6",
                                    "adott szobára előző fogalalás hossza": "6"
                                },
                                {
                                    "szobaazonosító": "39",
                                    "foglalásazonosító": "1214",
                                    "foglalás hossza (nap)": "5",
                                    "adott szobára előző fogalalás hossza": "6"
                                },
                                {
                                    "szobaazonosító": "39",
                                    "foglalásazonosító": "1380",
                                    "foglalás hossza (nap)": "5",
                                    "adott szobára előző fogalalás hossza": "5"
                                },
                                {
                                    "szobaazonosító": "39",
                                    "foglalásazonosító": "1435",
                                    "foglalás hossza (nap)": "7",
                                    "adott szobára előző fogalalás hossza": "5"
                                },
                                {
                                    "szobaazonosító": "39",
                                    "foglalásazonosító": "1454",
                                    "foglalás hossza (nap)": "1",
                                    "adott szobára előző fogalalás hossza": "7"
                                },
                                {
                                    "szobaazonosító": "39",
                                    "foglalásazonosító": "1538",
                                    "foglalás hossza (nap)": "2",
                                    "adott szobára előző fogalalás hossza": "1"
                                },
                                {
                                    "szobaazonosító": "40",
                                    "foglalásazonosító": "924",
                                    "foglalás hossza (nap)": "5",
                                    "adott szobára előző fogalalás hossza": "0"
                                },
                                {
                                    "szobaazonosító": "40",
                                    "foglalásazonosító": "932",
                                    "foglalás hossza (nap)": "6",
                                    "adott szobára előző fogalalás hossza": "5"
                                },
                                {
                                    "szobaazonosító": "40",
                                    "foglalásazonosító": "1018",
                                    "foglalás hossza (nap)": "5",
                                    "adott szobára előző fogalalás hossza": "6"
                                },
                                {
                                    "szobaazonosító": "40",
                                    "foglalásazonosító": "1118",
                                    "foglalás hossza (nap)": "5",
                                    "adott szobára előző fogalalás hossza": "5"
                                },
                                {
                                    "szobaazonosító": "41",
                                    "foglalásazonosító": "960",
                                    "foglalás hossza (nap)": "6",
                                    "adott szobára előző fogalalás hossza": "0"
                                },
                                {
                                    "szobaazonosító": "41",
                                    "foglalásazonosító": "1144",
                                    "foglalás hossza (nap)": "1",
                                    "adott szobára előző fogalalás hossza": "6"
                                },
                                {
                                    "szobaazonosító": "42",
                                    "foglalásazonosító": "561",
                                    "foglalás hossza (nap)": "4",
                                    "adott szobára előző fogalalás hossza": "0"
                                },
                                {
                                    "szobaazonosító": "42",
                                    "foglalásazonosító": "590",
                                    "foglalás hossza (nap)": "5",
                                    "adott szobára előző fogalalás hossza": "4"
                                },
                                {
                                    "szobaazonosító": "42",
                                    "foglalásazonosító": "851",
                                    "foglalás hossza (nap)": "7",
                                    "adott szobára előző fogalalás hossza": "5"
                                },
                                {
                                    "szobaazonosító": "42",
                                    "foglalásazonosító": "770",
                                    "foglalás hossza (nap)": "3",
                                    "adott szobára előző fogalalás hossza": "7"
                                },
                                {
                                    "szobaazonosító": "42",
                                    "foglalásazonosító": "1309",
                                    "foglalás hossza (nap)": "2",
                                    "adott szobára előző fogalalás hossza": "3"
                                },
                                {
                                    "szobaazonosító": "42",
                                    "foglalásazonosító": "1444",
                                    "foglalás hossza (nap)": "6",
                                    "adott szobára előző fogalalás hossza": "2"
                                },
                                {
                                    "szobaazonosító": "43",
                                    "foglalásazonosító": "1019",
                                    "foglalás hossza (nap)": "4",
                                    "adott szobára előző fogalalás hossza": "0"
                                },
                                {
                                    "szobaazonosító": "43",
                                    "foglalásazonosító": "670",
                                    "foglalás hossza (nap)": "4",
                                    "adott szobára előző fogalalás hossza": "4"
                                },
                                {
                                    "szobaazonosító": "43",
                                    "foglalásazonosító": "1088",
                                    "foglalás hossza (nap)": "2",
                                    "adott szobára előző fogalalás hossza": "4"
                                },
                                {
                                    "szobaazonosító": "43",
                                    "foglalásazonosító": "1207",
                                    "foglalás hossza (nap)": "1",
                                    "adott szobára előző fogalalás hossza": "2"
                                },
                                {
                                    "szobaazonosító": "43",
                                    "foglalásazonosító": "1227",
                                    "foglalás hossza (nap)": "5",
                                    "adott szobára előző fogalalás hossza": "1"
                                },
                                {
                                    "szobaazonosító": "43",
                                    "foglalásazonosító": "1270",
                                    "foglalás hossza (nap)": "4",
                                    "adott szobára előző fogalalás hossza": "5"
                                },
                                {
                                    "szobaazonosító": "43",
                                    "foglalásazonosító": "1524",
                                    "foglalás hossza (nap)": "1",
                                    "adott szobára előző fogalalás hossza": "4"
                                },
                                {
                                    "szobaazonosító": "43",
                                    "foglalásazonosító": "1553",
                                    "foglalás hossza (nap)": "5",
                                    "adott szobára előző fogalalás hossza": "1"
                                },
                                {
                                    "szobaazonosító": "44",
                                    "foglalásazonosító": "589",
                                    "foglalás hossza (nap)": "2",
                                    "adott szobára előző fogalalás hossza": "0"
                                },
                                {
                                    "szobaazonosító": "44",
                                    "foglalásazonosító": "658",
                                    "foglalás hossza (nap)": "6",
                                    "adott szobára előző fogalalás hossza": "2"
                                },
                                {
                                    "szobaazonosító": "44",
                                    "foglalásazonosító": "823",
                                    "foglalás hossza (nap)": "2",
                                    "adott szobára előző fogalalás hossza": "6"
                                },
                                {
                                    "szobaazonosító": "44",
                                    "foglalásazonosító": "1295",
                                    "foglalás hossza (nap)": "2",
                                    "adott szobára előző fogalalás hossza": "2"
                                },
                                {
                                    "szobaazonosító": "44",
                                    "foglalásazonosító": "1425",
                                    "foglalás hossza (nap)": "2",
                                    "adott szobára előző fogalalás hossza": "2"
                                },
                                {
                                    "szobaazonosító": "44",
                                    "foglalásazonosító": "1552",
                                    "foglalás hossza (nap)": "2",
                                    "adott szobára előző fogalalás hossza": "2"
                                },
                                {
                                    "szobaazonosító": "45",
                                    "foglalásazonosító": "802",
                                    "foglalás hossza (nap)": "7",
                                    "adott szobára előző fogalalás hossza": "0"
                                },
                                {
                                    "szobaazonosító": "45",
                                    "foglalásazonosító": "800",
                                    "foglalás hossza (nap)": "5",
                                    "adott szobára előző fogalalás hossza": "7"
                                },
                                {
                                    "szobaazonosító": "45",
                                    "foglalásazonosító": "846",
                                    "foglalás hossza (nap)": "3",
                                    "adott szobára előző fogalalás hossza": "5"
                                },
                                {
                                    "szobaazonosító": "45",
                                    "foglalásazonosító": "1135",
                                    "foglalás hossza (nap)": "3",
                                    "adott szobára előző fogalalás hossza": "3"
                                },
                                {
                                    "szobaazonosító": "45",
                                    "foglalásazonosító": "1303",
                                    "foglalás hossza (nap)": "2",
                                    "adott szobára előző fogalalás hossza": "3"
                                },
                                {
                                    "szobaazonosító": "46",
                                    "foglalásazonosító": "752",
                                    "foglalás hossza (nap)": "5",
                                    "adott szobára előző fogalalás hossza": "0"
                                },
                                {
                                    "szobaazonosító": "46",
                                    "foglalásazonosító": "1187",
                                    "foglalás hossza (nap)": "7",
                                    "adott szobára előző fogalalás hossza": "5"
                                },
                                {
                                    "szobaazonosító": "46",
                                    "foglalásazonosító": "1291",
                                    "foglalás hossza (nap)": "3",
                                    "adott szobára előző fogalalás hossza": "7"
                                },
                                {
                                    "szobaazonosító": "46",
                                    "foglalásazonosító": "1515",
                                    "foglalás hossza (nap)": "4",
                                    "adott szobára előző fogalalás hossza": "3"
                                },
                                {
                                    "szobaazonosító": "47",
                                    "foglalásazonosító": "955",
                                    "foglalás hossza (nap)": "1",
                                    "adott szobára előző fogalalás hossza": "0"
                                },
                                {
                                    "szobaazonosító": "47",
                                    "foglalásazonosító": "1056",
                                    "foglalás hossza (nap)": "7",
                                    "adott szobára előző fogalalás hossza": "1"
                                },
                                {
                                    "szobaazonosító": "48",
                                    "foglalásazonosító": "603",
                                    "foglalás hossza (nap)": "3",
                                    "adott szobára előző fogalalás hossza": "0"
                                },
                                {
                                    "szobaazonosító": "48",
                                    "foglalásazonosító": "628",
                                    "foglalás hossza (nap)": "2",
                                    "adott szobára előző fogalalás hossza": "3"
                                },
                                {
                                    "szobaazonosító": "48",
                                    "foglalásazonosító": "914",
                                    "foglalás hossza (nap)": "5",
                                    "adott szobára előző fogalalás hossza": "2"
                                },
                                {
                                    "szobaazonosító": "48",
                                    "foglalásazonosító": "986",
                                    "foglalás hossza (nap)": "5",
                                    "adott szobára előző fogalalás hossza": "5"
                                },
                                {
                                    "szobaazonosító": "48",
                                    "foglalásazonosító": "824",
                                    "foglalás hossza (nap)": "2",
                                    "adott szobára előző fogalalás hossza": "5"
                                },
                                {
                                    "szobaazonosító": "48",
                                    "foglalásazonosító": "1243",
                                    "foglalás hossza (nap)": "6",
                                    "adott szobára előző fogalalás hossza": "2"
                                },
                                {
                                    "szobaazonosító": "48",
                                    "foglalásazonosító": "1546",
                                    "foglalás hossza (nap)": "3",
                                    "adott szobára előző fogalalás hossza": "6"
                                },
                                {
                                    "szobaazonosító": "48",
                                    "foglalásazonosító": "1547",
                                    "foglalás hossza (nap)": "1",
                                    "adott szobára előző fogalalás hossza": "3"
                                },
                                {
                                    "szobaazonosító": "48",
                                    "foglalásazonosító": "1581",
                                    "foglalás hossza (nap)": "5",
                                    "adott szobára előző fogalalás hossza": "1"
                                },
                                {
                                    "szobaazonosító": "49",
                                    "foglalásazonosító": "888",
                                    "foglalás hossza (nap)": "7",
                                    "adott szobára előző fogalalás hossza": "0"
                                },
                                {
                                    "szobaazonosító": "49",
                                    "foglalásazonosító": "793",
                                    "foglalás hossza (nap)": "6",
                                    "adott szobára előző fogalalás hossza": "7"
                                },
                                {
                                    "szobaazonosító": "49",
                                    "foglalásazonosító": "826",
                                    "foglalás hossza (nap)": "4",
                                    "adott szobára előző fogalalás hossza": "6"
                                },
                                {
                                    "szobaazonosító": "49",
                                    "foglalásazonosító": "1066",
                                    "foglalás hossza (nap)": "7",
                                    "adott szobára előző fogalalás hossza": "4"
                                },
                                {
                                    "szobaazonosító": "49",
                                    "foglalásazonosító": "1200",
                                    "foglalás hossza (nap)": "7",
                                    "adott szobára előző fogalalás hossza": "7"
                                },
                                {
                                    "szobaazonosító": "49",
                                    "foglalásazonosító": "1221",
                                    "foglalás hossza (nap)": "2",
                                    "adott szobára előző fogalalás hossza": "7"
                                },
                                {
                                    "szobaazonosító": "49",
                                    "foglalásazonosító": "1536",
                                    "foglalás hossza (nap)": "6",
                                    "adott szobára előző fogalalás hossza": "2"
                                },
                                {
                                    "szobaazonosító": "50",
                                    "foglalásazonosító": "787",
                                    "foglalás hossza (nap)": "3",
                                    "adott szobára előző fogalalás hossza": "0"
                                },
                                {
                                    "szobaazonosító": "50",
                                    "foglalásazonosító": "1063",
                                    "foglalás hossza (nap)": "2",
                                    "adott szobára előző fogalalás hossza": "3"
                                },
                                {
                                    "szobaazonosító": "50",
                                    "foglalásazonosító": "1224",
                                    "foglalás hossza (nap)": "1",
                                    "adott szobára előző fogalalás hossza": "2"
                                },
                                {
                                    "szobaazonosító": "50",
                                    "foglalásazonosító": "1272",
                                    "foglalás hossza (nap)": "1",
                                    "adott szobára előző fogalalás hossza": "1"
                                },
                                {
                                    "szobaazonosító": "51",
                                    "foglalásazonosító": "865",
                                    "foglalás hossza (nap)": "7",
                                    "adott szobára előző fogalalás hossza": "0"
                                },
                                {
                                    "szobaazonosító": "51",
                                    "foglalásazonosító": "811",
                                    "foglalás hossza (nap)": "2",
                                    "adott szobára előző fogalalás hossza": "7"
                                },
                                {
                                    "szobaazonosító": "51",
                                    "foglalásazonosító": "1165",
                                    "foglalás hossza (nap)": "5",
                                    "adott szobára előző fogalalás hossza": "2"
                                },
                                {
                                    "szobaazonosító": "51",
                                    "foglalásazonosító": "1477",
                                    "foglalás hossza (nap)": "6",
                                    "adott szobára előző fogalalás hossza": "5"
                                },
                                {
                                    "szobaazonosító": "51",
                                    "foglalásazonosító": "1550",
                                    "foglalás hossza (nap)": "1",
                                    "adott szobára előző fogalalás hossza": "6"
                                },
                                {
                                    "szobaazonosító": "52",
                                    "foglalásazonosító": "822",
                                    "foglalás hossza (nap)": "7",
                                    "adott szobára előző fogalalás hossza": "0"
                                },
                                {
                                    "szobaazonosító": "52",
                                    "foglalásazonosító": "1202",
                                    "foglalás hossza (nap)": "2",
                                    "adott szobára előző fogalalás hossza": "7"
                                },
                                {
                                    "szobaazonosító": "52",
                                    "foglalásazonosító": "1258",
                                    "foglalás hossza (nap)": "5",
                                    "adott szobára előző fogalalás hossza": "2"
                                },
                                {
                                    "szobaazonosító": "52",
                                    "foglalásazonosító": "1431",
                                    "foglalás hossza (nap)": "5",
                                    "adott szobára előző fogalalás hossza": "5"
                                },
                                {
                                    "szobaazonosító": "52",
                                    "foglalásazonosító": "1534",
                                    "foglalás hossza (nap)": "5",
                                    "adott szobára előző fogalalás hossza": "5"
                                },
                                {
                                    "szobaazonosító": "53",
                                    "foglalásazonosító": "855",
                                    "foglalás hossza (nap)": "1",
                                    "adott szobára előző fogalalás hossza": "0"
                                },
                                {
                                    "szobaazonosító": "53",
                                    "foglalásazonosító": "987",
                                    "foglalás hossza (nap)": "4",
                                    "adott szobára előző fogalalás hossza": "1"
                                },
                                {
                                    "szobaazonosító": "54",
                                    "foglalásazonosító": "622",
                                    "foglalás hossza (nap)": "7",
                                    "adott szobára előző fogalalás hossza": "0"
                                },
                                {
                                    "szobaazonosító": "54",
                                    "foglalásazonosító": "642",
                                    "foglalás hossza (nap)": "5",
                                    "adott szobára előző fogalalás hossza": "7"
                                },
                                {
                                    "szobaazonosító": "54",
                                    "foglalásazonosító": "889",
                                    "foglalás hossza (nap)": "2",
                                    "adott szobára előző fogalalás hossza": "5"
                                },
                                {
                                    "szobaazonosító": "54",
                                    "foglalásazonosító": "668",
                                    "foglalás hossza (nap)": "1",
                                    "adott szobára előző fogalalás hossza": "2"
                                },
                                {
                                    "szobaazonosító": "54",
                                    "foglalásazonosító": "1096",
                                    "foglalás hossza (nap)": "4",
                                    "adott szobára előző fogalalás hossza": "1"
                                },
                                {
                                    "szobaazonosító": "54",
                                    "foglalásazonosító": "1328",
                                    "foglalás hossza (nap)": "4",
                                    "adott szobára előző fogalalás hossza": "4"
                                },
                                {
                                    "szobaazonosító": "55",
                                    "foglalásazonosító": "734",
                                    "foglalás hossza (nap)": "6",
                                    "adott szobára előző fogalalás hossza": "0"
                                },
                                {
                                    "szobaazonosító": "55",
                                    "foglalásazonosító": "1086",
                                    "foglalás hossza (nap)": "5",
                                    "adott szobára előző fogalalás hossza": "6"
                                },
                                {
                                    "szobaazonosító": "55",
                                    "foglalásazonosító": "1163",
                                    "foglalás hossza (nap)": "2",
                                    "adott szobára előző fogalalás hossza": "5"
                                },
                                {
                                    "szobaazonosító": "55",
                                    "foglalásazonosító": "1232",
                                    "foglalás hossza (nap)": "7",
                                    "adott szobára előző fogalalás hossza": "2"
                                },
                                {
                                    "szobaazonosító": "55",
                                    "foglalásazonosító": "1327",
                                    "foglalás hossza (nap)": "6",
                                    "adott szobára előző fogalalás hossza": "7"
                                },
                                {
                                    "szobaazonosító": "55",
                                    "foglalásazonosító": "1386",
                                    "foglalás hossza (nap)": "2",
                                    "adott szobára előző fogalalás hossza": "6"
                                },
                                {
                                    "szobaazonosító": "55",
                                    "foglalásazonosító": "1512",
                                    "foglalás hossza (nap)": "1",
                                    "adott szobára előző fogalalás hossza": "2"
                                },
                                {
                                    "szobaazonosító": "55",
                                    "foglalásazonosító": "1520",
                                    "foglalás hossza (nap)": "1",
                                    "adott szobára előző fogalalás hossza": "1"
                                },
                                {
                                    "szobaazonosító": "56",
                                    "foglalásazonosító": "935",
                                    "foglalás hossza (nap)": "4",
                                    "adott szobára előző fogalalás hossza": "0"
                                },
                                {
                                    "szobaazonosító": "56",
                                    "foglalásazonosító": "838",
                                    "foglalás hossza (nap)": "2",
                                    "adott szobára előző fogalalás hossza": "4"
                                },
                                {
                                    "szobaazonosító": "57",
                                    "foglalásazonosító": "1348",
                                    "foglalás hossza (nap)": "1",
                                    "adott szobára előző fogalalás hossza": "0"
                                },
                                {
                                    "szobaazonosító": "57",
                                    "foglalásazonosító": "1389",
                                    "foglalás hossza (nap)": "1",
                                    "adott szobára előző fogalalás hossza": "1"
                                },
                                {
                                    "szobaazonosító": "57",
                                    "foglalásazonosító": "1466",
                                    "foglalás hossza (nap)": "7",
                                    "adott szobára előző fogalalás hossza": "1"
                                },
                                {
                                    "szobaazonosító": "57",
                                    "foglalásazonosító": "1504",
                                    "foglalás hossza (nap)": "4",
                                    "adott szobára előző fogalalás hossza": "7"
                                },
                                {
                                    "szobaazonosító": "58",
                                    "foglalásazonosító": "883",
                                    "foglalás hossza (nap)": "5",
                                    "adott szobára előző fogalalás hossza": "0"
                                },
                                {
                                    "szobaazonosító": "58",
                                    "foglalásazonosító": "719",
                                    "foglalás hossza (nap)": "3",
                                    "adott szobára előző fogalalás hossza": "5"
                                },
                                {
                                    "szobaazonosító": "58",
                                    "foglalásazonosító": "773",
                                    "foglalás hossza (nap)": "2",
                                    "adott szobára előző fogalalás hossza": "3"
                                },
                                {
                                    "szobaazonosító": "58",
                                    "foglalásazonosító": "1113",
                                    "foglalás hossza (nap)": "3",
                                    "adott szobára előző fogalalás hossza": "2"
                                },
                                {
                                    "szobaazonosító": "58",
                                    "foglalásazonosító": "1186",
                                    "foglalás hossza (nap)": "6",
                                    "adott szobára előző fogalalás hossza": "3"
                                },
                                {
                                    "szobaazonosító": "58",
                                    "foglalásazonosító": "1208",
                                    "foglalás hossza (nap)": "6",
                                    "adott szobára előző fogalalás hossza": "6"
                                },
                                {
                                    "szobaazonosító": "58",
                                    "foglalásazonosító": "1255",
                                    "foglalás hossza (nap)": "7",
                                    "adott szobára előző fogalalás hossza": "6"
                                },
                                {
                                    "szobaazonosító": "58",
                                    "foglalásazonosító": "1261",
                                    "foglalás hossza (nap)": "6",
                                    "adott szobára előző fogalalás hossza": "7"
                                },
                                {
                                    "szobaazonosító": "58",
                                    "foglalásazonosító": "1285",
                                    "foglalás hossza (nap)": "7",
                                    "adott szobára előző fogalalás hossza": "6"
                                },
                                {
                                    "szobaazonosító": "58",
                                    "foglalásazonosító": "1293",
                                    "foglalás hossza (nap)": "3",
                                    "adott szobára előző fogalalás hossza": "7"
                                },
                                {
                                    "szobaazonosító": "58",
                                    "foglalásazonosító": "1307",
                                    "foglalás hossza (nap)": "6",
                                    "adott szobára előző fogalalás hossza": "3"
                                },
                                {
                                    "szobaazonosító": "58",
                                    "foglalásazonosító": "1322",
                                    "foglalás hossza (nap)": "3",
                                    "adott szobára előző fogalalás hossza": "6"
                                },
                                {
                                    "szobaazonosító": "58",
                                    "foglalásazonosító": "1451",
                                    "foglalás hossza (nap)": "6",
                                    "adott szobára előző fogalalás hossza": "3"
                                },
                                {
                                    "szobaazonosító": "59",
                                    "foglalásazonosító": "1080",
                                    "foglalás hossza (nap)": "1",
                                    "adott szobára előző fogalalás hossza": "0"
                                },
                                {
                                    "szobaazonosító": "59",
                                    "foglalásazonosító": "1084",
                                    "foglalás hossza (nap)": "2",
                                    "adott szobára előző fogalalás hossza": "1"
                                },
                                {
                                    "szobaazonosító": "59",
                                    "foglalásazonosító": "1170",
                                    "foglalás hossza (nap)": "5",
                                    "adott szobára előző fogalalás hossza": "2"
                                },
                                {
                                    "szobaazonosító": "59",
                                    "foglalásazonosító": "1191",
                                    "foglalás hossza (nap)": "6",
                                    "adott szobára előző fogalalás hossza": "5"
                                },
                                {
                                    "szobaazonosító": "59",
                                    "foglalásazonosító": "1239",
                                    "foglalás hossza (nap)": "2",
                                    "adott szobára előző fogalalás hossza": "6"
                                },
                                {
                                    "szobaazonosító": "59",
                                    "foglalásazonosító": "1288",
                                    "foglalás hossza (nap)": "3",
                                    "adott szobára előző fogalalás hossza": "2"
                                },
                                {
                                    "szobaazonosító": "59",
                                    "foglalásazonosító": "1573",
                                    "foglalás hossza (nap)": "1",
                                    "adott szobára előző fogalalás hossza": "3"
                                },
                                {
                                    "szobaazonosító": "60",
                                    "foglalásazonosító": "676",
                                    "foglalás hossza (nap)": "2",
                                    "adott szobára előző fogalalás hossza": "0"
                                },
                                {
                                    "szobaazonosító": "61",
                                    "foglalásazonosító": "701",
                                    "foglalás hossza (nap)": "2",
                                    "adott szobára előző fogalalás hossza": "0"
                                },
                                {
                                    "szobaazonosító": "61",
                                    "foglalásazonosító": "756",
                                    "foglalás hossza (nap)": "6",
                                    "adott szobára előző fogalalás hossza": "2"
                                },
                                {
                                    "szobaazonosító": "61",
                                    "foglalásazonosító": "1148",
                                    "foglalás hossza (nap)": "3",
                                    "adott szobára előző fogalalás hossza": "6"
                                },
                                {
                                    "szobaazonosító": "61",
                                    "foglalásazonosító": "1218",
                                    "foglalás hossza (nap)": "2",
                                    "adott szobára előző fogalalás hossza": "3"
                                },
                                {
                                    "szobaazonosító": "61",
                                    "foglalásazonosító": "1496",
                                    "foglalás hossza (nap)": "7",
                                    "adott szobára előző fogalalás hossza": "2"
                                },
                                {
                                    "szobaazonosító": "62",
                                    "foglalásazonosító": "936",
                                    "foglalás hossza (nap)": "3",
                                    "adott szobára előző fogalalás hossza": "0"
                                },
                                {
                                    "szobaazonosító": "62",
                                    "foglalásazonosító": "938",
                                    "foglalás hossza (nap)": "1",
                                    "adott szobára előző fogalalás hossza": "3"
                                },
                                {
                                    "szobaazonosító": "62",
                                    "foglalásazonosító": "702",
                                    "foglalás hossza (nap)": "5",
                                    "adott szobára előző fogalalás hossza": "1"
                                },
                                {
                                    "szobaazonosító": "62",
                                    "foglalásazonosító": "1081",
                                    "foglalás hossza (nap)": "7",
                                    "adott szobára előző fogalalás hossza": "5"
                                },
                                {
                                    "szobaazonosító": "62",
                                    "foglalásazonosító": "1426",
                                    "foglalás hossza (nap)": "4",
                                    "adott szobára előző fogalalás hossza": "7"
                                },
                                {
                                    "szobaazonosító": "63",
                                    "foglalásazonosító": "625",
                                    "foglalás hossza (nap)": "3",
                                    "adott szobára előző fogalalás hossza": "0"
                                },
                                {
                                    "szobaazonosító": "63",
                                    "foglalásazonosító": "891",
                                    "foglalás hossza (nap)": "6",
                                    "adott szobára előző fogalalás hossza": "3"
                                },
                                {
                                    "szobaazonosító": "63",
                                    "foglalásazonosító": "769",
                                    "foglalás hossza (nap)": "5",
                                    "adott szobára előző fogalalás hossza": "6"
                                },
                                {
                                    "szobaazonosító": "63",
                                    "foglalásazonosító": "845",
                                    "foglalás hossza (nap)": "1",
                                    "adott szobára előző fogalalás hossza": "5"
                                },
                                {
                                    "szobaazonosító": "64",
                                    "foglalásazonosító": "875",
                                    "foglalás hossza (nap)": "2",
                                    "adott szobára előző fogalalás hossza": "0"
                                },
                                {
                                    "szobaazonosító": "64",
                                    "foglalásazonosító": "1122",
                                    "foglalás hossza (nap)": "4",
                                    "adott szobára előző fogalalás hossza": "2"
                                },
                                {
                                    "szobaazonosító": "64",
                                    "foglalásazonosító": "1233",
                                    "foglalás hossza (nap)": "7",
                                    "adott szobára előző fogalalás hossza": "4"
                                },
                                {
                                    "szobaazonosító": "64",
                                    "foglalásazonosító": "1446",
                                    "foglalás hossza (nap)": "6",
                                    "adott szobára előző fogalalás hossza": "7"
                                },
                                {
                                    "szobaazonosító": "64",
                                    "foglalásazonosító": "1465",
                                    "foglalás hossza (nap)": "4",
                                    "adott szobára előző fogalalás hossza": "6"
                                },
                                {
                                    "szobaazonosító": "64",
                                    "foglalásazonosító": "1582",
                                    "foglalás hossza (nap)": "1",
                                    "adott szobára előző fogalalás hossza": "4"
                                },
                                {
                                    "szobaazonosító": "65",
                                    "foglalásazonosító": "650",
                                    "foglalás hossza (nap)": "6",
                                    "adott szobára előző fogalalás hossza": "0"
                                },
                                {
                                    "szobaazonosító": "66",
                                    "foglalásazonosító": "950",
                                    "foglalás hossza (nap)": "3",
                                    "adott szobára előző fogalalás hossza": "0"
                                },
                                {
                                    "szobaazonosító": "66",
                                    "foglalásazonosító": "736",
                                    "foglalás hossza (nap)": "3",
                                    "adott szobára előző fogalalás hossza": "3"
                                },
                                {
                                    "szobaazonosító": "66",
                                    "foglalásazonosító": "1234",
                                    "foglalás hossza (nap)": "3",
                                    "adott szobára előző fogalalás hossza": "3"
                                },
                                {
                                    "szobaazonosító": "66",
                                    "foglalásazonosító": "1264",
                                    "foglalás hossza (nap)": "4",
                                    "adott szobára előző fogalalás hossza": "3"
                                },
                                {
                                    "szobaazonosító": "67",
                                    "foglalásazonosító": "638",
                                    "foglalás hossza (nap)": "5",
                                    "adott szobára előző fogalalás hossza": "0"
                                },
                                {
                                    "szobaazonosító": "67",
                                    "foglalásazonosító": "645",
                                    "foglalás hossza (nap)": "6",
                                    "adott szobára előző fogalalás hossza": "5"
                                },
                                {
                                    "szobaazonosító": "67",
                                    "foglalásazonosító": "874",
                                    "foglalás hossza (nap)": "6",
                                    "adott szobára előző fogalalás hossza": "6"
                                },
                                {
                                    "szobaazonosító": "67",
                                    "foglalásazonosító": "1382",
                                    "foglalás hossza (nap)": "1",
                                    "adott szobára előző fogalalás hossza": "6"
                                },
                                {
                                    "szobaazonosító": "67",
                                    "foglalásazonosító": "1580",
                                    "foglalás hossza (nap)": "5",
                                    "adott szobára előző fogalalás hossza": "1"
                                },
                                {
                                    "szobaazonosító": "67",
                                    "foglalásazonosító": "1584",
                                    "foglalás hossza (nap)": "1",
                                    "adott szobára előző fogalalás hossza": "5"
                                },
                                {
                                    "szobaazonosító": "68",
                                    "foglalásazonosító": "563",
                                    "foglalás hossza (nap)": "5",
                                    "adott szobára előző fogalalás hossza": "0"
                                },
                                {
                                    "szobaazonosító": "68",
                                    "foglalásazonosító": "1027",
                                    "foglalás hossza (nap)": "7",
                                    "adott szobára előző fogalalás hossza": "5"
                                },
                                {
                                    "szobaazonosító": "68",
                                    "foglalásazonosító": "1324",
                                    "foglalás hossza (nap)": "4",
                                    "adott szobára előző fogalalás hossza": "7"
                                },
                                {
                                    "szobaazonosító": "69",
                                    "foglalásazonosító": "885",
                                    "foglalás hossza (nap)": "1",
                                    "adott szobára előző fogalalás hossza": "0"
                                },
                                {
                                    "szobaazonosító": "69",
                                    "foglalásazonosító": "1055",
                                    "foglalás hossza (nap)": "5",
                                    "adott szobára előző fogalalás hossza": "1"
                                },
                                {
                                    "szobaazonosító": "69",
                                    "foglalásazonosító": "1225",
                                    "foglalás hossza (nap)": "5",
                                    "adott szobára előző fogalalás hossza": "5"
                                },
                                {
                                    "szobaazonosító": "69",
                                    "foglalásazonosító": "1246",
                                    "foglalás hossza (nap)": "7",
                                    "adott szobára előző fogalalás hossza": "5"
                                },
                                {
                                    "szobaazonosító": "70",
                                    "foglalásazonosító": "585",
                                    "foglalás hossza (nap)": "5",
                                    "adott szobára előző fogalalás hossza": "0"
                                },
                                {
                                    "szobaazonosító": "70",
                                    "foglalásazonosító": "860",
                                    "foglalás hossza (nap)": "2",
                                    "adott szobára előző fogalalás hossza": "5"
                                },
                                {
                                    "szobaazonosító": "70",
                                    "foglalásazonosító": "1006",
                                    "foglalás hossza (nap)": "3",
                                    "adott szobára előző fogalalás hossza": "2"
                                },
                                {
                                    "szobaazonosító": "70",
                                    "foglalásazonosító": "704",
                                    "foglalás hossza (nap)": "3",
                                    "adott szobára előző fogalalás hossza": "3"
                                },
                                {
                                    "szobaazonosító": "70",
                                    "foglalásazonosító": "814",
                                    "foglalás hossza (nap)": "3",
                                    "adott szobára előző fogalalás hossza": "3"
                                },
                                {
                                    "szobaazonosító": "70",
                                    "foglalásazonosító": "1092",
                                    "foglalás hossza (nap)": "3",
                                    "adott szobára előző fogalalás hossza": "3"
                                },
                                {
                                    "szobaazonosító": "70",
                                    "foglalásazonosító": "1126",
                                    "foglalás hossza (nap)": "3",
                                    "adott szobára előző fogalalás hossza": "3"
                                },
                                {
                                    "szobaazonosító": "70",
                                    "foglalásazonosító": "1325",
                                    "foglalás hossza (nap)": "7",
                                    "adott szobára előző fogalalás hossza": "3"
                                },
                                {
                                    "szobaazonosító": "70",
                                    "foglalásazonosító": "1333",
                                    "foglalás hossza (nap)": "6",
                                    "adott szobára előző fogalalás hossza": "7"
                                },
                                {
                                    "szobaazonosító": "70",
                                    "foglalásazonosító": "1365",
                                    "foglalás hossza (nap)": "3",
                                    "adott szobára előző fogalalás hossza": "6"
                                },
                                {
                                    "szobaazonosító": "70",
                                    "foglalásazonosító": "1457",
                                    "foglalás hossza (nap)": "7",
                                    "adott szobára előző fogalalás hossza": "3"
                                },
                                {
                                    "szobaazonosító": "71",
                                    "foglalásazonosító": "1009",
                                    "foglalás hossza (nap)": "1",
                                    "adott szobára előző fogalalás hossza": "0"
                                },
                                {
                                    "szobaazonosító": "71",
                                    "foglalásazonosító": "681",
                                    "foglalás hossza (nap)": "3",
                                    "adott szobára előző fogalalás hossza": "1"
                                },
                                {
                                    "szobaazonosító": "71",
                                    "foglalásazonosító": "712",
                                    "foglalás hossza (nap)": "1",
                                    "adott szobára előző fogalalás hossza": "3"
                                },
                                {
                                    "szobaazonosító": "72",
                                    "foglalásazonosító": "902",
                                    "foglalás hossza (nap)": "5",
                                    "adott szobára előző fogalalás hossza": "0"
                                },
                                {
                                    "szobaazonosító": "72",
                                    "foglalásazonosító": "961",
                                    "foglalás hossza (nap)": "6",
                                    "adott szobára előző fogalalás hossza": "5"
                                },
                                {
                                    "szobaazonosító": "72",
                                    "foglalásazonosító": "1318",
                                    "foglalás hossza (nap)": "2",
                                    "adott szobára előző fogalalás hossza": "6"
                                },
                                {
                                    "szobaazonosító": "72",
                                    "foglalásazonosító": "1396",
                                    "foglalás hossza (nap)": "3",
                                    "adott szobára előző fogalalás hossza": "2"
                                },
                                {
                                    "szobaazonosító": "73",
                                    "foglalásazonosító": "1000",
                                    "foglalás hossza (nap)": "4",
                                    "adott szobára előző fogalalás hossza": "0"
                                },
                                {
                                    "szobaazonosító": "73",
                                    "foglalásazonosító": "714",
                                    "foglalás hossza (nap)": "7",
                                    "adott szobára előző fogalalás hossza": "4"
                                },
                                {
                                    "szobaazonosító": "73",
                                    "foglalásazonosító": "1159",
                                    "foglalás hossza (nap)": "5",
                                    "adott szobára előző fogalalás hossza": "7"
                                },
                                {
                                    "szobaazonosító": "73",
                                    "foglalásazonosító": "1331",
                                    "foglalás hossza (nap)": "4",
                                    "adott szobára előző fogalalás hossza": "5"
                                },
                                {
                                    "szobaazonosító": "74",
                                    "foglalásazonosító": "595",
                                    "foglalás hossza (nap)": "7",
                                    "adott szobára előző fogalalás hossza": "0"
                                },
                                {
                                    "szobaazonosító": "74",
                                    "foglalásazonosító": "877",
                                    "foglalás hossza (nap)": "4",
                                    "adott szobára előző fogalalás hossza": "7"
                                },
                                {
                                    "szobaazonosító": "74",
                                    "foglalásazonosító": "940",
                                    "foglalás hossza (nap)": "5",
                                    "adott szobára előző fogalalás hossza": "4"
                                },
                                {
                                    "szobaazonosító": "74",
                                    "foglalásazonosító": "963",
                                    "foglalás hossza (nap)": "1",
                                    "adott szobára előző fogalalás hossza": "5"
                                },
                                {
                                    "szobaazonosító": "74",
                                    "foglalásazonosító": "797",
                                    "foglalás hossza (nap)": "5",
                                    "adott szobára előző fogalalás hossza": "1"
                                },
                                {
                                    "szobaazonosító": "74",
                                    "foglalásazonosító": "830",
                                    "foglalás hossza (nap)": "1",
                                    "adott szobára előző fogalalás hossza": "5"
                                },
                                {
                                    "szobaazonosító": "74",
                                    "foglalásazonosító": "847",
                                    "foglalás hossza (nap)": "3",
                                    "adott szobára előző fogalalás hossza": "1"
                                },
                                {
                                    "szobaazonosító": "74",
                                    "foglalásazonosító": "1093",
                                    "foglalás hossza (nap)": "6",
                                    "adott szobára előző fogalalás hossza": "3"
                                },
                                {
                                    "szobaazonosító": "74",
                                    "foglalásazonosító": "1179",
                                    "foglalás hossza (nap)": "7",
                                    "adott szobára előző fogalalás hossza": "6"
                                },
                                {
                                    "szobaazonosító": "75",
                                    "foglalásazonosító": "1013",
                                    "foglalás hossza (nap)": "5",
                                    "adott szobára előző fogalalás hossza": "0"
                                },
                                {
                                    "szobaazonosító": "75",
                                    "foglalásazonosító": "1412",
                                    "foglalás hossza (nap)": "2",
                                    "adott szobára előző fogalalás hossza": "5"
                                },
                                {
                                    "szobaazonosító": "75",
                                    "foglalásazonosító": "1458",
                                    "foglalás hossza (nap)": "1",
                                    "adott szobára előző fogalalás hossza": "2"
                                },
                                {
                                    "szobaazonosító": "76",
                                    "foglalásazonosító": "976",
                                    "foglalás hossza (nap)": "2",
                                    "adott szobára előző fogalalás hossza": "0"
                                },
                                {
                                    "szobaazonosító": "76",
                                    "foglalásazonosító": "683",
                                    "foglalás hossza (nap)": "7",
                                    "adott szobára előző fogalalás hossza": "2"
                                },
                                {
                                    "szobaazonosító": "76",
                                    "foglalásazonosító": "1557",
                                    "foglalás hossza (nap)": "3",
                                    "adott szobára előző fogalalás hossza": "7"
                                },
                                {
                                    "szobaazonosító": "77",
                                    "foglalásazonosító": "593",
                                    "foglalás hossza (nap)": "3",
                                    "adott szobára előző fogalalás hossza": "0"
                                },
                                {
                                    "szobaazonosító": "77",
                                    "foglalásazonosító": "982",
                                    "foglalás hossza (nap)": "3",
                                    "adott szobára előző fogalalás hossza": "3"
                                },
                                {
                                    "szobaazonosító": "77",
                                    "foglalásazonosító": "698",
                                    "foglalás hossza (nap)": "4",
                                    "adott szobára előző fogalalás hossza": "3"
                                },
                                {
                                    "szobaazonosító": "77",
                                    "foglalásazonosító": "1104",
                                    "foglalás hossza (nap)": "1",
                                    "adott szobára előző fogalalás hossza": "4"
                                },
                                {
                                    "szobaazonosító": "77",
                                    "foglalásazonosító": "1439",
                                    "foglalás hossza (nap)": "6",
                                    "adott szobára előző fogalalás hossza": "1"
                                },
                                {
                                    "szobaazonosító": "77",
                                    "foglalásazonosító": "1461",
                                    "foglalás hossza (nap)": "4",
                                    "adott szobára előző fogalalás hossza": "6"
                                },
                                {
                                    "szobaazonosító": "78",
                                    "foglalásazonosító": "568",
                                    "foglalás hossza (nap)": "1",
                                    "adott szobára előző fogalalás hossza": "0"
                                },
                                {
                                    "szobaazonosító": "78",
                                    "foglalásazonosító": "646",
                                    "foglalás hossza (nap)": "3",
                                    "adott szobára előző fogalalás hossza": "1"
                                },
                                {
                                    "szobaazonosító": "78",
                                    "foglalásazonosító": "700",
                                    "foglalás hossza (nap)": "5",
                                    "adott szobára előző fogalalás hossza": "3"
                                },
                                {
                                    "szobaazonosító": "78",
                                    "foglalásazonosító": "1268",
                                    "foglalás hossza (nap)": "2",
                                    "adott szobára előző fogalalás hossza": "5"
                                },
                                {
                                    "szobaazonosító": "78",
                                    "foglalásazonosító": "1281",
                                    "foglalás hossza (nap)": "3",
                                    "adott szobára előző fogalalás hossza": "2"
                                },
                                {
                                    "szobaazonosító": "78",
                                    "foglalásazonosító": "1577",
                                    "foglalás hossza (nap)": "7",
                                    "adott szobára előző fogalalás hossza": "3"
                                },
                                {
                                    "szobaazonosító": "79",
                                    "foglalásazonosító": "583",
                                    "foglalás hossza (nap)": "6",
                                    "adott szobára előző fogalalás hossza": "0"
                                },
                                {
                                    "szobaazonosító": "79",
                                    "foglalásazonosító": "1054",
                                    "foglalás hossza (nap)": "1",
                                    "adott szobára előző fogalalás hossza": "6"
                                },
                                {
                                    "szobaazonosító": "79",
                                    "foglalásazonosító": "1229",
                                    "foglalás hossza (nap)": "7",
                                    "adott szobára előző fogalalás hossza": "1"
                                },
                                {
                                    "szobaazonosító": "79",
                                    "foglalásazonosító": "1345",
                                    "foglalás hossza (nap)": "3",
                                    "adott szobára előző fogalalás hossza": "7"
                                },
                                {
                                    "szobaazonosító": "79",
                                    "foglalásazonosító": "1447",
                                    "foglalás hossza (nap)": "4",
                                    "adott szobára előző fogalalás hossza": "3"
                                },
                                {
                                    "szobaazonosító": "80",
                                    "foglalásazonosító": "887",
                                    "foglalás hossza (nap)": "6",
                                    "adott szobára előző fogalalás hossza": "0"
                                },
                                {
                                    "szobaazonosító": "80",
                                    "foglalásazonosító": "929",
                                    "foglalás hossza (nap)": "2",
                                    "adott szobára előző fogalalás hossza": "6"
                                },
                                {
                                    "szobaazonosító": "80",
                                    "foglalásazonosító": "983",
                                    "foglalás hossza (nap)": "6",
                                    "adott szobára előző fogalalás hossza": "2"
                                },
                                {
                                    "szobaazonosító": "80",
                                    "foglalásazonosító": "667",
                                    "foglalás hossza (nap)": "6",
                                    "adott szobára előző fogalalás hossza": "6"
                                },
                                {
                                    "szobaazonosító": "80",
                                    "foglalásazonosító": "1071",
                                    "foglalás hossza (nap)": "4",
                                    "adott szobára előző fogalalás hossza": "6"
                                },
                                {
                                    "szobaazonosító": "80",
                                    "foglalásazonosító": "1279",
                                    "foglalás hossza (nap)": "5",
                                    "adott szobára előző fogalalás hossza": "4"
                                },
                                {
                                    "szobaazonosító": "80",
                                    "foglalásazonosító": "1367",
                                    "foglalás hossza (nap)": "3",
                                    "adott szobára előző fogalalás hossza": "5"
                                },
                                {
                                    "szobaazonosító": "81",
                                    "foglalásazonosító": "1366",
                                    "foglalás hossza (nap)": "5",
                                    "adott szobára előző fogalalás hossza": "0"
                                },
                                {
                                    "szobaazonosító": "81",
                                    "foglalásazonosító": "1443",
                                    "foglalás hossza (nap)": "7",
                                    "adott szobára előző fogalalás hossza": "5"
                                },
                                {
                                    "szobaazonosító": "81",
                                    "foglalásazonosító": "1464",
                                    "foglalás hossza (nap)": "7",
                                    "adott szobára előző fogalalás hossza": "7"
                                },
                                {
                                    "szobaazonosító": "81",
                                    "foglalásazonosító": "1506",
                                    "foglalás hossza (nap)": "3",
                                    "adott szobára előző fogalalás hossza": "7"
                                },
                                {
                                    "szobaazonosító": "81",
                                    "foglalásazonosító": "1562",
                                    "foglalás hossza (nap)": "3",
                                    "adott szobára előző fogalalás hossza": "3"
                                },
                                {
                                    "szobaazonosító": "82",
                                    "foglalásazonosító": "862",
                                    "foglalás hossza (nap)": "4",
                                    "adott szobára előző fogalalás hossza": "0"
                                },
                                {
                                    "szobaazonosító": "82",
                                    "foglalásazonosító": "871",
                                    "foglalás hossza (nap)": "5",
                                    "adott szobára előző fogalalás hossza": "4"
                                },
                                {
                                    "szobaazonosító": "82",
                                    "foglalásazonosító": "997",
                                    "foglalás hossza (nap)": "6",
                                    "adott szobára előző fogalalás hossza": "5"
                                },
                                {
                                    "szobaazonosító": "82",
                                    "foglalásazonosító": "1277",
                                    "foglalás hossza (nap)": "5",
                                    "adott szobára előző fogalalás hossza": "6"
                                },
                                {
                                    "szobaazonosító": "82",
                                    "foglalásazonosító": "1341",
                                    "foglalás hossza (nap)": "2",
                                    "adott szobára előző fogalalás hossza": "5"
                                },
                                {
                                    "szobaazonosító": "82",
                                    "foglalásazonosító": "1406",
                                    "foglalás hossza (nap)": "1",
                                    "adott szobára előző fogalalás hossza": "2"
                                },
                                {
                                    "szobaazonosító": "83",
                                    "foglalásazonosító": "572",
                                    "foglalás hossza (nap)": "7",
                                    "adott szobára előző fogalalás hossza": "0"
                                },
                                {
                                    "szobaazonosító": "83",
                                    "foglalásazonosító": "869",
                                    "foglalás hossza (nap)": "6",
                                    "adott szobára előző fogalalás hossza": "7"
                                },
                                {
                                    "szobaazonosító": "83",
                                    "foglalásazonosító": "878",
                                    "foglalás hossza (nap)": "6",
                                    "adott szobára előző fogalalás hossza": "6"
                                },
                                {
                                    "szobaazonosító": "83",
                                    "foglalásazonosító": "995",
                                    "foglalás hossza (nap)": "5",
                                    "adott szobára előző fogalalás hossza": "6"
                                },
                                {
                                    "szobaazonosító": "83",
                                    "foglalásazonosító": "674",
                                    "foglalás hossza (nap)": "4",
                                    "adott szobára előző fogalalás hossza": "5"
                                },
                                {
                                    "szobaazonosító": "83",
                                    "foglalásazonosító": "798",
                                    "foglalás hossza (nap)": "4",
                                    "adott szobára előző fogalalás hossza": "4"
                                },
                                {
                                    "szobaazonosító": "83",
                                    "foglalásazonosító": "1119",
                                    "foglalás hossza (nap)": "6",
                                    "adott szobára előző fogalalás hossza": "4"
                                },
                                {
                                    "szobaazonosító": "83",
                                    "foglalásazonosító": "1379",
                                    "foglalás hossza (nap)": "7",
                                    "adott szobára előző fogalalás hossza": "6"
                                },
                                {
                                    "szobaazonosító": "84",
                                    "foglalásazonosító": "954",
                                    "foglalás hossza (nap)": "5",
                                    "adott szobára előző fogalalás hossza": "0"
                                },
                                {
                                    "szobaazonosító": "84",
                                    "foglalásazonosító": "819",
                                    "foglalás hossza (nap)": "2",
                                    "adott szobára előző fogalalás hossza": "5"
                                },
                                {
                                    "szobaazonosító": "84",
                                    "foglalásazonosító": "1376",
                                    "foglalás hossza (nap)": "5",
                                    "adott szobára előző fogalalás hossza": "2"
                                },
                                {
                                    "szobaazonosító": "84",
                                    "foglalásazonosító": "1384",
                                    "foglalás hossza (nap)": "7",
                                    "adott szobára előző fogalalás hossza": "5"
                                },
                                {
                                    "szobaazonosító": "85",
                                    "foglalásazonosító": "647",
                                    "foglalás hossza (nap)": "3",
                                    "adott szobára előző fogalalás hossza": "0"
                                },
                                {
                                    "szobaazonosító": "85",
                                    "foglalásazonosító": "1059",
                                    "foglalás hossza (nap)": "3",
                                    "adott szobára előző fogalalás hossza": "3"
                                },
                                {
                                    "szobaazonosító": "85",
                                    "foglalásazonosító": "1320",
                                    "foglalás hossza (nap)": "1",
                                    "adott szobára előző fogalalás hossza": "3"
                                },
                                {
                                    "szobaazonosító": "85",
                                    "foglalásazonosító": "1513",
                                    "foglalás hossza (nap)": "7",
                                    "adott szobára előző fogalalás hossza": "1"
                                },
                                {
                                    "szobaazonosító": "86",
                                    "foglalásazonosító": "859",
                                    "foglalás hossza (nap)": "1",
                                    "adott szobára előző fogalalás hossza": "0"
                                },
                                {
                                    "szobaazonosító": "86",
                                    "foglalásazonosító": "1057",
                                    "foglalás hossza (nap)": "5",
                                    "adott szobára előző fogalalás hossza": "1"
                                },
                                {
                                    "szobaazonosító": "86",
                                    "foglalásazonosító": "1079",
                                    "foglalás hossza (nap)": "4",
                                    "adott szobára előző fogalalás hossza": "5"
                                },
                                {
                                    "szobaazonosító": "86",
                                    "foglalásazonosító": "1108",
                                    "foglalás hossza (nap)": "1",
                                    "adott szobára előző fogalalás hossza": "4"
                                },
                                {
                                    "szobaazonosító": "86",
                                    "foglalásazonosító": "1453",
                                    "foglalás hossza (nap)": "1",
                                    "adott szobára előző fogalalás hossza": "1"
                                },
                                {
                                    "szobaazonosító": "87",
                                    "foglalásazonosító": "558",
                                    "foglalás hossza (nap)": "4",
                                    "adott szobára előző fogalalás hossza": "0"
                                },
                                {
                                    "szobaazonosító": "87",
                                    "foglalásazonosító": "844",
                                    "foglalás hossza (nap)": "1",
                                    "adott szobára előző fogalalás hossza": "4"
                                },
                                {
                                    "szobaazonosító": "87",
                                    "foglalásazonosító": "1103",
                                    "foglalás hossza (nap)": "3",
                                    "adott szobára előző fogalalás hossza": "1"
                                },
                                {
                                    "szobaazonosító": "87",
                                    "foglalásazonosító": "1349",
                                    "foglalás hossza (nap)": "5",
                                    "adott szobára előző fogalalás hossza": "3"
                                },
                                {
                                    "szobaazonosító": "87",
                                    "foglalásazonosító": "1456",
                                    "foglalás hossza (nap)": "5",
                                    "adott szobára előző fogalalás hossza": "5"
                                },
                                {
                                    "szobaazonosító": "88",
                                    "foglalásazonosító": "866",
                                    "foglalás hossza (nap)": "2",
                                    "adott szobára előző fogalalás hossza": "0"
                                },
                                {
                                    "szobaazonosító": "88",
                                    "foglalásazonosító": "757",
                                    "foglalás hossza (nap)": "7",
                                    "adott szobára előző fogalalás hossza": "2"
                                },
                                {
                                    "szobaazonosító": "88",
                                    "foglalásazonosító": "1196",
                                    "foglalás hossza (nap)": "3",
                                    "adott szobára előző fogalalás hossza": "7"
                                },
                                {
                                    "szobaazonosító": "88",
                                    "foglalásazonosító": "1273",
                                    "foglalás hossza (nap)": "7",
                                    "adott szobára előző fogalalás hossza": "3"
                                },
                                {
                                    "szobaazonosító": "88",
                                    "foglalásazonosító": "1300",
                                    "foglalás hossza (nap)": "3",
                                    "adott szobára előző fogalalás hossza": "7"
                                },
                                {
                                    "szobaazonosító": "88",
                                    "foglalásazonosító": "1359",
                                    "foglalás hossza (nap)": "2",
                                    "adott szobára előző fogalalás hossza": "3"
                                },
                                {
                                    "szobaazonosító": "88",
                                    "foglalásazonosító": "1548",
                                    "foglalás hossza (nap)": "7",
                                    "adott szobára előző fogalalás hossza": "2"
                                },
                                {
                                    "szobaazonosító": "88",
                                    "foglalásazonosító": "1575",
                                    "foglalás hossza (nap)": "6",
                                    "adott szobára előző fogalalás hossza": "7"
                                },
                                {
                                    "szobaazonosító": "89",
                                    "foglalásazonosító": "817",
                                    "foglalás hossza (nap)": "3",
                                    "adott szobára előző fogalalás hossza": "0"
                                },
                                {
                                    "szobaazonosító": "89",
                                    "foglalásazonosító": "1037",
                                    "foglalás hossza (nap)": "7",
                                    "adott szobára előző fogalalás hossza": "3"
                                },
                                {
                                    "szobaazonosító": "89",
                                    "foglalásazonosító": "1101",
                                    "foglalás hossza (nap)": "5",
                                    "adott szobára előző fogalalás hossza": "7"
                                },
                                {
                                    "szobaazonosító": "89",
                                    "foglalásazonosító": "1189",
                                    "foglalás hossza (nap)": "6",
                                    "adott szobára előző fogalalás hossza": "5"
                                },
                                {
                                    "szobaazonosító": "89",
                                    "foglalásazonosító": "1253",
                                    "foglalás hossza (nap)": "2",
                                    "adott szobára előző fogalalás hossza": "6"
                                },
                                {
                                    "szobaazonosító": "89",
                                    "foglalásazonosító": "1269",
                                    "foglalás hossza (nap)": "2",
                                    "adott szobára előző fogalalás hossza": "2"
                                },
                                {
                                    "szobaazonosító": "89",
                                    "foglalásazonosító": "1399",
                                    "foglalás hossza (nap)": "2",
                                    "adott szobára előző fogalalás hossza": "2"
                                },
                                {
                                    "szobaazonosító": "89",
                                    "foglalásazonosító": "1521",
                                    "foglalás hossza (nap)": "7",
                                    "adott szobára előző fogalalás hossza": "2"
                                },
                                {
                                    "szobaazonosító": "90",
                                    "foglalásazonosító": "729",
                                    "foglalás hossza (nap)": "2",
                                    "adott szobára előző fogalalás hossza": "0"
                                },
                                {
                                    "szobaazonosító": "90",
                                    "foglalásazonosító": "1174",
                                    "foglalás hossza (nap)": "7",
                                    "adott szobára előző fogalalás hossza": "2"
                                },
                                {
                                    "szobaazonosító": "90",
                                    "foglalásazonosító": "1299",
                                    "foglalás hossza (nap)": "6",
                                    "adott szobára előző fogalalás hossza": "7"
                                },
                                {
                                    "szobaazonosító": "90",
                                    "foglalásazonosító": "1405",
                                    "foglalás hossza (nap)": "5",
                                    "adott szobára előző fogalalás hossza": "6"
                                },
                                {
                                    "szobaazonosító": "91",
                                    "foglalásazonosító": "636",
                                    "foglalás hossza (nap)": "6",
                                    "adott szobára előző fogalalás hossza": "0"
                                },
                                {
                                    "szobaazonosító": "91",
                                    "foglalásazonosító": "732",
                                    "foglalás hossza (nap)": "4",
                                    "adott szobára előző fogalalás hossza": "6"
                                },
                                {
                                    "szobaazonosító": "91",
                                    "foglalásazonosító": "1213",
                                    "foglalás hossza (nap)": "3",
                                    "adott szobára előző fogalalás hossza": "4"
                                },
                                {
                                    "szobaazonosító": "91",
                                    "foglalásazonosító": "1397",
                                    "foglalás hossza (nap)": "4",
                                    "adott szobára előző fogalalás hossza": "3"
                                },
                                {
                                    "szobaazonosító": "92",
                                    "foglalásazonosító": "942",
                                    "foglalás hossza (nap)": "6",
                                    "adott szobára előző fogalalás hossza": "0"
                                },
                                {
                                    "szobaazonosító": "92",
                                    "foglalásazonosító": "1016",
                                    "foglalás hossza (nap)": "2",
                                    "adott szobára előző fogalalás hossza": "6"
                                },
                                {
                                    "szobaazonosító": "92",
                                    "foglalásazonosító": "809",
                                    "foglalás hossza (nap)": "3",
                                    "adott szobára előző fogalalás hossza": "2"
                                },
                                {
                                    "szobaazonosító": "92",
                                    "foglalásazonosító": "841",
                                    "foglalás hossza (nap)": "6",
                                    "adott szobára előző fogalalás hossza": "3"
                                },
                                {
                                    "szobaazonosító": "92",
                                    "foglalásazonosító": "1527",
                                    "foglalás hossza (nap)": "2",
                                    "adott szobára előző fogalalás hossza": "6"
                                },
                                {
                                    "szobaazonosító": "92",
                                    "foglalásazonosító": "1555",
                                    "foglalás hossza (nap)": "4",
                                    "adott szobára előző fogalalás hossza": "2"
                                },
                                {
                                    "szobaazonosító": "93",
                                    "foglalásazonosító": "741",
                                    "foglalás hossza (nap)": "7",
                                    "adott szobára előző fogalalás hossza": "0"
                                },
                                {
                                    "szobaazonosító": "93",
                                    "foglalásazonosító": "1169",
                                    "foglalás hossza (nap)": "4",
                                    "adott szobára előző fogalalás hossza": "7"
                                },
                                {
                                    "szobaazonosító": "93",
                                    "foglalásazonosító": "1217",
                                    "foglalás hossza (nap)": "1",
                                    "adott szobára előző fogalalás hossza": "4"
                                },
                                {
                                    "szobaazonosító": "93",
                                    "foglalásazonosító": "1355",
                                    "foglalás hossza (nap)": "2",
                                    "adott szobára előző fogalalás hossza": "1"
                                },
                                {
                                    "szobaazonosító": "93",
                                    "foglalásazonosító": "1391",
                                    "foglalás hossza (nap)": "4",
                                    "adott szobára előző fogalalás hossza": "2"
                                },
                                {
                                    "szobaazonosító": "94",
                                    "foglalásazonosító": "616",
                                    "foglalás hossza (nap)": "4",
                                    "adott szobára előző fogalalás hossza": "0"
                                },
                                {
                                    "szobaazonosító": "94",
                                    "foglalásazonosító": "975",
                                    "foglalás hossza (nap)": "5",
                                    "adott szobára előző fogalalás hossza": "4"
                                },
                                {
                                    "szobaazonosító": "94",
                                    "foglalásazonosító": "665",
                                    "foglalás hossza (nap)": "7",
                                    "adott szobára előző fogalalás hossza": "5"
                                },
                                {
                                    "szobaazonosító": "94",
                                    "foglalásazonosító": "727",
                                    "foglalás hossza (nap)": "3",
                                    "adott szobára előző fogalalás hossza": "7"
                                },
                                {
                                    "szobaazonosító": "94",
                                    "foglalásazonosító": "1241",
                                    "foglalás hossza (nap)": "7",
                                    "adott szobára előző fogalalás hossza": "3"
                                },
                                {
                                    "szobaazonosító": "94",
                                    "foglalásazonosító": "1305",
                                    "foglalás hossza (nap)": "2",
                                    "adott szobára előző fogalalás hossza": "7"
                                },
                                {
                                    "szobaazonosító": "94",
                                    "foglalásazonosító": "1312",
                                    "foglalás hossza (nap)": "3",
                                    "adott szobára előző fogalalás hossza": "2"
                                },
                                {
                                    "szobaazonosító": "94",
                                    "foglalásazonosító": "1368",
                                    "foglalás hossza (nap)": "1",
                                    "adott szobára előző fogalalás hossza": "3"
                                },
                                {
                                    "szobaazonosító": "94",
                                    "foglalásazonosító": "1518",
                                    "foglalás hossza (nap)": "2",
                                    "adott szobára előző fogalalás hossza": "1"
                                },
                                {
                                    "szobaazonosító": "94",
                                    "foglalásazonosító": "1564",
                                    "foglalás hossza (nap)": "7",
                                    "adott szobára előző fogalalás hossza": "2"
                                },
                                {
                                    "szobaazonosító": "95",
                                    "foglalásazonosító": "656",
                                    "foglalás hossza (nap)": "7",
                                    "adott szobára előző fogalalás hossza": "0"
                                },
                                {
                                    "szobaazonosító": "95",
                                    "foglalásazonosító": "1048",
                                    "foglalás hossza (nap)": "3",
                                    "adott szobára előző fogalalás hossza": "7"
                                },
                                {
                                    "szobaazonosító": "95",
                                    "foglalásazonosító": "1097",
                                    "foglalás hossza (nap)": "4",
                                    "adott szobára előző fogalalás hossza": "3"
                                },
                                {
                                    "szobaazonosító": "95",
                                    "foglalásazonosító": "1543",
                                    "foglalás hossza (nap)": "7",
                                    "adott szobára előző fogalalás hossza": "4"
                                },
                                {
                                    "szobaazonosító": "96",
                                    "foglalásazonosító": "607",
                                    "foglalás hossza (nap)": "4",
                                    "adott szobára előző fogalalás hossza": "0"
                                },
                                {
                                    "szobaazonosító": "96",
                                    "foglalásazonosító": "623",
                                    "foglalás hossza (nap)": "7",
                                    "adott szobára előző fogalalás hossza": "4"
                                },
                                {
                                    "szobaazonosító": "96",
                                    "foglalásazonosító": "671",
                                    "foglalás hossza (nap)": "4",
                                    "adott szobára előző fogalalás hossza": "7"
                                },
                                {
                                    "szobaazonosító": "96",
                                    "foglalásazonosító": "780",
                                    "foglalás hossza (nap)": "1",
                                    "adott szobára előző fogalalás hossza": "4"
                                },
                                {
                                    "szobaazonosító": "96",
                                    "foglalásazonosító": "1378",
                                    "foglalás hossza (nap)": "3",
                                    "adott szobára előző fogalalás hossza": "1"
                                },
                                {
                                    "szobaazonosító": "96",
                                    "foglalásazonosító": "1438",
                                    "foglalás hossza (nap)": "2",
                                    "adott szobára előző fogalalás hossza": "3"
                                },
                                {
                                    "szobaazonosító": "96",
                                    "foglalásazonosító": "1569",
                                    "foglalás hossza (nap)": "7",
                                    "adott szobára előző fogalalás hossza": "2"
                                },
                                {
                                    "szobaazonosító": "97",
                                    "foglalásazonosító": "635",
                                    "foglalás hossza (nap)": "3",
                                    "adott szobára előző fogalalás hossza": "0"
                                },
                                {
                                    "szobaazonosító": "97",
                                    "foglalásazonosító": "726",
                                    "foglalás hossza (nap)": "4",
                                    "adott szobára előző fogalalás hossza": "3"
                                },
                                {
                                    "szobaazonosító": "97",
                                    "foglalásazonosító": "718",
                                    "foglalás hossza (nap)": "7",
                                    "adott szobára előző fogalalás hossza": "4"
                                },
                                {
                                    "szobaazonosító": "97",
                                    "foglalásazonosító": "836",
                                    "foglalás hossza (nap)": "2",
                                    "adott szobára előző fogalalás hossza": "7"
                                },
                                {
                                    "szobaazonosító": "97",
                                    "foglalásazonosító": "1395",
                                    "foglalás hossza (nap)": "1",
                                    "adott szobára előző fogalalás hossza": "2"
                                },
                                {
                                    "szobaazonosító": "97",
                                    "foglalásazonosító": "1417",
                                    "foglalás hossza (nap)": "7",
                                    "adott szobára előző fogalalás hossza": "1"
                                },
                                {
                                    "szobaazonosító": "97",
                                    "foglalásazonosító": "1528",
                                    "foglalás hossza (nap)": "2",
                                    "adott szobára előző fogalalás hossza": "7"
                                },
                                {
                                    "szobaazonosító": "98",
                                    "foglalásazonosító": "631",
                                    "foglalás hossza (nap)": "6",
                                    "adott szobára előző fogalalás hossza": "0"
                                },
                                {
                                    "szobaazonosító": "98",
                                    "foglalásazonosító": "884",
                                    "foglalás hossza (nap)": "5",
                                    "adott szobára előző fogalalás hossza": "6"
                                },
                                {
                                    "szobaazonosító": "98",
                                    "foglalásazonosító": "1050",
                                    "foglalás hossza (nap)": "6",
                                    "adott szobára előző fogalalás hossza": "5"
                                },
                                {
                                    "szobaazonosító": "98",
                                    "foglalásazonosító": "1402",
                                    "foglalás hossza (nap)": "2",
                                    "adott szobára előző fogalalás hossza": "6"
                                },
                                {
                                    "szobaazonosító": "99",
                                    "foglalásazonosító": "632",
                                    "foglalás hossza (nap)": "1",
                                    "adott szobára előző fogalalás hossza": "0"
                                },
                                {
                                    "szobaazonosító": "99",
                                    "foglalásazonosító": "691",
                                    "foglalás hossza (nap)": "5",
                                    "adott szobára előző fogalalás hossza": "1"
                                },
                                {
                                    "szobaazonosító": "99",
                                    "foglalásazonosító": "1072",
                                    "foglalás hossza (nap)": "1",
                                    "adott szobára előző fogalalás hossza": "5"
                                },
                                {
                                    "szobaazonosító": "99",
                                    "foglalásazonosító": "1408",
                                    "foglalás hossza (nap)": "1",
                                    "adott szobára előző fogalalás hossza": "1"
                                },
                                {
                                    "szobaazonosító": "99",
                                    "foglalásazonosító": "1486",
                                    "foglalás hossza (nap)": "5",
                                    "adott szobára előző fogalalás hossza": "1"
                                },
                                {
                                    "szobaazonosító": "100",
                                    "foglalásazonosító": "597",
                                    "foglalás hossza (nap)": "1",
                                    "adott szobára előző fogalalás hossza": "0"
                                },
                                {
                                    "szobaazonosító": "100",
                                    "foglalásazonosító": "637",
                                    "foglalás hossza (nap)": "5",
                                    "adott szobára előző fogalalás hossza": "1"
                                },
                                {
                                    "szobaazonosító": "100",
                                    "foglalásazonosító": "1315",
                                    "foglalás hossza (nap)": "5",
                                    "adott szobára előző fogalalás hossza": "5"
                                },
                                {
                                    "szobaazonosító": "100",
                                    "foglalásazonosító": "1482",
                                    "foglalás hossza (nap)": "7",
                                    "adott szobára előző fogalalás hossza": "5"
                                },
                                {
                                    "szobaazonosító": "101",
                                    "foglalásazonosító": "715",
                                    "foglalás hossza (nap)": "3",
                                    "adott szobára előző fogalalás hossza": "0"
                                },
                                {
                                    "szobaazonosító": "101",
                                    "foglalásazonosító": "1332",
                                    "foglalás hossza (nap)": "6",
                                    "adott szobára előző fogalalás hossza": "3"
                                },
                                {
                                    "szobaazonosító": "101",
                                    "foglalásazonosító": "1516",
                                    "foglalás hossza (nap)": "4",
                                    "adott szobára előző fogalalás hossza": "6"
                                },
                                {
                                    "szobaazonosító": "102",
                                    "foglalásazonosító": "689",
                                    "foglalás hossza (nap)": "5",
                                    "adott szobára előző fogalalás hossza": "0"
                                },
                                {
                                    "szobaazonosító": "102",
                                    "foglalásazonosító": "1343",
                                    "foglalás hossza (nap)": "2",
                                    "adott szobára előző fogalalás hossza": "5"
                                },
                                {
                                    "szobaazonosító": "103",
                                    "foglalásazonosító": "972",
                                    "foglalás hossza (nap)": "2",
                                    "adott szobára előző fogalalás hossza": "0"
                                },
                                {
                                    "szobaazonosító": "103",
                                    "foglalásazonosító": "992",
                                    "foglalás hossza (nap)": "7",
                                    "adott szobára előző fogalalás hossza": "2"
                                },
                                {
                                    "szobaazonosító": "103",
                                    "foglalásazonosító": "1398",
                                    "foglalás hossza (nap)": "1",
                                    "adott szobára előző fogalalás hossza": "7"
                                },
                                {
                                    "szobaazonosító": "103",
                                    "foglalásazonosító": "1485",
                                    "foglalás hossza (nap)": "4",
                                    "adott szobára előző fogalalás hossza": "1"
                                },
                                {
                                    "szobaazonosító": "104",
                                    "foglalásazonosító": "837",
                                    "foglalás hossza (nap)": "4",
                                    "adott szobára előző fogalalás hossza": "0"
                                },
                                {
                                    "szobaazonosító": "104",
                                    "foglalásazonosító": "1180",
                                    "foglalás hossza (nap)": "1",
                                    "adott szobára előző fogalalás hossza": "4"
                                },
                                {
                                    "szobaazonosító": "104",
                                    "foglalásazonosító": "1522",
                                    "foglalás hossza (nap)": "2",
                                    "adott szobára előző fogalalás hossza": "1"
                                },
                                {
                                    "szobaazonosító": "104",
                                    "foglalásazonosító": "1532",
                                    "foglalás hossza (nap)": "3",
                                    "adott szobára előző fogalalás hossza": "2"
                                },
                                {
                                    "szobaazonosító": "105",
                                    "foglalásazonosító": "618",
                                    "foglalás hossza (nap)": "1",
                                    "adott szobára előző fogalalás hossza": "0"
                                },
                                {
                                    "szobaazonosító": "105",
                                    "foglalásazonosító": "1525",
                                    "foglalás hossza (nap)": "5",
                                    "adott szobára előző fogalalás hossza": "1"
                                },
                                {
                                    "szobaazonosító": "106",
                                    "foglalásazonosító": "610",
                                    "foglalás hossza (nap)": "3",
                                    "adott szobára előző fogalalás hossza": "0"
                                },
                                {
                                    "szobaazonosító": "106",
                                    "foglalásazonosító": "708",
                                    "foglalás hossza (nap)": "7",
                                    "adott szobára előző fogalalás hossza": "3"
                                },
                                {
                                    "szobaazonosító": "106",
                                    "foglalásazonosító": "1228",
                                    "foglalás hossza (nap)": "7",
                                    "adott szobára előző fogalalás hossza": "7"
                                },
                                {
                                    "szobaazonosító": "106",
                                    "foglalásazonosító": "1271",
                                    "foglalás hossza (nap)": "5",
                                    "adott szobára előző fogalalás hossza": "7"
                                },
                                {
                                    "szobaazonosító": "106",
                                    "foglalásazonosító": "1372",
                                    "foglalás hossza (nap)": "7",
                                    "adott szobára előző fogalalás hossza": "5"
                                },
                                {
                                    "szobaazonosító": "106",
                                    "foglalásazonosító": "1510",
                                    "foglalás hossza (nap)": "6",
                                    "adott szobára előző fogalalás hossza": "7"
                                },
                                {
                                    "szobaazonosító": "107",
                                    "foglalásazonosító": "586",
                                    "foglalás hossza (nap)": "6",
                                    "adott szobára előző fogalalás hossza": "0"
                                },
                                {
                                    "szobaazonosító": "107",
                                    "foglalásazonosító": "1250",
                                    "foglalás hossza (nap)": "4",
                                    "adott szobára előző fogalalás hossza": "6"
                                },
                                {
                                    "szobaazonosító": "107",
                                    "foglalásazonosító": "1354",
                                    "foglalás hossza (nap)": "1",
                                    "adott szobára előző fogalalás hossza": "4"
                                },
                                {
                                    "szobaazonosító": "107",
                                    "foglalásazonosító": "1452",
                                    "foglalás hossza (nap)": "6",
                                    "adott szobára előző fogalalás hossza": "1"
                                },
                                {
                                    "szobaazonosító": "107",
                                    "foglalásazonosító": "1494",
                                    "foglalás hossza (nap)": "2",
                                    "adott szobára előző fogalalás hossza": "6"
                                },
                                {
                                    "szobaazonosító": "108",
                                    "foglalásazonosító": "1102",
                                    "foglalás hossza (nap)": "1",
                                    "adott szobára előző fogalalás hossza": "0"
                                },
                                {
                                    "szobaazonosító": "108",
                                    "foglalásazonosító": "1392",
                                    "foglalás hossza (nap)": "6",
                                    "adott szobára előző fogalalás hossza": "1"
                                },
                                {
                                    "szobaazonosító": "109",
                                    "foglalásazonosító": "614",
                                    "foglalás hossza (nap)": "4",
                                    "adott szobára előző fogalalás hossza": "0"
                                },
                                {
                                    "szobaazonosító": "109",
                                    "foglalásazonosító": "621",
                                    "foglalás hossza (nap)": "7",
                                    "adott szobára előző fogalalás hossza": "4"
                                },
                                {
                                    "szobaazonosító": "109",
                                    "foglalásazonosító": "654",
                                    "foglalás hossza (nap)": "5",
                                    "adott szobára előző fogalalás hossza": "7"
                                },
                                {
                                    "szobaazonosító": "109",
                                    "foglalásazonosító": "810",
                                    "foglalás hossza (nap)": "2",
                                    "adott szobára előző fogalalás hossza": "5"
                                },
                                {
                                    "szobaazonosító": "109",
                                    "foglalásazonosító": "1083",
                                    "foglalás hossza (nap)": "1",
                                    "adott szobára előző fogalalás hossza": "2"
                                },
                                {
                                    "szobaazonosító": "109",
                                    "foglalásazonosító": "1298",
                                    "foglalás hossza (nap)": "4",
                                    "adott szobára előző fogalalás hossza": "1"
                                },
                                {
                                    "szobaazonosító": "109",
                                    "foglalásazonosító": "1560",
                                    "foglalás hossza (nap)": "1",
                                    "adott szobára előző fogalalás hossza": "4"
                                },
                                {
                                    "szobaazonosító": "110",
                                    "foglalásazonosító": "931",
                                    "foglalás hossza (nap)": "5",
                                    "adott szobára előző fogalalás hossza": "0"
                                },
                                {
                                    "szobaazonosító": "110",
                                    "foglalásazonosító": "964",
                                    "foglalás hossza (nap)": "6",
                                    "adott szobára előző fogalalás hossza": "5"
                                },
                                {
                                    "szobaazonosító": "110",
                                    "foglalásazonosító": "685",
                                    "foglalás hossza (nap)": "1",
                                    "adott szobára előző fogalalás hossza": "6"
                                },
                                {
                                    "szobaazonosító": "110",
                                    "foglalásazonosító": "1041",
                                    "foglalás hossza (nap)": "3",
                                    "adott szobára előző fogalalás hossza": "1"
                                },
                                {
                                    "szobaazonosító": "110",
                                    "foglalásazonosító": "1109",
                                    "foglalás hossza (nap)": "5",
                                    "adott szobára előző fogalalás hossza": "3"
                                },
                                {
                                    "szobaazonosító": "110",
                                    "foglalásazonosító": "1162",
                                    "foglalás hossza (nap)": "2",
                                    "adott szobára előző fogalalás hossza": "5"
                                },
                                {
                                    "szobaazonosító": "110",
                                    "foglalásazonosító": "1424",
                                    "foglalás hossza (nap)": "1",
                                    "adott szobára előző fogalalás hossza": "2"
                                },
                                {
                                    "szobaazonosító": "110",
                                    "foglalásazonosító": "1489",
                                    "foglalás hossza (nap)": "6",
                                    "adott szobára előző fogalalás hossza": "1"
                                },
                                {
                                    "szobaazonosító": "111",
                                    "foglalásazonosító": "605",
                                    "foglalás hossza (nap)": "7",
                                    "adott szobára előző fogalalás hossza": "0"
                                },
                                {
                                    "szobaazonosító": "111",
                                    "foglalásazonosító": "959",
                                    "foglalás hossza (nap)": "7",
                                    "adott szobára előző fogalalás hossza": "7"
                                },
                                {
                                    "szobaazonosító": "111",
                                    "foglalásazonosító": "786",
                                    "foglalás hossza (nap)": "4",
                                    "adott szobára előző fogalalás hossza": "7"
                                },
                                {
                                    "szobaazonosító": "111",
                                    "foglalásazonosító": "1296",
                                    "foglalás hossza (nap)": "3",
                                    "adott szobára előző fogalalás hossza": "4"
                                },
                                {
                                    "szobaazonosító": "111",
                                    "foglalásazonosító": "1353",
                                    "foglalás hossza (nap)": "5",
                                    "adott szobára előző fogalalás hossza": "3"
                                },
                                {
                                    "szobaazonosító": "112",
                                    "foglalásazonosító": "921",
                                    "foglalás hossza (nap)": "1",
                                    "adott szobára előző fogalalás hossza": "0"
                                },
                                {
                                    "szobaazonosító": "112",
                                    "foglalásazonosító": "776",
                                    "foglalás hossza (nap)": "4",
                                    "adott szobára előző fogalalás hossza": "1"
                                },
                                {
                                    "szobaazonosító": "112",
                                    "foglalásazonosító": "801",
                                    "foglalás hossza (nap)": "5",
                                    "adott szobára előző fogalalás hossza": "4"
                                },
                                {
                                    "szobaazonosító": "112",
                                    "foglalásazonosító": "1124",
                                    "foglalás hossza (nap)": "6",
                                    "adott szobára előző fogalalás hossza": "5"
                                },
                                {
                                    "szobaazonosító": "112",
                                    "foglalásazonosító": "1530",
                                    "foglalás hossza (nap)": "6",
                                    "adott szobára előző fogalalás hossza": "6"
                                },
                                {
                                    "szobaazonosító": "113",
                                    "foglalásazonosító": "1029",
                                    "foglalás hossza (nap)": "5",
                                    "adott szobára előző fogalalás hossza": "0"
                                },
                                {
                                    "szobaazonosító": "113",
                                    "foglalásazonosító": "1085",
                                    "foglalás hossza (nap)": "4",
                                    "adott szobára előző fogalalás hossza": "5"
                                },
                                {
                                    "szobaazonosító": "113",
                                    "foglalásazonosító": "1263",
                                    "foglalás hossza (nap)": "1",
                                    "adott szobára előző fogalalás hossza": "4"
                                },
                                {
                                    "szobaazonosító": "113",
                                    "foglalásazonosító": "1495",
                                    "foglalás hossza (nap)": "7",
                                    "adott szobára előző fogalalás hossza": "1"
                                },
                                {
                                    "szobaazonosító": "113",
                                    "foglalásazonosító": "1499",
                                    "foglalás hossza (nap)": "2",
                                    "adott szobára előző fogalalás hossza": "7"
                                },
                                {
                                    "szobaazonosító": "114",
                                    "foglalásazonosító": "966",
                                    "foglalás hossza (nap)": "6",
                                    "adott szobára előző fogalalás hossza": "0"
                                },
                                {
                                    "szobaazonosító": "114",
                                    "foglalásazonosító": "737",
                                    "foglalás hossza (nap)": "2",
                                    "adott szobára előző fogalalás hossza": "6"
                                },
                                {
                                    "szobaazonosító": "114",
                                    "foglalásazonosító": "827",
                                    "foglalás hossza (nap)": "7",
                                    "adott szobára előző fogalalás hossza": "2"
                                },
                                {
                                    "szobaazonosító": "114",
                                    "foglalásazonosító": "1540",
                                    "foglalás hossza (nap)": "3",
                                    "adott szobára előző fogalalás hossza": "7"
                                },
                                {
                                    "szobaazonosító": "115",
                                    "foglalásazonosító": "596",
                                    "foglalás hossza (nap)": "7",
                                    "adott szobára előző fogalalás hossza": "0"
                                },
                                {
                                    "szobaazonosító": "115",
                                    "foglalásazonosító": "943",
                                    "foglalás hossza (nap)": "7",
                                    "adott szobára előző fogalalás hossza": "7"
                                },
                                {
                                    "szobaazonosító": "115",
                                    "foglalásazonosító": "1121",
                                    "foglalás hossza (nap)": "7",
                                    "adott szobára előző fogalalás hossza": "7"
                                },
                                {
                                    "szobaazonosító": "115",
                                    "foglalásazonosító": "1154",
                                    "foglalás hossza (nap)": "4",
                                    "adott szobára előző fogalalás hossza": "7"
                                },
                                {
                                    "szobaazonosító": "115",
                                    "foglalásazonosító": "1352",
                                    "foglalás hossza (nap)": "3",
                                    "adott szobára előző fogalalás hossza": "4"
                                },
                                {
                                    "szobaazonosító": "115",
                                    "foglalásazonosító": "1554",
                                    "foglalás hossza (nap)": "3",
                                    "adott szobára előző fogalalás hossza": "3"
                                },
                                {
                                    "szobaazonosító": "115",
                                    "foglalásazonosító": "1566",
                                    "foglalás hossza (nap)": "1",
                                    "adott szobára előző fogalalás hossza": "3"
                                },
                                {
                                    "szobaazonosító": "116",
                                    "foglalásazonosító": "1455",
                                    "foglalás hossza (nap)": "2",
                                    "adott szobára előző fogalalás hossza": "0"
                                },
                                {
                                    "szobaazonosító": "116",
                                    "foglalásazonosító": "1501",
                                    "foglalás hossza (nap)": "4",
                                    "adott szobára előző fogalalás hossza": "2"
                                },
                                {
                                    "szobaazonosító": "117",
                                    "foglalásazonosító": "612",
                                    "foglalás hossza (nap)": "2",
                                    "adott szobára előző fogalalás hossza": "0"
                                },
                                {
                                    "szobaazonosító": "117",
                                    "foglalásazonosító": "617",
                                    "foglalás hossza (nap)": "3",
                                    "adott szobára előző fogalalás hossza": "2"
                                },
                                {
                                    "szobaazonosító": "117",
                                    "foglalásazonosító": "953",
                                    "foglalás hossza (nap)": "5",
                                    "adott szobára előző fogalalás hossza": "3"
                                },
                                {
                                    "szobaazonosító": "117",
                                    "foglalásazonosító": "962",
                                    "foglalás hossza (nap)": "4",
                                    "adott szobára előző fogalalás hossza": "5"
                                },
                                {
                                    "szobaazonosító": "117",
                                    "foglalásazonosító": "1002",
                                    "foglalás hossza (nap)": "1",
                                    "adott szobára előző fogalalás hossza": "4"
                                },
                                {
                                    "szobaazonosító": "117",
                                    "foglalásazonosító": "1192",
                                    "foglalás hossza (nap)": "2",
                                    "adott szobára előző fogalalás hossza": "1"
                                },
                                {
                                    "szobaazonosító": "117",
                                    "foglalásazonosító": "1247",
                                    "foglalás hossza (nap)": "3",
                                    "adott szobára előző fogalalás hossza": "2"
                                },
                                {
                                    "szobaazonosító": "117",
                                    "foglalásazonosító": "1468",
                                    "foglalás hossza (nap)": "7",
                                    "adott szobára előző fogalalás hossza": "3"
                                },
                                {
                                    "szobaazonosító": "118",
                                    "foglalásazonosító": "864",
                                    "foglalás hossza (nap)": "6",
                                    "adott szobára előző fogalalás hossza": "0"
                                },
                                {
                                    "szobaazonosító": "118",
                                    "foglalásazonosító": "994",
                                    "foglalás hossza (nap)": "7",
                                    "adott szobára előző fogalalás hossza": "6"
                                },
                                {
                                    "szobaazonosító": "118",
                                    "foglalásazonosító": "996",
                                    "foglalás hossza (nap)": "3",
                                    "adott szobára előző fogalalás hossza": "7"
                                },
                                {
                                    "szobaazonosító": "118",
                                    "foglalásazonosító": "716",
                                    "foglalás hossza (nap)": "1",
                                    "adott szobára előző fogalalás hossza": "3"
                                },
                                {
                                    "szobaazonosító": "118",
                                    "foglalásazonosító": "1374",
                                    "foglalás hossza (nap)": "5",
                                    "adott szobára előző fogalalás hossza": "1"
                                },
                                {
                                    "szobaazonosító": "118",
                                    "foglalásazonosító": "1472",
                                    "foglalás hossza (nap)": "6",
                                    "adott szobára előző fogalalás hossza": "5"
                                },
                                {
                                    "szobaazonosító": "118",
                                    "foglalásazonosító": "1481",
                                    "foglalás hossza (nap)": "3",
                                    "adott szobára előző fogalalás hossza": "6"
                                },
                                {
                                    "szobaazonosító": "119",
                                    "foglalásazonosító": "1026",
                                    "foglalás hossza (nap)": "3",
                                    "adott szobára előző fogalalás hossza": "0"
                                },
                                {
                                    "szobaazonosító": "119",
                                    "foglalásazonosító": "706",
                                    "foglalás hossza (nap)": "2",
                                    "adott szobára előző fogalalás hossza": "3"
                                },
                                {
                                    "szobaazonosító": "119",
                                    "foglalásazonosító": "722",
                                    "foglalás hossza (nap)": "1",
                                    "adott szobára előző fogalalás hossza": "2"
                                },
                                {
                                    "szobaazonosító": "119",
                                    "foglalásazonosító": "1413",
                                    "foglalás hossza (nap)": "3",
                                    "adott szobára előző fogalalás hossza": "1"
                                },
                                {
                                    "szobaazonosító": "119",
                                    "foglalásazonosító": "1488",
                                    "foglalás hossza (nap)": "3",
                                    "adott szobára előző fogalalás hossza": "3"
                                },
                                {
                                    "szobaazonosító": "120",
                                    "foglalásazonosító": "998",
                                    "foglalás hossza (nap)": "3",
                                    "adott szobára előző fogalalás hossza": "0"
                                },
                                {
                                    "szobaazonosító": "120",
                                    "foglalásazonosító": "762",
                                    "foglalás hossza (nap)": "3",
                                    "adott szobára előző fogalalás hossza": "3"
                                },
                                {
                                    "szobaazonosító": "120",
                                    "foglalásazonosító": "1089",
                                    "foglalás hossza (nap)": "6",
                                    "adott szobára előző fogalalás hossza": "3"
                                },
                                {
                                    "szobaazonosító": "120",
                                    "foglalásazonosító": "1339",
                                    "foglalás hossza (nap)": "6",
                                    "adott szobára előző fogalalás hossza": "6"
                                },
                                {
                                    "szobaazonosító": "120",
                                    "foglalásazonosító": "1483",
                                    "foglalás hossza (nap)": "1",
                                    "adott szobára előző fogalalás hossza": "6"
                                },
                                {
                                    "szobaazonosító": "120",
                                    "foglalásazonosító": "1493",
                                    "foglalás hossza (nap)": "7",
                                    "adott szobára előző fogalalás hossza": "1"
                                },
                                {
                                    "szobaazonosító": "121",
                                    "foglalásazonosító": "858",
                                    "foglalás hossza (nap)": "5",
                                    "adott szobára előző fogalalás hossza": "0"
                                },
                                {
                                    "szobaazonosító": "121",
                                    "foglalásazonosító": "735",
                                    "foglalás hossza (nap)": "6",
                                    "adott szobára előző fogalalás hossza": "5"
                                },
                                {
                                    "szobaazonosító": "121",
                                    "foglalásazonosító": "739",
                                    "foglalás hossza (nap)": "6",
                                    "adott szobára előző fogalalás hossza": "6"
                                },
                                {
                                    "szobaazonosító": "121",
                                    "foglalásazonosító": "1049",
                                    "foglalás hossza (nap)": "3",
                                    "adott szobára előző fogalalás hossza": "6"
                                },
                                {
                                    "szobaazonosító": "121",
                                    "foglalásazonosító": "1128",
                                    "foglalás hossza (nap)": "4",
                                    "adott szobára előző fogalalás hossza": "3"
                                },
                                {
                                    "szobaazonosító": "121",
                                    "foglalásazonosító": "1215",
                                    "foglalás hossza (nap)": "4",
                                    "adott szobára előző fogalalás hossza": "4"
                                },
                                {
                                    "szobaazonosító": "121",
                                    "foglalásazonosító": "1373",
                                    "foglalás hossza (nap)": "5",
                                    "adott szobára előző fogalalás hossza": "4"
                                },
                                {
                                    "szobaazonosító": "121",
                                    "foglalásazonosító": "1393",
                                    "foglalás hossza (nap)": "6",
                                    "adott szobára előző fogalalás hossza": "5"
                                },
                                {
                                    "szobaazonosító": "122",
                                    "foglalásazonosító": "1007",
                                    "foglalás hossza (nap)": "2",
                                    "adott szobára előző fogalalás hossza": "0"
                                },
                                {
                                    "szobaazonosító": "122",
                                    "foglalásazonosító": "1036",
                                    "foglalás hossza (nap)": "2",
                                    "adott szobára előző fogalalás hossza": "2"
                                },
                                {
                                    "szobaazonosító": "122",
                                    "foglalásazonosító": "1062",
                                    "foglalás hossza (nap)": "3",
                                    "adott szobára előző fogalalás hossza": "2"
                                },
                                {
                                    "szobaazonosító": "122",
                                    "foglalásazonosító": "1166",
                                    "foglalás hossza (nap)": "4",
                                    "adott szobára előző fogalalás hossza": "3"
                                },
                                {
                                    "szobaazonosító": "122",
                                    "foglalásazonosító": "1209",
                                    "foglalás hossza (nap)": "1",
                                    "adott szobára előző fogalalás hossza": "4"
                                },
                                {
                                    "szobaazonosító": "122",
                                    "foglalásazonosító": "1245",
                                    "foglalás hossza (nap)": "2",
                                    "adott szobára előző fogalalás hossza": "1"
                                },
                                {
                                    "szobaazonosító": "122",
                                    "foglalásazonosító": "1337",
                                    "foglalás hossza (nap)": "2",
                                    "adott szobára előző fogalalás hossza": "2"
                                },
                                {
                                    "szobaazonosító": "122",
                                    "foglalásazonosító": "1385",
                                    "foglalás hossza (nap)": "5",
                                    "adott szobára előző fogalalás hossza": "2"
                                },
                                {
                                    "szobaazonosító": "122",
                                    "foglalásazonosító": "1440",
                                    "foglalás hossza (nap)": "3",
                                    "adott szobára előző fogalalás hossza": "5"
                                },
                                {
                                    "szobaazonosító": "123",
                                    "foglalásazonosító": "587",
                                    "foglalás hossza (nap)": "7",
                                    "adott szobára előző fogalalás hossza": "0"
                                },
                                {
                                    "szobaazonosító": "123",
                                    "foglalásazonosító": "923",
                                    "foglalás hossza (nap)": "4",
                                    "adott szobára előző fogalalás hossza": "7"
                                },
                                {
                                    "szobaazonosító": "123",
                                    "foglalásazonosító": "967",
                                    "foglalás hossza (nap)": "5",
                                    "adott szobára előző fogalalás hossza": "4"
                                },
                                {
                                    "szobaazonosító": "123",
                                    "foglalásazonosító": "1223",
                                    "foglalás hossza (nap)": "1",
                                    "adott szobára előző fogalalás hossza": "5"
                                },
                                {
                                    "szobaazonosító": "123",
                                    "foglalásazonosító": "1282",
                                    "foglalás hossza (nap)": "6",
                                    "adott szobára előző fogalalás hossza": "1"
                                },
                                {
                                    "szobaazonosító": "124",
                                    "foglalásazonosító": "861",
                                    "foglalás hossza (nap)": "1",
                                    "adott szobára előző fogalalás hossza": "0"
                                },
                                {
                                    "szobaazonosító": "124",
                                    "foglalásazonosító": "1210",
                                    "foglalás hossza (nap)": "4",
                                    "adott szobára előző fogalalás hossza": "1"
                                },
                                {
                                    "szobaazonosító": "124",
                                    "foglalásazonosító": "1330",
                                    "foglalás hossza (nap)": "7",
                                    "adott szobára előző fogalalás hossza": "4"
                                },
                                {
                                    "szobaazonosító": "124",
                                    "foglalásazonosító": "1403",
                                    "foglalás hossza (nap)": "6",
                                    "adott szobára előző fogalalás hossza": "7"
                                },
                                {
                                    "szobaazonosító": "124",
                                    "foglalásazonosító": "1419",
                                    "foglalás hossza (nap)": "3",
                                    "adott szobára előző fogalalás hossza": "6"
                                },
                                {
                                    "szobaazonosító": "124",
                                    "foglalásazonosító": "1531",
                                    "foglalás hossza (nap)": "6",
                                    "adott szobára előző fogalalás hossza": "3"
                                },
                                {
                                    "szobaazonosító": "125",
                                    "foglalásazonosító": "576",
                                    "foglalás hossza (nap)": "1",
                                    "adott szobára előző fogalalás hossza": "0"
                                },
                                {
                                    "szobaazonosító": "126",
                                    "foglalásazonosító": "754",
                                    "foglalás hossza (nap)": "4",
                                    "adott szobára előző fogalalás hossza": "0"
                                },
                                {
                                    "szobaazonosító": "126",
                                    "foglalásazonosító": "806",
                                    "foglalás hossza (nap)": "6",
                                    "adott szobára előző fogalalás hossza": "4"
                                },
                                {
                                    "szobaazonosító": "126",
                                    "foglalásazonosító": "1134",
                                    "foglalás hossza (nap)": "1",
                                    "adott szobára előző fogalalás hossza": "6"
                                },
                                {
                                    "szobaazonosító": "126",
                                    "foglalásazonosító": "1364",
                                    "foglalás hossza (nap)": "6",
                                    "adott szobára előző fogalalás hossza": "1"
                                },
                                {
                                    "szobaazonosító": "126",
                                    "foglalásazonosító": "1428",
                                    "foglalás hossza (nap)": "7",
                                    "adott szobára előző fogalalás hossza": "6"
                                },
                                {
                                    "szobaazonosító": "126",
                                    "foglalásazonosító": "1500",
                                    "foglalás hossza (nap)": "4",
                                    "adott szobára előző fogalalás hossza": "7"
                                },
                                {
                                    "szobaazonosító": "127",
                                    "foglalásazonosító": "643",
                                    "foglalás hossza (nap)": "2",
                                    "adott szobára előző fogalalás hossza": "0"
                                },
                                {
                                    "szobaazonosító": "127",
                                    "foglalásazonosító": "853",
                                    "foglalás hossza (nap)": "5",
                                    "adott szobára előző fogalalás hossza": "2"
                                },
                                {
                                    "szobaazonosító": "127",
                                    "foglalásazonosító": "879",
                                    "foglalás hossza (nap)": "2",
                                    "adott szobára előző fogalalás hossza": "5"
                                },
                                {
                                    "szobaazonosító": "127",
                                    "foglalásazonosító": "1034",
                                    "foglalás hossza (nap)": "6",
                                    "adott szobára előző fogalalás hossza": "2"
                                },
                                {
                                    "szobaazonosító": "127",
                                    "foglalásazonosító": "1226",
                                    "foglalás hossza (nap)": "5",
                                    "adott szobára előző fogalalás hossza": "6"
                                },
                                {
                                    "szobaazonosító": "127",
                                    "foglalásazonosító": "1286",
                                    "foglalás hossza (nap)": "1",
                                    "adott szobára előző fogalalás hossza": "5"
                                },
                                {
                                    "szobaazonosító": "127",
                                    "foglalásazonosító": "1579",
                                    "foglalás hossza (nap)": "5",
                                    "adott szobára előző fogalalás hossza": "1"
                                },
                                {
                                    "szobaazonosító": "128",
                                    "foglalásazonosító": "717",
                                    "foglalás hossza (nap)": "2",
                                    "adott szobára előző fogalalás hossza": "0"
                                },
                                {
                                    "szobaazonosító": "128",
                                    "foglalásazonosító": "815",
                                    "foglalás hossza (nap)": "1",
                                    "adott szobára előző fogalalás hossza": "2"
                                },
                                {
                                    "szobaazonosító": "128",
                                    "foglalásazonosító": "1290",
                                    "foglalás hossza (nap)": "1",
                                    "adott szobára előző fogalalás hossza": "1"
                                },
                                {
                                    "szobaazonosító": "128",
                                    "foglalásazonosító": "1574",
                                    "foglalás hossza (nap)": "1",
                                    "adott szobára előző fogalalás hossza": "1"
                                },
                                {
                                    "szobaazonosító": "128",
                                    "foglalásazonosító": "1583",
                                    "foglalás hossza (nap)": "4",
                                    "adott szobára előző fogalalás hossza": "1"
                                },
                                {
                                    "szobaazonosító": "129",
                                    "foglalásazonosító": "723",
                                    "foglalás hossza (nap)": "7",
                                    "adott szobára előző fogalalás hossza": "0"
                                },
                                {
                                    "szobaazonosító": "129",
                                    "foglalásazonosító": "1360",
                                    "foglalás hossza (nap)": "6",
                                    "adott szobára előző fogalalás hossza": "7"
                                },
                                {
                                    "szobaazonosító": "129",
                                    "foglalásazonosító": "1445",
                                    "foglalás hossza (nap)": "7",
                                    "adott szobára előző fogalalás hossza": "6"
                                },
                                {
                                    "szobaazonosító": "129",
                                    "foglalásazonosító": "1509",
                                    "foglalás hossza (nap)": "6",
                                    "adott szobára előző fogalalás hossza": "7"
                                },
                                {
                                    "szobaazonosító": "130",
                                    "foglalásazonosító": "580",
                                    "foglalás hossza (nap)": "3",
                                    "adott szobára előző fogalalás hossza": "0"
                                },
                                {
                                    "szobaazonosító": "130",
                                    "foglalásazonosító": "613",
                                    "foglalás hossza (nap)": "3",
                                    "adott szobára előző fogalalás hossza": "3"
                                },
                                {
                                    "szobaazonosító": "130",
                                    "foglalásazonosító": "910",
                                    "foglalás hossza (nap)": "2",
                                    "adott szobára előző fogalalás hossza": "3"
                                },
                                {
                                    "szobaazonosító": "130",
                                    "foglalásazonosító": "779",
                                    "foglalás hossza (nap)": "6",
                                    "adott szobára előző fogalalás hossza": "2"
                                },
                                {
                                    "szobaazonosító": "130",
                                    "foglalásazonosító": "1040",
                                    "foglalás hossza (nap)": "1",
                                    "adott szobára előző fogalalás hossza": "6"
                                },
                                {
                                    "szobaazonosító": "130",
                                    "foglalásazonosító": "1475",
                                    "foglalás hossza (nap)": "7",
                                    "adott szobára előző fogalalás hossza": "1"
                                },
                                {
                                    "szobaazonosító": "131",
                                    "foglalásazonosító": "559",
                                    "foglalás hossza (nap)": "2",
                                    "adott szobára előző fogalalás hossza": "0"
                                },
                                {
                                    "szobaazonosító": "131",
                                    "foglalásazonosító": "655",
                                    "foglalás hossza (nap)": "1",
                                    "adott szobára előző fogalalás hossza": "2"
                                },
                                {
                                    "szobaazonosító": "131",
                                    "foglalásazonosító": "881",
                                    "foglalás hossza (nap)": "6",
                                    "adott szobára előző fogalalás hossza": "1"
                                },
                                {
                                    "szobaazonosító": "131",
                                    "foglalásazonosító": "760",
                                    "foglalás hossza (nap)": "4",
                                    "adott szobára előző fogalalás hossza": "6"
                                },
                                {
                                    "szobaazonosító": "131",
                                    "foglalásazonosító": "1474",
                                    "foglalás hossza (nap)": "5",
                                    "adott szobára előző fogalalás hossza": "4"
                                },
                                {
                                    "szobaazonosító": "132",
                                    "foglalásazonosító": "619",
                                    "foglalás hossza (nap)": "7",
                                    "adott szobára előző fogalalás hossza": "0"
                                },
                                {
                                    "szobaazonosító": "132",
                                    "foglalásazonosító": "999",
                                    "foglalás hossza (nap)": "6",
                                    "adott szobára előző fogalalás hossza": "7"
                                },
                                {
                                    "szobaazonosító": "132",
                                    "foglalásazonosító": "1090",
                                    "foglalás hossza (nap)": "7",
                                    "adott szobára előző fogalalás hossza": "6"
                                },
                                {
                                    "szobaazonosító": "132",
                                    "foglalásazonosító": "1111",
                                    "foglalás hossza (nap)": "3",
                                    "adott szobára előző fogalalás hossza": "7"
                                },
                                {
                                    "szobaazonosító": "132",
                                    "foglalásazonosító": "1301",
                                    "foglalás hossza (nap)": "2",
                                    "adott szobára előző fogalalás hossza": "3"
                                },
                                {
                                    "szobaazonosító": "132",
                                    "foglalásazonosító": "1519",
                                    "foglalás hossza (nap)": "2",
                                    "adott szobára előző fogalalás hossza": "2"
                                },
                                {
                                    "szobaazonosító": "133",
                                    "foglalásazonosító": "909",
                                    "foglalás hossza (nap)": "4",
                                    "adott szobára előző fogalalás hossza": "0"
                                },
                                {
                                    "szobaazonosító": "133",
                                    "foglalásazonosító": "988",
                                    "foglalás hossza (nap)": "3",
                                    "adott szobára előző fogalalás hossza": "4"
                                },
                                {
                                    "szobaazonosító": "133",
                                    "foglalásazonosító": "1149",
                                    "foglalás hossza (nap)": "7",
                                    "adott szobára előző fogalalás hossza": "3"
                                },
                                {
                                    "szobaazonosító": "133",
                                    "foglalásazonosító": "1306",
                                    "foglalás hossza (nap)": "3",
                                    "adott szobára előző fogalalás hossza": "7"
                                },
                                {
                                    "szobaazonosító": "133",
                                    "foglalásazonosító": "1363",
                                    "foglalás hossza (nap)": "5",
                                    "adott szobára előző fogalalás hossza": "3"
                                },
                                {
                                    "szobaazonosító": "133",
                                    "foglalásazonosító": "1409",
                                    "foglalás hossza (nap)": "1",
                                    "adott szobára előző fogalalás hossza": "5"
                                },
                                {
                                    "szobaazonosító": "134",
                                    "foglalásazonosító": "1004",
                                    "foglalás hossza (nap)": "5",
                                    "adott szobára előző fogalalás hossza": "0"
                                },
                                {
                                    "szobaazonosító": "134",
                                    "foglalásazonosító": "1024",
                                    "foglalás hossza (nap)": "1",
                                    "adott szobára előző fogalalás hossza": "5"
                                },
                                {
                                    "szobaazonosító": "134",
                                    "foglalásazonosító": "1045",
                                    "foglalás hossza (nap)": "2",
                                    "adott szobára előző fogalalás hossza": "1"
                                },
                                {
                                    "szobaazonosító": "134",
                                    "foglalásazonosító": "1178",
                                    "foglalás hossza (nap)": "7",
                                    "adott szobára előző fogalalás hossza": "2"
                                },
                                {
                                    "szobaazonosító": "134",
                                    "foglalásazonosító": "1219",
                                    "foglalás hossza (nap)": "6",
                                    "adott szobára előző fogalalás hossza": "7"
                                },
                                {
                                    "szobaazonosító": "134",
                                    "foglalásazonosító": "1535",
                                    "foglalás hossza (nap)": "7",
                                    "adott szobára előző fogalalás hossza": "6"
                                },
                                {
                                    "szobaazonosító": "135",
                                    "foglalásazonosító": "724",
                                    "foglalás hossza (nap)": "6",
                                    "adott szobára előző fogalalás hossza": "0"
                                },
                                {
                                    "szobaazonosító": "135",
                                    "foglalásazonosító": "849",
                                    "foglalás hossza (nap)": "7",
                                    "adott szobára előző fogalalás hossza": "6"
                                },
                                {
                                    "szobaazonosító": "135",
                                    "foglalásazonosító": "1289",
                                    "foglalás hossza (nap)": "3",
                                    "adott szobára előző fogalalás hossza": "7"
                                },
                                {
                                    "szobaazonosító": "136",
                                    "foglalásazonosító": "584",
                                    "foglalás hossza (nap)": "2",
                                    "adott szobára előző fogalalás hossza": "0"
                                },
                                {
                                    "szobaazonosító": "136",
                                    "foglalásazonosító": "661",
                                    "foglalás hossza (nap)": "5",
                                    "adott szobára előző fogalalás hossza": "2"
                                },
                                {
                                    "szobaazonosító": "136",
                                    "foglalásazonosító": "1046",
                                    "foglalás hossza (nap)": "4",
                                    "adott szobára előző fogalalás hossza": "5"
                                },
                                {
                                    "szobaazonosító": "137",
                                    "foglalásazonosító": "582",
                                    "foglalás hossza (nap)": "3",
                                    "adott szobára előző fogalalás hossza": "0"
                                },
                                {
                                    "szobaazonosító": "137",
                                    "foglalásazonosító": "649",
                                    "foglalás hossza (nap)": "5",
                                    "adott szobára előző fogalalás hossza": "3"
                                },
                                {
                                    "szobaazonosító": "137",
                                    "foglalásazonosító": "657",
                                    "foglalás hossza (nap)": "6",
                                    "adott szobára előző fogalalás hossza": "5"
                                },
                                {
                                    "szobaazonosító": "137",
                                    "foglalásazonosító": "1014",
                                    "foglalás hossza (nap)": "1",
                                    "adott szobára előző fogalalás hossza": "6"
                                },
                                {
                                    "szobaazonosító": "137",
                                    "foglalásazonosító": "1201",
                                    "foglalás hossza (nap)": "6",
                                    "adott szobára előző fogalalás hossza": "1"
                                },
                                {
                                    "szobaazonosító": "137",
                                    "foglalásazonosító": "1280",
                                    "foglalás hossza (nap)": "3",
                                    "adott szobára előző fogalalás hossza": "6"
                                },
                                {
                                    "szobaazonosító": "138",
                                    "foglalásazonosító": "768",
                                    "foglalás hossza (nap)": "6",
                                    "adott szobára előző fogalalás hossza": "0"
                                },
                                {
                                    "szobaazonosító": "138",
                                    "foglalásazonosító": "796",
                                    "foglalás hossza (nap)": "4",
                                    "adott szobára előző fogalalás hossza": "6"
                                },
                                {
                                    "szobaazonosító": "138",
                                    "foglalásazonosító": "1256",
                                    "foglalás hossza (nap)": "4",
                                    "adott szobára előző fogalalás hossza": "4"
                                },
                                {
                                    "szobaazonosító": "138",
                                    "foglalásazonosító": "1283",
                                    "foglalás hossza (nap)": "2",
                                    "adott szobára előző fogalalás hossza": "4"
                                },
                                {
                                    "szobaazonosító": "138",
                                    "foglalásazonosító": "1294",
                                    "foglalás hossza (nap)": "5",
                                    "adott szobára előző fogalalás hossza": "2"
                                },
                                {
                                    "szobaazonosító": "138",
                                    "foglalásazonosító": "1358",
                                    "foglalás hossza (nap)": "7",
                                    "adott szobára előző fogalalás hossza": "5"
                                },
                                {
                                    "szobaazonosító": "138",
                                    "foglalásazonosító": "1370",
                                    "foglalás hossza (nap)": "5",
                                    "adott szobára előző fogalalás hossza": "7"
                                },
                                {
                                    "szobaazonosító": "139",
                                    "foglalásazonosító": "579",
                                    "foglalás hossza (nap)": "2",
                                    "adott szobára előző fogalalás hossza": "0"
                                },
                                {
                                    "szobaazonosító": "139",
                                    "foglalásazonosító": "745",
                                    "foglalás hossza (nap)": "1",
                                    "adott szobára előző fogalalás hossza": "2"
                                },
                                {
                                    "szobaazonosító": "139",
                                    "foglalásazonosító": "751",
                                    "foglalás hossza (nap)": "4",
                                    "adott szobára előző fogalalás hossza": "1"
                                },
                                {
                                    "szobaazonosító": "139",
                                    "foglalásazonosító": "1042",
                                    "foglalás hossza (nap)": "2",
                                    "adott szobára előző fogalalás hossza": "4"
                                },
                                {
                                    "szobaazonosító": "139",
                                    "foglalásazonosító": "1064",
                                    "foglalás hossza (nap)": "6",
                                    "adott szobára előző fogalalás hossza": "2"
                                },
                                {
                                    "szobaazonosító": "139",
                                    "foglalásazonosító": "1433",
                                    "foglalás hossza (nap)": "6",
                                    "adott szobára előző fogalalás hossza": "6"
                                },
                                {
                                    "szobaazonosító": "139",
                                    "foglalásazonosító": "1450",
                                    "foglalás hossza (nap)": "7",
                                    "adott szobára előző fogalalás hossza": "6"
                                },
                                {
                                    "szobaazonosító": "140",
                                    "foglalásazonosító": "915",
                                    "foglalás hossza (nap)": "2",
                                    "adott szobára előző fogalalás hossza": "0"
                                },
                                {
                                    "szobaazonosító": "140",
                                    "foglalásazonosító": "733",
                                    "foglalás hossza (nap)": "1",
                                    "adott szobára előző fogalalás hossza": "2"
                                },
                                {
                                    "szobaazonosító": "140",
                                    "foglalásazonosító": "1098",
                                    "foglalás hossza (nap)": "2",
                                    "adott szobára előző fogalalás hossza": "1"
                                },
                                {
                                    "szobaazonosító": "140",
                                    "foglalásazonosító": "1156",
                                    "foglalás hossza (nap)": "3",
                                    "adott szobára előző fogalalás hossza": "2"
                                },
                                {
                                    "szobaazonosító": "140",
                                    "foglalásazonosító": "1259",
                                    "foglalás hossza (nap)": "7",
                                    "adott szobára előző fogalalás hossza": "3"
                                },
                                {
                                    "szobaazonosító": "140",
                                    "foglalásazonosító": "1357",
                                    "foglalás hossza (nap)": "4",
                                    "adott szobára előző fogalalás hossza": "7"
                                },
                                {
                                    "szobaazonosító": "140",
                                    "foglalásazonosító": "1361",
                                    "foglalás hossza (nap)": "3",
                                    "adott szobára előző fogalalás hossza": "4"
                                },
                                {
                                    "szobaazonosító": "140",
                                    "foglalásazonosító": "1371",
                                    "foglalás hossza (nap)": "1",
                                    "adott szobára előző fogalalás hossza": "3"
                                },
                                {
                                    "szobaazonosító": "141",
                                    "foglalásazonosító": "565",
                                    "foglalás hossza (nap)": "6",
                                    "adott szobára előző fogalalás hossza": "0"
                                },
                                {
                                    "szobaazonosító": "141",
                                    "foglalásazonosító": "908",
                                    "foglalás hossza (nap)": "2",
                                    "adott szobára előző fogalalás hossza": "6"
                                },
                                {
                                    "szobaazonosító": "141",
                                    "foglalásazonosító": "761",
                                    "foglalás hossza (nap)": "3",
                                    "adott szobára előző fogalalás hossza": "2"
                                },
                                {
                                    "szobaazonosító": "141",
                                    "foglalásazonosító": "784",
                                    "foglalás hossza (nap)": "7",
                                    "adott szobára előző fogalalás hossza": "3"
                                },
                                {
                                    "szobaazonosító": "141",
                                    "foglalásazonosító": "1254",
                                    "foglalás hossza (nap)": "4",
                                    "adott szobára előző fogalalás hossza": "7"
                                },
                                {
                                    "szobaazonosító": "141",
                                    "foglalásazonosító": "1401",
                                    "foglalás hossza (nap)": "6",
                                    "adott szobára előző fogalalás hossza": "4"
                                },
                                {
                                    "szobaazonosító": "142",
                                    "foglalásazonosító": "1369",
                                    "foglalás hossza (nap)": "6",
                                    "adott szobára előző fogalalás hossza": "0"
                                },
                                {
                                    "szobaazonosító": "142",
                                    "foglalásazonosító": "1545",
                                    "foglalás hossza (nap)": "3",
                                    "adott szobára előző fogalalás hossza": "6"
                                },
                                {
                                    "szobaazonosító": "143",
                                    "foglalásazonosító": "980",
                                    "foglalás hossza (nap)": "3",
                                    "adott szobára előző fogalalás hossza": "0"
                                },
                                {
                                    "szobaazonosító": "143",
                                    "foglalásazonosító": "1155",
                                    "foglalás hossza (nap)": "7",
                                    "adott szobára előző fogalalás hossza": "3"
                                },
                                {
                                    "szobaazonosító": "143",
                                    "foglalásazonosító": "1193",
                                    "foglalás hossza (nap)": "6",
                                    "adott szobára előző fogalalás hossza": "7"
                                },
                                {
                                    "szobaazonosító": "143",
                                    "foglalásazonosító": "1222",
                                    "foglalás hossza (nap)": "2",
                                    "adott szobára előző fogalalás hossza": "6"
                                },
                                {
                                    "szobaazonosító": "143",
                                    "foglalásazonosító": "1313",
                                    "foglalás hossza (nap)": "4",
                                    "adott szobára előző fogalalás hossza": "2"
                                },
                                {
                                    "szobaazonosító": "143",
                                    "foglalásazonosító": "1394",
                                    "foglalás hossza (nap)": "3",
                                    "adott szobára előző fogalalás hossza": "4"
                                },
                                {
                                    "szobaazonosító": "143",
                                    "foglalásazonosító": "1448",
                                    "foglalás hossza (nap)": "6",
                                    "adott szobára előző fogalalás hossza": "3"
                                },
                                {
                                    "szobaazonosító": "144",
                                    "foglalásazonosító": "581",
                                    "foglalás hossza (nap)": "4",
                                    "adott szobára előző fogalalás hossza": "0"
                                },
                                {
                                    "szobaazonosító": "144",
                                    "foglalásazonosító": "1087",
                                    "foglalás hossza (nap)": "2",
                                    "adott szobára előző fogalalás hossza": "4"
                                },
                                {
                                    "szobaazonosító": "144",
                                    "foglalásazonosító": "1199",
                                    "foglalás hossza (nap)": "7",
                                    "adott szobára előző fogalalás hossza": "2"
                                },
                                {
                                    "szobaazonosító": "144",
                                    "foglalásazonosító": "1297",
                                    "foglalás hossza (nap)": "1",
                                    "adott szobára előző fogalalás hossza": "7"
                                },
                                {
                                    "szobaazonosító": "144",
                                    "foglalásazonosító": "1572",
                                    "foglalás hossza (nap)": "2",
                                    "adott szobára előző fogalalás hossza": "1"
                                },
                                {
                                    "szobaazonosító": "145",
                                    "foglalásazonosító": "703",
                                    "foglalás hossza (nap)": "4",
                                    "adott szobára előző fogalalás hossza": "0"
                                },
                                {
                                    "szobaazonosító": "145",
                                    "foglalásazonosító": "1077",
                                    "foglalás hossza (nap)": "1",
                                    "adott szobára előző fogalalás hossza": "4"
                                },
                                {
                                    "szobaazonosító": "145",
                                    "foglalásazonosító": "1120",
                                    "foglalás hossza (nap)": "1",
                                    "adott szobára előző fogalalás hossza": "1"
                                },
                                {
                                    "szobaazonosító": "145",
                                    "foglalásazonosító": "1145",
                                    "foglalás hossza (nap)": "4",
                                    "adott szobára előző fogalalás hossza": "1"
                                },
                                {
                                    "szobaazonosító": "145",
                                    "foglalásazonosító": "1338",
                                    "foglalás hossza (nap)": "2",
                                    "adott szobára előző fogalalás hossza": "4"
                                },
                                {
                                    "szobaazonosító": "145",
                                    "foglalásazonosító": "1471",
                                    "foglalás hossza (nap)": "1",
                                    "adott szobára előző fogalalás hossza": "2"
                                },
                                {
                                    "szobaazonosító": "146",
                                    "foglalásazonosító": "890",
                                    "foglalás hossza (nap)": "3",
                                    "adott szobára előző fogalalás hossza": "0"
                                },
                                {
                                    "szobaazonosító": "146",
                                    "foglalásazonosító": "664",
                                    "foglalás hossza (nap)": "3",
                                    "adott szobára előző fogalalás hossza": "3"
                                },
                                {
                                    "szobaazonosító": "146",
                                    "foglalásazonosító": "789",
                                    "foglalás hossza (nap)": "7",
                                    "adott szobára előző fogalalás hossza": "3"
                                },
                                {
                                    "szobaazonosító": "146",
                                    "foglalásazonosító": "804",
                                    "foglalás hossza (nap)": "7",
                                    "adott szobára előző fogalalás hossza": "7"
                                },
                                {
                                    "szobaazonosító": "146",
                                    "foglalásazonosító": "1032",
                                    "foglalás hossza (nap)": "5",
                                    "adott szobára előző fogalalás hossza": "7"
                                },
                                {
                                    "szobaazonosító": "146",
                                    "foglalásazonosító": "1479",
                                    "foglalás hossza (nap)": "6",
                                    "adott szobára előző fogalalás hossza": "5"
                                },
                                {
                                    "szobaazonosító": "147",
                                    "foglalásazonosító": "771",
                                    "foglalás hossza (nap)": "4",
                                    "adott szobára előző fogalalás hossza": "0"
                                },
                                {
                                    "szobaazonosító": "148",
                                    "foglalásazonosító": "678",
                                    "foglalás hossza (nap)": "4",
                                    "adott szobára előző fogalalás hossza": "0"
                                },
                                {
                                    "szobaazonosító": "148",
                                    "foglalásazonosító": "765",
                                    "foglalás hossza (nap)": "3",
                                    "adott szobára előző fogalalás hossza": "4"
                                },
                                {
                                    "szobaazonosító": "148",
                                    "foglalásazonosító": "783",
                                    "foglalás hossza (nap)": "7",
                                    "adott szobára előző fogalalás hossza": "3"
                                },
                                {
                                    "szobaazonosító": "148",
                                    "foglalásazonosító": "808",
                                    "foglalás hossza (nap)": "2",
                                    "adott szobára előző fogalalás hossza": "7"
                                },
                                {
                                    "szobaazonosító": "148",
                                    "foglalásazonosító": "812",
                                    "foglalás hossza (nap)": "6",
                                    "adott szobára előző fogalalás hossza": "2"
                                },
                                {
                                    "szobaazonosító": "148",
                                    "foglalásazonosító": "1578",
                                    "foglalás hossza (nap)": "7",
                                    "adott szobára előző fogalalás hossza": "6"
                                },
                                {
                                    "szobaazonosító": "149",
                                    "foglalásazonosító": "591",
                                    "foglalás hossza (nap)": "1",
                                    "adott szobára előző fogalalás hossza": "0"
                                },
                                {
                                    "szobaazonosító": "149",
                                    "foglalásazonosító": "652",
                                    "foglalás hossza (nap)": "1",
                                    "adott szobára előző fogalalás hossza": "1"
                                },
                                {
                                    "szobaazonosító": "149",
                                    "foglalásazonosító": "833",
                                    "foglalás hossza (nap)": "2",
                                    "adott szobára előző fogalalás hossza": "1"
                                },
                                {
                                    "szobaazonosító": "149",
                                    "foglalásazonosító": "834",
                                    "foglalás hossza (nap)": "5",
                                    "adott szobára előző fogalalás hossza": "2"
                                },
                                {
                                    "szobaazonosító": "149",
                                    "foglalásazonosító": "843",
                                    "foglalás hossza (nap)": "4",
                                    "adott szobára előző fogalalás hossza": "5"
                                },
                                {
                                    "szobaazonosító": "149",
                                    "foglalásazonosító": "1146",
                                    "foglalás hossza (nap)": "6",
                                    "adott szobára előző fogalalás hossza": "4"
                                },
                                {
                                    "szobaazonosító": "149",
                                    "foglalásazonosító": "1514",
                                    "foglalás hossza (nap)": "5",
                                    "adott szobára előző fogalalás hossza": "6"
                                },
                                {
                                    "szobaazonosító": "150",
                                    "foglalásazonosító": "641",
                                    "foglalás hossza (nap)": "3",
                                    "adott szobára előző fogalalás hossza": "0"
                                },
                                {
                                    "szobaazonosító": "150",
                                    "foglalásazonosító": "1100",
                                    "foglalás hossza (nap)": "5",
                                    "adott szobára előző fogalalás hossza": "3"
                                },
                                {
                                    "szobaazonosító": "150",
                                    "foglalásazonosító": "1105",
                                    "foglalás hossza (nap)": "1",
                                    "adott szobára előző fogalalás hossza": "5"
                                },
                                {
                                    "szobaazonosító": "150",
                                    "foglalásazonosító": "1177",
                                    "foglalás hossza (nap)": "1",
                                    "adott szobára előző fogalalás hossza": "1"
                                },
                                {
                                    "szobaazonosító": "150",
                                    "foglalásazonosító": "1203",
                                    "foglalás hossza (nap)": "4",
                                    "adott szobára előző fogalalás hossza": "1"
                                },
                                {
                                    "szobaazonosító": "150",
                                    "foglalásazonosító": "1432",
                                    "foglalás hossza (nap)": "3",
                                    "adott szobára előző fogalalás hossza": "4"
                                },
                                {
                                    "szobaazonosító": "151",
                                    "foglalásazonosító": "893",
                                    "foglalás hossza (nap)": "3",
                                    "adott szobára előző fogalalás hossza": "0"
                                },
                                {
                                    "szobaazonosító": "151",
                                    "foglalásazonosító": "1058",
                                    "foglalás hossza (nap)": "3",
                                    "adott szobára előző fogalalás hossza": "3"
                                },
                                {
                                    "szobaazonosító": "151",
                                    "foglalásazonosító": "1115",
                                    "foglalás hossza (nap)": "3",
                                    "adott szobára előző fogalalás hossza": "3"
                                },
                                {
                                    "szobaazonosító": "152",
                                    "foglalásazonosító": "730",
                                    "foglalás hossza (nap)": "2",
                                    "adott szobára előző fogalalás hossza": "0"
                                },
                                {
                                    "szobaazonosító": "152",
                                    "foglalásazonosító": "1160",
                                    "foglalás hossza (nap)": "7",
                                    "adott szobára előző fogalalás hossza": "2"
                                },
                                {
                                    "szobaazonosító": "152",
                                    "foglalásazonosító": "1197",
                                    "foglalás hossza (nap)": "6",
                                    "adott szobára előző fogalalás hossza": "7"
                                },
                                {
                                    "szobaazonosító": "152",
                                    "foglalásazonosító": "1558",
                                    "foglalás hossza (nap)": "2",
                                    "adott szobára előző fogalalás hossza": "6"
                                },
                                {
                                    "szobaazonosító": "153",
                                    "foglalásazonosító": "594",
                                    "foglalás hossza (nap)": "3",
                                    "adott szobára előző fogalalás hossza": "0"
                                },
                                {
                                    "szobaazonosító": "153",
                                    "foglalásazonosító": "969",
                                    "foglalás hossza (nap)": "6",
                                    "adott szobára előző fogalalás hossza": "3"
                                },
                                {
                                    "szobaazonosító": "153",
                                    "foglalásazonosító": "1460",
                                    "foglalás hossza (nap)": "3",
                                    "adott szobára előző fogalalás hossza": "6"
                                },
                                {
                                    "szobaazonosító": "153",
                                    "foglalásazonosító": "1470",
                                    "foglalás hossza (nap)": "5",
                                    "adott szobára előző fogalalás hossza": "3"
                                },
                                {
                                    "szobaazonosító": "153",
                                    "foglalásazonosító": "1507",
                                    "foglalás hossza (nap)": "3",
                                    "adott szobára előző fogalalás hossza": "5"
                                },
                                {
                                    "szobaazonosító": "154",
                                    "foglalásazonosító": "968",
                                    "foglalás hossza (nap)": "1",
                                    "adott szobára előző fogalalás hossza": "0"
                                },
                                {
                                    "szobaazonosító": "154",
                                    "foglalásazonosító": "1061",
                                    "foglalás hossza (nap)": "7",
                                    "adott szobára előző fogalalás hossza": "1"
                                },
                                {
                                    "szobaazonosító": "154",
                                    "foglalásazonosító": "1168",
                                    "foglalás hossza (nap)": "6",
                                    "adott szobára előző fogalalás hossza": "7"
                                },
                                {
                                    "szobaazonosító": "154",
                                    "foglalásazonosító": "1262",
                                    "foglalás hossza (nap)": "1",
                                    "adott szobára előző fogalalás hossza": "6"
                                },
                                {
                                    "szobaazonosító": "154",
                                    "foglalásazonosító": "1539",
                                    "foglalás hossza (nap)": "2",
                                    "adott szobára előző fogalalás hossza": "1"
                                },
                                {
                                    "szobaazonosító": "155",
                                    "foglalásazonosító": "575",
                                    "foglalás hossza (nap)": "1",
                                    "adott szobára előző fogalalás hossza": "0"
                                },
                                {
                                    "szobaazonosító": "155",
                                    "foglalásazonosító": "577",
                                    "foglalás hossza (nap)": "3",
                                    "adott szobára előző fogalalás hossza": "1"
                                },
                                {
                                    "szobaazonosító": "155",
                                    "foglalásazonosító": "1112",
                                    "foglalás hossza (nap)": "4",
                                    "adott szobára előző fogalalás hossza": "3"
                                },
                                {
                                    "szobaazonosító": "155",
                                    "foglalásazonosító": "1310",
                                    "foglalás hossza (nap)": "1",
                                    "adott szobára előző fogalalás hossza": "4"
                                },
                                {
                                    "szobaazonosító": "155",
                                    "foglalásazonosító": "1541",
                                    "foglalás hossza (nap)": "1",
                                    "adott szobára előző fogalalás hossza": "1"
                                },
                                {
                                    "szobaazonosító": "156",
                                    "foglalásazonosító": "588",
                                    "foglalás hossza (nap)": "7",
                                    "adott szobára előző fogalalás hossza": "0"
                                },
                                {
                                    "szobaazonosító": "156",
                                    "foglalásazonosító": "907",
                                    "foglalás hossza (nap)": "3",
                                    "adott szobára előző fogalalás hossza": "7"
                                },
                                {
                                    "szobaazonosító": "156",
                                    "foglalásazonosító": "956",
                                    "foglalás hossza (nap)": "6",
                                    "adott szobára előző fogalalás hossza": "3"
                                },
                                {
                                    "szobaazonosító": "156",
                                    "foglalásazonosító": "692",
                                    "foglalás hossza (nap)": "6",
                                    "adott szobára előző fogalalás hossza": "6"
                                },
                                {
                                    "szobaazonosító": "156",
                                    "foglalásazonosító": "1462",
                                    "foglalás hossza (nap)": "7",
                                    "adott szobára előző fogalalás hossza": "6"
                                },
                                {
                                    "szobaazonosító": "156",
                                    "foglalásazonosító": "1490",
                                    "foglalás hossza (nap)": "1",
                                    "adott szobára előző fogalalás hossza": "7"
                                },
                                {
                                    "szobaazonosító": "156",
                                    "foglalásazonosító": "1561",
                                    "foglalás hossza (nap)": "4",
                                    "adott szobára előző fogalalás hossza": "1"
                                },
                                {
                                    "szobaazonosító": "157",
                                    "foglalásazonosító": "648",
                                    "foglalás hossza (nap)": "4",
                                    "adott szobára előző fogalalás hossza": "0"
                                },
                                {
                                    "szobaazonosító": "157",
                                    "foglalásazonosító": "1025",
                                    "foglalás hossza (nap)": "3",
                                    "adott szobára előző fogalalás hossza": "4"
                                },
                                {
                                    "szobaazonosító": "157",
                                    "foglalásazonosító": "1047",
                                    "foglalás hossza (nap)": "4",
                                    "adott szobára előző fogalalás hossza": "3"
                                },
                                {
                                    "szobaazonosító": "157",
                                    "foglalásazonosító": "1240",
                                    "foglalás hossza (nap)": "7",
                                    "adott szobára előző fogalalás hossza": "4"
                                },
                                {
                                    "szobaazonosító": "157",
                                    "foglalásazonosító": "1551",
                                    "foglalás hossza (nap)": "3",
                                    "adott szobára előző fogalalás hossza": "7"
                                },
                                {
                                    "szobaazonosító": "158",
                                    "foglalásazonosító": "825",
                                    "foglalás hossza (nap)": "4",
                                    "adott szobára előző fogalalás hossza": "0"
                                },
                                {
                                    "szobaazonosító": "158",
                                    "foglalásazonosító": "840",
                                    "foglalás hossza (nap)": "4",
                                    "adott szobára előző fogalalás hossza": "4"
                                },
                                {
                                    "szobaazonosító": "158",
                                    "foglalásazonosító": "1117",
                                    "foglalás hossza (nap)": "3",
                                    "adott szobára előző fogalalás hossza": "4"
                                },
                                {
                                    "szobaazonosító": "160",
                                    "foglalásazonosító": "922",
                                    "foglalás hossza (nap)": "2",
                                    "adott szobára előző fogalalás hossza": "0"
                                },
                                {
                                    "szobaazonosító": "160",
                                    "foglalásazonosító": "927",
                                    "foglalás hossza (nap)": "4",
                                    "adott szobára előző fogalalás hossza": "2"
                                },
                                {
                                    "szobaazonosító": "160",
                                    "foglalásazonosító": "933",
                                    "foglalás hossza (nap)": "4",
                                    "adott szobára előző fogalalás hossza": "4"
                                },
                                {
                                    "szobaazonosító": "160",
                                    "foglalásazonosító": "720",
                                    "foglalás hossza (nap)": "2",
                                    "adott szobára előző fogalalás hossza": "4"
                                },
                                {
                                    "szobaazonosító": "160",
                                    "foglalásazonosító": "1565",
                                    "foglalás hossza (nap)": "3",
                                    "adott szobára előző fogalalás hossza": "2"
                                },
                                {
                                    "szobaazonosító": "161",
                                    "foglalásazonosító": "639",
                                    "foglalás hossza (nap)": "4",
                                    "adott szobára előző fogalalás hossza": "0"
                                },
                                {
                                    "szobaazonosító": "161",
                                    "foglalásazonosító": "653",
                                    "foglalás hossza (nap)": "7",
                                    "adott szobára előző fogalalás hossza": "4"
                                },
                                {
                                    "szobaazonosító": "161",
                                    "foglalásazonosító": "911",
                                    "foglalás hossza (nap)": "4",
                                    "adott szobára előző fogalalás hossza": "7"
                                },
                                {
                                    "szobaazonosító": "161",
                                    "foglalásazonosító": "1068",
                                    "foglalás hossza (nap)": "6",
                                    "adott szobára előző fogalalás hossza": "4"
                                },
                                {
                                    "szobaazonosító": "161",
                                    "foglalásazonosító": "1190",
                                    "foglalás hossza (nap)": "7",
                                    "adott szobára előző fogalalás hossza": "6"
                                },
                                {
                                    "szobaazonosító": "161",
                                    "foglalásazonosító": "1571",
                                    "foglalás hossza (nap)": "4",
                                    "adott szobára előző fogalalás hossza": "7"
                                },
                                {
                                    "szobaazonosító": "162",
                                    "foglalásazonosító": "599",
                                    "foglalás hossza (nap)": "4",
                                    "adott szobára előző fogalalás hossza": "0"
                                },
                                {
                                    "szobaazonosító": "162",
                                    "foglalásazonosító": "1205",
                                    "foglalás hossza (nap)": "6",
                                    "adott szobára előző fogalalás hossza": "4"
                                },
                                {
                                    "szobaazonosító": "162",
                                    "foglalásazonosító": "1400",
                                    "foglalás hossza (nap)": "1",
                                    "adott szobára előző fogalalás hossza": "6"
                                },
                                {
                                    "szobaazonosító": "163",
                                    "foglalásazonosító": "630",
                                    "foglalás hossza (nap)": "2",
                                    "adott szobára előző fogalalás hossza": "0"
                                },
                                {
                                    "szobaazonosító": "163",
                                    "foglalásazonosító": "941",
                                    "foglalás hossza (nap)": "1",
                                    "adott szobára előző fogalalás hossza": "2"
                                },
                                {
                                    "szobaazonosító": "163",
                                    "foglalásazonosító": "782",
                                    "foglalás hossza (nap)": "3",
                                    "adott szobára előző fogalalás hossza": "1"
                                },
                                {
                                    "szobaazonosító": "163",
                                    "foglalásazonosító": "1075",
                                    "foglalás hossza (nap)": "4",
                                    "adott szobára előző fogalalás hossza": "3"
                                },
                                {
                                    "szobaazonosító": "163",
                                    "foglalásazonosító": "1107",
                                    "foglalás hossza (nap)": "3",
                                    "adott szobára előző fogalalás hossza": "4"
                                },
                                {
                                    "szobaazonosító": "163",
                                    "foglalásazonosító": "1265",
                                    "foglalás hossza (nap)": "5",
                                    "adott szobára előző fogalalás hossza": "3"
                                },
                                {
                                    "szobaazonosító": "163",
                                    "foglalásazonosító": "1487",
                                    "foglalás hossza (nap)": "3",
                                    "adott szobára előző fogalalás hossza": "5"
                                },
                                {
                                    "szobaazonosító": "164",
                                    "foglalásazonosító": "570",
                                    "foglalás hossza (nap)": "7",
                                    "adott szobára előző fogalalás hossza": "0"
                                },
                                {
                                    "szobaazonosító": "164",
                                    "foglalásazonosító": "1010",
                                    "foglalás hossza (nap)": "2",
                                    "adott szobára előző fogalalás hossza": "7"
                                },
                                {
                                    "szobaazonosító": "164",
                                    "foglalásazonosító": "742",
                                    "foglalás hossza (nap)": "6",
                                    "adott szobára előző fogalalás hossza": "2"
                                },
                                {
                                    "szobaazonosító": "164",
                                    "foglalásazonosító": "1284",
                                    "foglalás hossza (nap)": "4",
                                    "adott szobára előző fogalalás hossza": "6"
                                },
                                {
                                    "szobaazonosító": "164",
                                    "foglalásazonosító": "1292",
                                    "foglalás hossza (nap)": "2",
                                    "adott szobára előző fogalalás hossza": "4"
                                },
                                {
                                    "szobaazonosító": "165",
                                    "foglalásazonosító": "640",
                                    "foglalás hossza (nap)": "3",
                                    "adott szobára előző fogalalás hossza": "0"
                                },
                                {
                                    "szobaazonosító": "165",
                                    "foglalásazonosító": "857",
                                    "foglalás hossza (nap)": "5",
                                    "adott szobára előző fogalalás hossza": "3"
                                },
                                {
                                    "szobaazonosító": "165",
                                    "foglalásazonosító": "900",
                                    "foglalás hossza (nap)": "6",
                                    "adott szobára előző fogalalás hossza": "5"
                                },
                                {
                                    "szobaazonosító": "165",
                                    "foglalásazonosító": "897",
                                    "foglalás hossza (nap)": "6",
                                    "adott szobára előző fogalalás hossza": "6"
                                },
                                {
                                    "szobaazonosító": "165",
                                    "foglalásazonosító": "892",
                                    "foglalás hossza (nap)": "3",
                                    "adott szobára előző fogalalás hossza": "6"
                                },
                                {
                                    "szobaazonosító": "165",
                                    "foglalásazonosító": "1141",
                                    "foglalás hossza (nap)": "1",
                                    "adott szobára előző fogalalás hossza": "3"
                                },
                                {
                                    "szobaazonosító": "165",
                                    "foglalásazonosító": "1375",
                                    "foglalás hossza (nap)": "4",
                                    "adott szobára előző fogalalás hossza": "1"
                                },
                                {
                                    "szobaazonosító": "166",
                                    "foglalásazonosító": "644",
                                    "foglalás hossza (nap)": "7",
                                    "adott szobára előző fogalalás hossza": "0"
                                },
                                {
                                    "szobaazonosító": "166",
                                    "foglalásazonosító": "781",
                                    "foglalás hossza (nap)": "7",
                                    "adott szobára előző fogalalás hossza": "7"
                                },
                                {
                                    "szobaazonosító": "166",
                                    "foglalásazonosító": "1526",
                                    "foglalás hossza (nap)": "2",
                                    "adott szobára előző fogalalás hossza": "7"
                                },
                                {
                                    "szobaazonosító": "167",
                                    "foglalásazonosító": "854",
                                    "foglalás hossza (nap)": "7",
                                    "adott szobára előző fogalalás hossza": "0"
                                },
                                {
                                    "szobaazonosító": "167",
                                    "foglalásazonosító": "1414",
                                    "foglalás hossza (nap)": "3",
                                    "adott szobára előző fogalalás hossza": "7"
                                },
                                {
                                    "szobaazonosító": "168",
                                    "foglalásazonosító": "930",
                                    "foglalás hossza (nap)": "3",
                                    "adott szobára előző fogalalás hossza": "0"
                                },
                                {
                                    "szobaazonosító": "168",
                                    "foglalásazonosító": "792",
                                    "foglalás hossza (nap)": "3",
                                    "adott szobára előző fogalalás hossza": "3"
                                },
                                {
                                    "szobaazonosító": "168",
                                    "foglalásazonosító": "794",
                                    "foglalás hossza (nap)": "4",
                                    "adott szobára előző fogalalás hossza": "3"
                                },
                                {
                                    "szobaazonosító": "168",
                                    "foglalásazonosító": "1249",
                                    "foglalás hossza (nap)": "4",
                                    "adott szobára előző fogalalás hossza": "4"
                                },
                                {
                                    "szobaazonosító": "168",
                                    "foglalásazonosító": "1266",
                                    "foglalás hossza (nap)": "4",
                                    "adott szobára előző fogalalás hossza": "4"
                                },
                                {
                                    "szobaazonosító": "169",
                                    "foglalásazonosító": "573",
                                    "foglalás hossza (nap)": "5",
                                    "adott szobára előző fogalalás hossza": "0"
                                },
                                {
                                    "szobaazonosító": "169",
                                    "foglalásazonosító": "659",
                                    "foglalás hossza (nap)": "6",
                                    "adott szobára előző fogalalás hossza": "5"
                                },
                                {
                                    "szobaazonosító": "169",
                                    "foglalásazonosító": "974",
                                    "foglalás hossza (nap)": "1",
                                    "adott szobára előző fogalalás hossza": "6"
                                },
                                {
                                    "szobaazonosító": "169",
                                    "foglalásazonosító": "746",
                                    "foglalás hossza (nap)": "7",
                                    "adott szobára előző fogalalás hossza": "1"
                                },
                                {
                                    "szobaazonosító": "169",
                                    "foglalásazonosító": "1356",
                                    "foglalás hossza (nap)": "4",
                                    "adott szobára előző fogalalás hossza": "7"
                                },
                                {
                                    "szobaazonosító": "169",
                                    "foglalásazonosító": "1427",
                                    "foglalás hossza (nap)": "1",
                                    "adott szobára előző fogalalás hossza": "4"
                                },
                                {
                                    "szobaazonosító": "170",
                                    "foglalásazonosító": "567",
                                    "foglalás hossza (nap)": "7",
                                    "adott szobára előző fogalalás hossza": "0"
                                },
                                {
                                    "szobaazonosító": "170",
                                    "foglalásazonosító": "944",
                                    "foglalás hossza (nap)": "4",
                                    "adott szobára előző fogalalás hossza": "7"
                                },
                                {
                                    "szobaazonosító": "170",
                                    "foglalásazonosító": "1194",
                                    "foglalás hossza (nap)": "4",
                                    "adott szobára előző fogalalás hossza": "4"
                                },
                                {
                                    "szobaazonosító": "170",
                                    "foglalásazonosító": "1267",
                                    "foglalás hossza (nap)": "7",
                                    "adott szobára előző fogalalás hossza": "4"
                                },
                                {
                                    "szobaazonosító": "170",
                                    "foglalásazonosító": "1342",
                                    "foglalás hossza (nap)": "6",
                                    "adott szobára előző fogalalás hossza": "7"
                                },
                                {
                                    "szobaazonosító": "171",
                                    "foglalásazonosító": "574",
                                    "foglalás hossza (nap)": "2",
                                    "adott szobára előző fogalalás hossza": "0"
                                },
                                {
                                    "szobaazonosító": "171",
                                    "foglalásazonosító": "981",
                                    "foglalás hossza (nap)": "4",
                                    "adott szobára előző fogalalás hossza": "2"
                                },
                                {
                                    "szobaazonosító": "171",
                                    "foglalásazonosító": "1181",
                                    "foglalás hossza (nap)": "6",
                                    "adott szobára előző fogalalás hossza": "4"
                                },
                                {
                                    "szobaazonosító": "171",
                                    "foglalásazonosító": "1329",
                                    "foglalás hossza (nap)": "5",
                                    "adott szobára előző fogalalás hossza": "6"
                                },
                                {
                                    "szobaazonosító": "171",
                                    "foglalásazonosító": "1567",
                                    "foglalás hossza (nap)": "6",
                                    "adott szobára előző fogalalás hossza": "5"
                                },
                                {
                                    "szobaazonosító": "172",
                                    "foglalásazonosító": "984",
                                    "foglalás hossza (nap)": "4",
                                    "adott szobára előző fogalalás hossza": "0"
                                },
                                {
                                    "szobaazonosító": "172",
                                    "foglalásazonosító": "709",
                                    "foglalás hossza (nap)": "5",
                                    "adott szobára előző fogalalás hossza": "4"
                                },
                                {
                                    "szobaazonosító": "172",
                                    "foglalásazonosító": "749",
                                    "foglalás hossza (nap)": "6",
                                    "adott szobára előző fogalalás hossza": "5"
                                },
                                {
                                    "szobaazonosító": "172",
                                    "foglalásazonosító": "839",
                                    "foglalás hossza (nap)": "5",
                                    "adott szobára előző fogalalás hossza": "6"
                                },
                                {
                                    "szobaazonosító": "172",
                                    "foglalásazonosító": "1142",
                                    "foglalás hossza (nap)": "4",
                                    "adott szobára előző fogalalás hossza": "5"
                                },
                                {
                                    "szobaazonosító": "172",
                                    "foglalásazonosító": "1171",
                                    "foglalás hossza (nap)": "5",
                                    "adott szobára előző fogalalás hossza": "4"
                                },
                                {
                                    "szobaazonosító": "172",
                                    "foglalásazonosító": "1336",
                                    "foglalás hossza (nap)": "5",
                                    "adott szobára előző fogalalás hossza": "5"
                                },
                                {
                                    "szobaazonosító": "172",
                                    "foglalásazonosító": "1421",
                                    "foglalás hossza (nap)": "5",
                                    "adott szobára előző fogalalás hossza": "5"
                                },
                                {
                                    "szobaazonosító": "172",
                                    "foglalásazonosító": "1491",
                                    "foglalás hossza (nap)": "2",
                                    "adott szobára előző fogalalás hossza": "5"
                                },
                                {
                                    "szobaazonosító": "173",
                                    "foglalásazonosító": "913",
                                    "foglalás hossza (nap)": "1",
                                    "adott szobára előző fogalalás hossza": "0"
                                },
                                {
                                    "szobaazonosító": "173",
                                    "foglalásazonosító": "669",
                                    "foglalás hossza (nap)": "7",
                                    "adott szobára előző fogalalás hossza": "1"
                                },
                                {
                                    "szobaazonosító": "173",
                                    "foglalásazonosító": "1350",
                                    "foglalás hossza (nap)": "3",
                                    "adott szobára előző fogalalás hossza": "7"
                                },
                                {
                                    "szobaazonosító": "173",
                                    "foglalásazonosító": "1429",
                                    "foglalás hossza (nap)": "4",
                                    "adott szobára előző fogalalás hossza": "3"
                                },
                                {
                                    "szobaazonosító": "174",
                                    "foglalásazonosító": "917",
                                    "foglalás hossza (nap)": "2",
                                    "adott szobára előző fogalalás hossza": "0"
                                },
                                {
                                    "szobaazonosító": "174",
                                    "foglalásazonosító": "1015",
                                    "foglalás hossza (nap)": "5",
                                    "adott szobára előző fogalalás hossza": "2"
                                },
                                {
                                    "szobaazonosító": "174",
                                    "foglalásazonosító": "682",
                                    "foglalás hossza (nap)": "3",
                                    "adott szobára előző fogalalás hossza": "5"
                                },
                                {
                                    "szobaazonosító": "174",
                                    "foglalásazonosító": "1276",
                                    "foglalás hossza (nap)": "1",
                                    "adott szobára előző fogalalás hossza": "3"
                                },
                                {
                                    "szobaazonosító": "175",
                                    "foglalásazonosító": "867",
                                    "foglalás hossza (nap)": "6",
                                    "adott szobára előző fogalalás hossza": "0"
                                },
                                {
                                    "szobaazonosító": "175",
                                    "foglalásazonosító": "799",
                                    "foglalás hossza (nap)": "4",
                                    "adott szobára előző fogalalás hossza": "6"
                                },
                                {
                                    "szobaazonosító": "175",
                                    "foglalásazonosító": "1094",
                                    "foglalás hossza (nap)": "5",
                                    "adott szobára előző fogalalás hossza": "4"
                                },
                                {
                                    "szobaazonosító": "175",
                                    "foglalásazonosító": "1133",
                                    "foglalás hossza (nap)": "2",
                                    "adott szobára előző fogalalás hossza": "5"
                                },
                                {
                                    "szobaazonosító": "175",
                                    "foglalásazonosító": "1407",
                                    "foglalás hossza (nap)": "7",
                                    "adott szobára előző fogalalás hossza": "2"
                                },
                                {
                                    "szobaazonosító": "176",
                                    "foglalásazonosító": "592",
                                    "foglalás hossza (nap)": "5",
                                    "adott szobára előző fogalalás hossza": "0"
                                },
                                {
                                    "szobaazonosító": "176",
                                    "foglalásazonosító": "1143",
                                    "foglalás hossza (nap)": "6",
                                    "adott szobára előző fogalalás hossza": "5"
                                },
                                {
                                    "szobaazonosító": "176",
                                    "foglalásazonosító": "1278",
                                    "foglalás hossza (nap)": "6",
                                    "adott szobára előző fogalalás hossza": "6"
                                },
                                {
                                    "szobaazonosító": "176",
                                    "foglalásazonosító": "1383",
                                    "foglalás hossza (nap)": "4",
                                    "adott szobára előző fogalalás hossza": "6"
                                },
                                {
                                    "szobaazonosító": "176",
                                    "foglalásazonosító": "1511",
                                    "foglalás hossza (nap)": "2",
                                    "adott szobára előző fogalalás hossza": "4"
                                },
                                {
                                    "szobaazonosító": "176",
                                    "foglalásazonosító": "1570",
                                    "foglalás hossza (nap)": "3",
                                    "adott szobára előző fogalalás hossza": "2"
                                },
                                {
                                    "szobaazonosító": "177",
                                    "foglalásazonosító": "785",
                                    "foglalás hossza (nap)": "3",
                                    "adott szobára előző fogalalás hossza": "0"
                                },
                                {
                                    "szobaazonosító": "177",
                                    "foglalásazonosító": "831",
                                    "foglalás hossza (nap)": "7",
                                    "adott szobára előző fogalalás hossza": "3"
                                },
                                {
                                    "szobaazonosító": "177",
                                    "foglalásazonosító": "1176",
                                    "foglalás hossza (nap)": "3",
                                    "adott szobára előző fogalalás hossza": "7"
                                },
                                {
                                    "szobaazonosító": "177",
                                    "foglalásazonosító": "1503",
                                    "foglalás hossza (nap)": "3",
                                    "adott szobára előző fogalalás hossza": "3"
                                },
                                {
                                    "szobaazonosító": "178",
                                    "foglalásazonosító": "991",
                                    "foglalás hossza (nap)": "7",
                                    "adott szobára előző fogalalás hossza": "0"
                                },
                                {
                                    "szobaazonosító": "178",
                                    "foglalásazonosító": "816",
                                    "foglalás hossza (nap)": "4",
                                    "adott szobára előző fogalalás hossza": "7"
                                },
                                {
                                    "szobaazonosító": "178",
                                    "foglalásazonosító": "1211",
                                    "foglalás hossza (nap)": "3",
                                    "adott szobára előző fogalalás hossza": "4"
                                },
                                {
                                    "szobaazonosító": "178",
                                    "foglalásazonosító": "1242",
                                    "foglalás hossza (nap)": "1",
                                    "adott szobára előző fogalalás hossza": "3"
                                },
                                {
                                    "szobaazonosító": "179",
                                    "foglalásazonosító": "662",
                                    "foglalás hossza (nap)": "2",
                                    "adott szobára előző fogalalás hossza": "0"
                                },
                                {
                                    "szobaazonosító": "179",
                                    "foglalásazonosító": "1021",
                                    "foglalás hossza (nap)": "1",
                                    "adott szobára előző fogalalás hossza": "2"
                                },
                                {
                                    "szobaazonosító": "179",
                                    "foglalásazonosító": "1497",
                                    "foglalás hossza (nap)": "1",
                                    "adott szobára előző fogalalás hossza": "1"
                                },
                                {
                                    "szobaazonosító": "180",
                                    "foglalásazonosító": "905",
                                    "foglalás hossza (nap)": "5",
                                    "adott szobára előző fogalalás hossza": "0"
                                },
                                {
                                    "szobaazonosító": "180",
                                    "foglalásazonosító": "1559",
                                    "foglalás hossza (nap)": "3",
                                    "adott szobára előző fogalalás hossza": "5"
                                },
                                {
                                    "szobaazonosító": "180",
                                    "foglalásazonosító": "1563",
                                    "foglalás hossza (nap)": "6",
                                    "adott szobára előző fogalalás hossza": "3"
                                },
                                {
                                    "szobaazonosító": "181",
                                    "foglalásazonosító": "937",
                                    "foglalás hossza (nap)": "3",
                                    "adott szobára előző fogalalás hossza": "0"
                                },
                                {
                                    "szobaazonosító": "181",
                                    "foglalásazonosító": "958",
                                    "foglalás hossza (nap)": "5",
                                    "adott szobára előző fogalalás hossza": "3"
                                },
                                {
                                    "szobaazonosító": "181",
                                    "foglalásazonosító": "1022",
                                    "foglalás hossza (nap)": "1",
                                    "adott szobára előző fogalalás hossza": "5"
                                },
                                {
                                    "szobaazonosító": "181",
                                    "foglalásazonosító": "677",
                                    "foglalás hossza (nap)": "4",
                                    "adott szobára előző fogalalás hossza": "1"
                                },
                                {
                                    "szobaazonosító": "181",
                                    "foglalásazonosító": "731",
                                    "foglalás hossza (nap)": "6",
                                    "adott szobára előző fogalalás hossza": "4"
                                },
                                {
                                    "szobaazonosító": "181",
                                    "foglalásazonosító": "1346",
                                    "foglalás hossza (nap)": "6",
                                    "adott szobára előző fogalalás hossza": "6"
                                },
                                {
                                    "szobaazonosító": "182",
                                    "foglalásazonosító": "571",
                                    "foglalás hossza (nap)": "2",
                                    "adott szobára előző fogalalás hossza": "0"
                                },
                                {
                                    "szobaazonosító": "182",
                                    "foglalásazonosító": "928",
                                    "foglalás hossza (nap)": "2",
                                    "adott szobára előző fogalalás hossza": "2"
                                },
                                {
                                    "szobaazonosító": "182",
                                    "foglalásazonosító": "1008",
                                    "foglalás hossza (nap)": "6",
                                    "adott szobára előző fogalalás hossza": "2"
                                },
                                {
                                    "szobaazonosító": "182",
                                    "foglalásazonosító": "740",
                                    "foglalás hossza (nap)": "3",
                                    "adott szobára előző fogalalás hossza": "6"
                                },
                                {
                                    "szobaazonosító": "182",
                                    "foglalásazonosító": "1188",
                                    "foglalás hossza (nap)": "1",
                                    "adott szobára előző fogalalás hossza": "3"
                                },
                                {
                                    "szobaazonosító": "182",
                                    "foglalásazonosító": "1230",
                                    "foglalás hossza (nap)": "7",
                                    "adott szobára előző fogalalás hossza": "1"
                                },
                                {
                                    "szobaazonosító": "182",
                                    "foglalásazonosító": "1231",
                                    "foglalás hossza (nap)": "4",
                                    "adott szobára előző fogalalás hossza": "7"
                                },
                                {
                                    "szobaazonosító": "182",
                                    "foglalásazonosító": "1308",
                                    "foglalás hossza (nap)": "1",
                                    "adott szobára előző fogalalás hossza": "4"
                                },
                                {
                                    "szobaazonosító": "182",
                                    "foglalásazonosító": "1317",
                                    "foglalás hossza (nap)": "3",
                                    "adott szobára előző fogalalás hossza": "1"
                                },
                                {
                                    "szobaazonosító": "182",
                                    "foglalásazonosító": "1326",
                                    "foglalás hossza (nap)": "4",
                                    "adott szobára előző fogalalás hossza": "3"
                                },
                                {
                                    "szobaazonosító": "182",
                                    "foglalásazonosító": "1410",
                                    "foglalás hossza (nap)": "4",
                                    "adott szobára előző fogalalás hossza": "4"
                                },
                                {
                                    "szobaazonosító": "182",
                                    "foglalásazonosító": "1422",
                                    "foglalás hossza (nap)": "3",
                                    "adott szobára előző fogalalás hossza": "4"
                                },
                                {
                                    "szobaazonosító": "183",
                                    "foglalásazonosító": "939",
                                    "foglalás hossza (nap)": "4",
                                    "adott szobára előző fogalalás hossza": "0"
                                },
                                {
                                    "szobaazonosító": "183",
                                    "foglalásazonosító": "1067",
                                    "foglalás hossza (nap)": "7",
                                    "adott szobára előző fogalalás hossza": "4"
                                },
                                {
                                    "szobaazonosító": "183",
                                    "foglalásazonosító": "1147",
                                    "foglalás hossza (nap)": "4",
                                    "adott szobára előző fogalalás hossza": "7"
                                },
                                {
                                    "szobaazonosító": "183",
                                    "foglalásazonosító": "1437",
                                    "foglalás hossza (nap)": "4",
                                    "adott szobára előző fogalalás hossza": "4"
                                },
                                {
                                    "szobaazonosító": "184",
                                    "foglalásazonosító": "608",
                                    "foglalás hossza (nap)": "2",
                                    "adott szobára előző fogalalás hossza": "0"
                                },
                                {
                                    "szobaazonosító": "184",
                                    "foglalásazonosító": "880",
                                    "foglalás hossza (nap)": "4",
                                    "adott szobára előző fogalalás hossza": "2"
                                },
                                {
                                    "szobaazonosító": "184",
                                    "foglalásazonosító": "684",
                                    "foglalás hossza (nap)": "3",
                                    "adott szobára előző fogalalás hossza": "4"
                                },
                                {
                                    "szobaazonosító": "184",
                                    "foglalásazonosító": "1251",
                                    "foglalás hossza (nap)": "4",
                                    "adott szobára előző fogalalás hossza": "3"
                                },
                                {
                                    "szobaazonosító": "185",
                                    "foglalásazonosító": "578",
                                    "foglalás hossza (nap)": "6",
                                    "adott szobára előző fogalalás hossza": "0"
                                },
                                {
                                    "szobaazonosító": "185",
                                    "foglalásazonosító": "863",
                                    "foglalás hossza (nap)": "4",
                                    "adott szobára előző fogalalás hossza": "6"
                                },
                                {
                                    "szobaazonosító": "185",
                                    "foglalásazonosító": "898",
                                    "foglalás hossza (nap)": "4",
                                    "adott szobára előző fogalalás hossza": "4"
                                },
                                {
                                    "szobaazonosító": "185",
                                    "foglalásazonosító": "925",
                                    "foglalás hossza (nap)": "6",
                                    "adott szobára előző fogalalás hossza": "4"
                                },
                                {
                                    "szobaazonosító": "185",
                                    "foglalásazonosító": "672",
                                    "foglalás hossza (nap)": "3",
                                    "adott szobára előző fogalalás hossza": "6"
                                },
                                {
                                    "szobaazonosító": "185",
                                    "foglalásazonosító": "679",
                                    "foglalás hossza (nap)": "5",
                                    "adott szobára előző fogalalás hossza": "3"
                                },
                                {
                                    "szobaazonosító": "185",
                                    "foglalásazonosító": "693",
                                    "foglalás hossza (nap)": "2",
                                    "adott szobára előző fogalalás hossza": "5"
                                },
                                {
                                    "szobaazonosító": "185",
                                    "foglalásazonosító": "711",
                                    "foglalás hossza (nap)": "3",
                                    "adott szobára előző fogalalás hossza": "2"
                                },
                                {
                                    "szobaazonosító": "185",
                                    "foglalásazonosító": "1125",
                                    "foglalás hossza (nap)": "3",
                                    "adott szobára előző fogalalás hossza": "3"
                                },
                                {
                                    "szobaazonosító": "185",
                                    "foglalásazonosító": "1183",
                                    "foglalás hossza (nap)": "5",
                                    "adott szobára előző fogalalás hossza": "3"
                                },
                                {
                                    "szobaazonosító": "185",
                                    "foglalásazonosító": "1441",
                                    "foglalás hossza (nap)": "7",
                                    "adott szobára előző fogalalás hossza": "5"
                                },
                                {
                                    "szobaazonosító": "185",
                                    "foglalásazonosító": "1463",
                                    "foglalás hossza (nap)": "7",
                                    "adott szobára előző fogalalás hossza": "7"
                                },
                                {
                                    "szobaazonosító": "186",
                                    "foglalásazonosító": "615",
                                    "foglalás hossza (nap)": "3",
                                    "adott szobára előző fogalalás hossza": "0"
                                },
                                {
                                    "szobaazonosító": "186",
                                    "foglalásazonosító": "1153",
                                    "foglalás hossza (nap)": "3",
                                    "adott szobára előző fogalalás hossza": "3"
                                },
                                {
                                    "szobaazonosító": "186",
                                    "foglalásazonosító": "1248",
                                    "foglalás hossza (nap)": "2",
                                    "adott szobára előző fogalalás hossza": "3"
                                },
                                {
                                    "szobaazonosító": "186",
                                    "foglalásazonosító": "1467",
                                    "foglalás hossza (nap)": "3",
                                    "adott szobára előző fogalalás hossza": "2"
                                },
                                {
                                    "szobaazonosító": "187",
                                    "foglalásazonosító": "633",
                                    "foglalás hossza (nap)": "6",
                                    "adott szobára előző fogalalás hossza": "0"
                                },
                                {
                                    "szobaazonosító": "187",
                                    "foglalásazonosító": "868",
                                    "foglalás hossza (nap)": "4",
                                    "adott szobára előző fogalalás hossza": "6"
                                },
                                {
                                    "szobaazonosító": "187",
                                    "foglalásazonosító": "957",
                                    "foglalás hossza (nap)": "4",
                                    "adott szobára előző fogalalás hossza": "4"
                                },
                                {
                                    "szobaazonosító": "187",
                                    "foglalásazonosító": "695",
                                    "foglalás hossza (nap)": "6",
                                    "adott szobára előző fogalalás hossza": "4"
                                },
                                {
                                    "szobaazonosító": "187",
                                    "foglalásazonosító": "743",
                                    "foglalás hossza (nap)": "2",
                                    "adott szobára előző fogalalás hossza": "6"
                                },
                                {
                                    "szobaazonosító": "187",
                                    "foglalásazonosító": "766",
                                    "foglalás hossza (nap)": "1",
                                    "adott szobára előző fogalalás hossza": "2"
                                },
                                {
                                    "szobaazonosító": "187",
                                    "foglalásazonosító": "1404",
                                    "foglalás hossza (nap)": "2",
                                    "adott szobára előző fogalalás hossza": "1"
                                },
                                {
                                    "szobaazonosító": "188",
                                    "foglalásazonosító": "912",
                                    "foglalás hossza (nap)": "1",
                                    "adott szobára előző fogalalás hossza": "0"
                                },
                                {
                                    "szobaazonosító": "188",
                                    "foglalásazonosító": "690",
                                    "foglalás hossza (nap)": "4",
                                    "adott szobára előző fogalalás hossza": "1"
                                },
                                {
                                    "szobaazonosító": "188",
                                    "foglalásazonosító": "710",
                                    "foglalás hossza (nap)": "7",
                                    "adott szobára előző fogalalás hossza": "4"
                                },
                                {
                                    "szobaazonosító": "188",
                                    "foglalásazonosító": "747",
                                    "foglalás hossza (nap)": "3",
                                    "adott szobára előző fogalalás hossza": "7"
                                },
                                {
                                    "szobaazonosító": "188",
                                    "foglalásazonosító": "1030",
                                    "foglalás hossza (nap)": "4",
                                    "adott szobára előző fogalalás hossza": "3"
                                },
                                {
                                    "szobaazonosító": "188",
                                    "foglalásazonosító": "1390",
                                    "foglalás hossza (nap)": "5",
                                    "adott szobára előző fogalalás hossza": "4"
                                },
                                {
                                    "szobaazonosító": "189",
                                    "foglalásazonosító": "699",
                                    "foglalás hossza (nap)": "2",
                                    "adott szobára előző fogalalás hossza": "0"
                                },
                                {
                                    "szobaazonosító": "189",
                                    "foglalásazonosító": "753",
                                    "foglalás hossza (nap)": "1",
                                    "adott szobára előző fogalalás hossza": "2"
                                },
                                {
                                    "szobaazonosító": "189",
                                    "foglalásazonosító": "1204",
                                    "foglalás hossza (nap)": "2",
                                    "adott szobára előző fogalalás hossza": "1"
                                },
                                {
                                    "szobaazonosító": "189",
                                    "foglalásazonosító": "1449",
                                    "foglalás hossza (nap)": "2",
                                    "adott szobára előző fogalalás hossza": "2"
                                },
                                {
                                    "szobaazonosító": "189",
                                    "foglalásazonosító": "1576",
                                    "foglalás hossza (nap)": "3",
                                    "adott szobára előző fogalalás hossza": "2"
                                },
                                {
                                    "szobaazonosító": "190",
                                    "foglalásazonosító": "600",
                                    "foglalás hossza (nap)": "7",
                                    "adott szobára előző fogalalás hossza": "0"
                                },
                                {
                                    "szobaazonosító": "190",
                                    "foglalásazonosító": "989",
                                    "foglalás hossza (nap)": "1",
                                    "adott szobára előző fogalalás hossza": "7"
                                },
                                {
                                    "szobaazonosító": "190",
                                    "foglalásazonosító": "1017",
                                    "foglalás hossza (nap)": "1",
                                    "adott szobára előző fogalalás hossza": "1"
                                },
                                {
                                    "szobaazonosító": "190",
                                    "foglalásazonosító": "774",
                                    "foglalás hossza (nap)": "5",
                                    "adott szobára előző fogalalás hossza": "1"
                                },
                                {
                                    "szobaazonosító": "190",
                                    "foglalásazonosító": "1517",
                                    "foglalás hossza (nap)": "5",
                                    "adott szobára előző fogalalás hossza": "5"
                                },
                                {
                                    "szobaazonosító": "191",
                                    "foglalásazonosító": "1039",
                                    "foglalás hossza (nap)": "6",
                                    "adott szobára előző fogalalás hossza": "0"
                                },
                                {
                                    "szobaazonosító": "191",
                                    "foglalásazonosító": "1302",
                                    "foglalás hossza (nap)": "1",
                                    "adott szobára előző fogalalás hossza": "6"
                                },
                                {
                                    "szobaazonosító": "191",
                                    "foglalásazonosító": "1323",
                                    "foglalás hossza (nap)": "7",
                                    "adott szobára előző fogalalás hossza": "1"
                                },
                                {
                                    "szobaazonosító": "191",
                                    "foglalásazonosító": "1502",
                                    "foglalás hossza (nap)": "2",
                                    "adott szobára előző fogalalás hossza": "7"
                                },
                                {
                                    "szobaazonosító": "191",
                                    "foglalásazonosító": "1508",
                                    "foglalás hossza (nap)": "7",
                                    "adott szobára előző fogalalás hossza": "2"
                                },
                                {
                                    "szobaazonosító": "192",
                                    "foglalásazonosító": "903",
                                    "foglalás hossza (nap)": "7",
                                    "adott szobára előző fogalalás hossza": "0"
                                },
                                {
                                    "szobaazonosító": "192",
                                    "foglalásazonosító": "680",
                                    "foglalás hossza (nap)": "4",
                                    "adott szobára előző fogalalás hossza": "7"
                                },
                                {
                                    "szobaazonosító": "193",
                                    "foglalásazonosító": "634",
                                    "foglalás hossza (nap)": "6",
                                    "adott szobára előző fogalalás hossza": "0"
                                },
                                {
                                    "szobaazonosító": "193",
                                    "foglalásazonosító": "926",
                                    "foglalás hossza (nap)": "1",
                                    "adott szobára előző fogalalás hossza": "6"
                                },
                                {
                                    "szobaazonosító": "193",
                                    "foglalásazonosító": "977",
                                    "foglalás hossza (nap)": "2",
                                    "adott szobára előző fogalalás hossza": "1"
                                },
                                {
                                    "szobaazonosító": "193",
                                    "foglalásazonosító": "675",
                                    "foglalás hossza (nap)": "2",
                                    "adott szobára előző fogalalás hossza": "2"
                                },
                                {
                                    "szobaazonosító": "193",
                                    "foglalásazonosító": "835",
                                    "foglalás hossza (nap)": "2",
                                    "adott szobára előző fogalalás hossza": "2"
                                },
                                {
                                    "szobaazonosító": "193",
                                    "foglalásazonosító": "1043",
                                    "foglalás hossza (nap)": "6",
                                    "adott szobára előző fogalalás hossza": "2"
                                },
                                {
                                    "szobaazonosító": "193",
                                    "foglalásazonosító": "1238",
                                    "foglalás hossza (nap)": "6",
                                    "adott szobára előző fogalalás hossza": "6"
                                },
                                {
                                    "szobaazonosító": "194",
                                    "foglalásazonosító": "1095",
                                    "foglalás hossza (nap)": "5",
                                    "adott szobára előző fogalalás hossza": "0"
                                },
                                {
                                    "szobaazonosító": "195",
                                    "foglalásazonosító": "721",
                                    "foglalás hossza (nap)": "4",
                                    "adott szobára előző fogalalás hossza": "0"
                                },
                                {
                                    "szobaazonosító": "195",
                                    "foglalásazonosító": "842",
                                    "foglalás hossza (nap)": "4",
                                    "adott szobára előző fogalalás hossza": "4"
                                },
                                {
                                    "szobaazonosító": "195",
                                    "foglalásazonosító": "1074",
                                    "foglalás hossza (nap)": "7",
                                    "adott szobára előző fogalalás hossza": "4"
                                },
                                {
                                    "szobaazonosító": "195",
                                    "foglalásazonosító": "1184",
                                    "foglalás hossza (nap)": "5",
                                    "adott szobára előző fogalalás hossza": "7"
                                },
                                {
                                    "szobaazonosító": "195",
                                    "foglalásazonosító": "1473",
                                    "foglalás hossza (nap)": "7",
                                    "adott szobára előző fogalalás hossza": "5"
                                },
                                {
                                    "szobaazonosító": "195",
                                    "foglalásazonosító": "1484",
                                    "foglalás hossza (nap)": "1",
                                    "adott szobára előző fogalalás hossza": "7"
                                },
                                {
                                    "szobaazonosító": "196",
                                    "foglalásazonosító": "952",
                                    "foglalás hossza (nap)": "3",
                                    "adott szobára előző fogalalás hossza": "0"
                                },
                                {
                                    "szobaazonosító": "196",
                                    "foglalásazonosító": "673",
                                    "foglalás hossza (nap)": "5",
                                    "adott szobára előző fogalalás hossza": "3"
                                },
                                {
                                    "szobaazonosító": "196",
                                    "foglalásazonosító": "1314",
                                    "foglalás hossza (nap)": "5",
                                    "adott szobára előző fogalalás hossza": "5"
                                },
                                {
                                    "szobaazonosító": "196",
                                    "foglalásazonosító": "1340",
                                    "foglalás hossza (nap)": "5",
                                    "adott szobára előző fogalalás hossza": "5"
                                },
                                {
                                    "szobaazonosító": "197",
                                    "foglalásazonosító": "993",
                                    "foglalás hossza (nap)": "7",
                                    "adott szobára előző fogalalás hossza": "0"
                                },
                                {
                                    "szobaazonosító": "197",
                                    "foglalásazonosító": "764",
                                    "foglalás hossza (nap)": "7",
                                    "adott szobára előző fogalalás hossza": "7"
                                },
                                {
                                    "szobaazonosító": "197",
                                    "foglalásazonosító": "1091",
                                    "foglalás hossza (nap)": "7",
                                    "adott szobára előző fogalalás hossza": "7"
                                },
                                {
                                    "szobaazonosító": "197",
                                    "foglalásazonosító": "1172",
                                    "foglalás hossza (nap)": "7",
                                    "adott szobára előző fogalalás hossza": "7"
                                },
                                {
                                    "szobaazonosító": "197",
                                    "foglalásazonosító": "1304",
                                    "foglalás hossza (nap)": "7",
                                    "adott szobára előző fogalalás hossza": "7"
                                },
                                {
                                    "szobaazonosító": "197",
                                    "foglalásazonosító": "1387",
                                    "foglalás hossza (nap)": "3",
                                    "adott szobára előző fogalalás hossza": "7"
                                },
                                {
                                    "szobaazonosító": "198",
                                    "foglalásazonosító": "978",
                                    "foglalás hossza (nap)": "1",
                                    "adott szobára előző fogalalás hossza": "0"
                                },
                                {
                                    "szobaazonosító": "198",
                                    "foglalásazonosító": "1011",
                                    "foglalás hossza (nap)": "7",
                                    "adott szobára előző fogalalás hossza": "1"
                                },
                                {
                                    "szobaazonosító": "198",
                                    "foglalásazonosító": "1065",
                                    "foglalás hossza (nap)": "3",
                                    "adott szobára előző fogalalás hossza": "7"
                                },
                                {
                                    "szobaazonosító": "198",
                                    "foglalásazonosító": "1116",
                                    "foglalás hossza (nap)": "1",
                                    "adott szobára előző fogalalás hossza": "3"
                                },
                                {
                                    "szobaazonosító": "198",
                                    "foglalásazonosító": "1138",
                                    "foglalás hossza (nap)": "5",
                                    "adott szobára előző fogalalás hossza": "1"
                                },
                                {
                                    "szobaazonosító": "198",
                                    "foglalásazonosító": "1161",
                                    "foglalás hossza (nap)": "5",
                                    "adott szobára előző fogalalás hossza": "5"
                                },
                                {
                                    "szobaazonosító": "198",
                                    "foglalásazonosító": "1216",
                                    "foglalás hossza (nap)": "7",
                                    "adott szobára előző fogalalás hossza": "5"
                                },
                                {
                                    "szobaazonosító": "198",
                                    "foglalásazonosító": "1420",
                                    "foglalás hossza (nap)": "5",
                                    "adott szobára előző fogalalás hossza": "7"
                                }
                            ]
                        },
                        "text/html": [
                            "<table>",
                            "<tr><th>szobaazonosító</th><th>foglalásazonosító</th><th>foglalás hossza (nap)</th><th>adott szobára előző fogalalás hossza</th></tr>",
                            "<tr><td>1</td><td>620</td><td>5</td><td>0</td></tr>",
                            "<tr><td>1</td><td>949</td><td>1</td><td>5</td></tr>",
                            "<tr><td>1</td><td>738</td><td>7</td><td>1</td></tr>",
                            "<tr><td>1</td><td>803</td><td>4</td><td>7</td></tr>",
                            "<tr><td>1</td><td>1137</td><td>2</td><td>4</td></tr>",
                            "<tr><td>1</td><td>1152</td><td>1</td><td>2</td></tr>",
                            "<tr><td>1</td><td>1274</td><td>1</td><td>1</td></tr>",
                            "<tr><td>1</td><td>1334</td><td>4</td><td>1</td></tr>",
                            "<tr><td>2</td><td>828</td><td>3</td><td>0</td></tr>",
                            "<tr><td>2</td><td>1051</td><td>1</td><td>3</td></tr>",
                            "<tr><td>2</td><td>1069</td><td>7</td><td>1</td></tr>",
                            "<tr><td>2</td><td>1311</td><td>7</td><td>7</td></tr>",
                            "<tr><td>3</td><td>629</td><td>4</td><td>0</td></tr>",
                            "<tr><td>3</td><td>666</td><td>6</td><td>4</td></tr>",
                            "<tr><td>3</td><td>788</td><td>6</td><td>6</td></tr>",
                            "<tr><td>3</td><td>1038</td><td>3</td><td>6</td></tr>",
                            "<tr><td>3</td><td>1110</td><td>7</td><td>3</td></tr>",
                            "<tr><td>3</td><td>1151</td><td>1</td><td>7</td></tr>",
                            "<tr><td>3</td><td>1434</td><td>5</td><td>1</td></tr>",
                            "<tr><td>3</td><td>1544</td><td>5</td><td>5</td></tr>",
                            "<tr><td>4</td><td>651</td><td>7</td><td>0</td></tr>",
                            "<tr><td>4</td><td>946</td><td>5</td><td>7</td></tr>",
                            "<tr><td>4</td><td>1001</td><td>7</td><td>5</td></tr>",
                            "<tr><td>4</td><td>1127</td><td>3</td><td>7</td></tr>",
                            "<tr><td>4</td><td>1132</td><td>6</td><td>3</td></tr>",
                            "<tr><td>4</td><td>1492</td><td>6</td><td>6</td></tr>",
                            "<tr><td>5</td><td>564</td><td>2</td><td>0</td></tr>",
                            "<tr><td>5</td><td>965</td><td>7</td><td>2</td></tr>",
                            "<tr><td>5</td><td>1073</td><td>5</td><td>7</td></tr>",
                            "<tr><td>5</td><td>1257</td><td>3</td><td>5</td></tr>",
                            "<tr><td>6</td><td>560</td><td>6</td><td>0</td></tr>",
                            "<tr><td>6</td><td>873</td><td>3</td><td>6</td></tr>",
                            "<tr><td>6</td><td>990</td><td>4</td><td>3</td></tr>",
                            "<tr><td>6</td><td>772</td><td>6</td><td>4</td></tr>",
                            "<tr><td>6</td><td>850</td><td>2</td><td>6</td></tr>",
                            "<tr><td>6</td><td>1099</td><td>4</td><td>2</td></tr>",
                            "<tr><td>7</td><td>562</td><td>4</td><td>0</td></tr>",
                            "<tr><td>7</td><td>759</td><td>7</td><td>4</td></tr>",
                            "<tr><td>7</td><td>1131</td><td>1</td><td>7</td></tr>",
                            "<tr><td>7</td><td>1175</td><td>4</td><td>1</td></tr>",
                            "<tr><td>7</td><td>1182</td><td>4</td><td>4</td></tr>",
                            "<tr><td>7</td><td>1252</td><td>2</td><td>4</td></tr>",
                            "<tr><td>8</td><td>882</td><td>1</td><td>0</td></tr>",
                            "<tr><td>8</td><td>947</td><td>3</td><td>1</td></tr>",
                            "<tr><td>8</td><td>694</td><td>4</td><td>3</td></tr>",
                            "<tr><td>8</td><td>818</td><td>4</td><td>4</td></tr>",
                            "<tr><td>8</td><td>832</td><td>4</td><td>4</td></tr>",
                            "<tr><td>9</td><td>609</td><td>2</td><td>0</td></tr>",
                            "<tr><td>9</td><td>1157</td><td>6</td><td>2</td></tr>",
                            "<tr><td>9</td><td>1220</td><td>3</td><td>6</td></tr>",
                            "<tr><td>9</td><td>1260</td><td>6</td><td>3</td></tr>",
                            "<tr><td>9</td><td>1423</td><td>3</td><td>6</td></tr>",
                            "<tr><td>9</td><td>1537</td><td>3</td><td>3</td></tr>",
                            "<tr><td>10</td><td>569</td><td>3</td><td>0</td></tr>",
                            "<tr><td>10</td><td>790</td><td>5</td><td>3</td></tr>",
                            "<tr><td>10</td><td>795</td><td>4</td><td>5</td></tr>",
                            "<tr><td>10</td><td>1319</td><td>6</td><td>4</td></tr>",
                            "<tr><td>11</td><td>918</td><td>6</td><td>0</td></tr>",
                            "<tr><td>11</td><td>1123</td><td>5</td><td>6</td></tr>",
                            "<tr><td>11</td><td>1236</td><td>1</td><td>5</td></tr>",
                            "<tr><td>11</td><td>1523</td><td>1</td><td>1</td></tr>",
                            "<tr><td>12</td><td>876</td><td>7</td><td>0</td></tr>",
                            "<tr><td>12</td><td>951</td><td>3</td><td>7</td></tr>",
                            "<tr><td>12</td><td>970</td><td>2</td><td>3</td></tr>",
                            "<tr><td>12</td><td>1020</td><td>5</td><td>2</td></tr>",
                            "<tr><td>12</td><td>697</td><td>2</td><td>5</td></tr>",
                            "<tr><td>12</td><td>775</td><td>4</td><td>2</td></tr>",
                            "<tr><td>12</td><td>1140</td><td>3</td><td>4</td></tr>",
                            "<tr><td>12</td><td>1164</td><td>5</td><td>3</td></tr>",
                            "<tr><td>12</td><td>1430</td><td>2</td><td>5</td></tr>",
                            "<tr><td>13</td><td>763</td><td>4</td><td>0</td></tr>",
                            "<tr><td>13</td><td>1044</td><td>6</td><td>4</td></tr>",
                            "<tr><td>13</td><td>1347</td><td>3</td><td>6</td></tr>",
                            "<tr><td>13</td><td>1469</td><td>2</td><td>3</td></tr>",
                            "<tr><td>14</td><td>663</td><td>1</td><td>0</td></tr>",
                            "<tr><td>14</td><td>813</td><td>3</td><td>1</td></tr>",
                            "<tr><td>14</td><td>1542</td><td>4</td><td>3</td></tr>",
                            "<tr><td>15</td><td>1028</td><td>2</td><td>0</td></tr>",
                            "<tr><td>15</td><td>791</td><td>5</td><td>2</td></tr>",
                            "<tr><td>15</td><td>1129</td><td>4</td><td>5</td></tr>",
                            "<tr><td>15</td><td>1244</td><td>1</td><td>4</td></tr>",
                            "<tr><td>15</td><td>1418</td><td>4</td><td>1</td></tr>",
                            "<tr><td>15</td><td>1442</td><td>3</td><td>4</td></tr>",
                            "<tr><td>16</td><td>856</td><td>6</td><td>0</td></tr>",
                            "<tr><td>16</td><td>896</td><td>1</td><td>6</td></tr>",
                            "<tr><td>16</td><td>973</td><td>1</td><td>1</td></tr>",
                            "<tr><td>16</td><td>687</td><td>3</td><td>1</td></tr>",
                            "<tr><td>16</td><td>1498</td><td>7</td><td>3</td></tr>",
                            "<tr><td>17</td><td>602</td><td>6</td><td>0</td></tr>",
                            "<tr><td>17</td><td>916</td><td>2</td><td>6</td></tr>",
                            "<tr><td>17</td><td>713</td><td>6</td><td>2</td></tr>",
                            "<tr><td>17</td><td>744</td><td>1</td><td>6</td></tr>",
                            "<tr><td>17</td><td>1316</td><td>5</td><td>1</td></tr>",
                            "<tr><td>17</td><td>1549</td><td>3</td><td>5</td></tr>",
                            "<tr><td>18</td><td>626</td><td>3</td><td>0</td></tr>",
                            "<tr><td>18</td><td>767</td><td>3</td><td>3</td></tr>",
                            "<tr><td>18</td><td>1035</td><td>6</td><td>3</td></tr>",
                            "<tr><td>18</td><td>1173</td><td>6</td><td>6</td></tr>",
                            "<tr><td>18</td><td>1198</td><td>4</td><td>6</td></tr>",
                            "<tr><td>18</td><td>1505</td><td>6</td><td>4</td></tr>",
                            "<tr><td>19</td><td>948</td><td>2</td><td>0</td></tr>",
                            "<tr><td>19</td><td>696</td><td>1</td><td>2</td></tr>",
                            "<tr><td>19</td><td>778</td><td>1</td><td>1</td></tr>",
                            "<tr><td>19</td><td>1139</td><td>7</td><td>1</td></tr>",
                            "<tr><td>19</td><td>1237</td><td>1</td><td>7</td></tr>",
                            "<tr><td>19</td><td>1533</td><td>1</td><td>1</td></tr>",
                            "<tr><td>20</td><td>755</td><td>6</td><td>0</td></tr>",
                            "<tr><td>20</td><td>820</td><td>1</td><td>6</td></tr>",
                            "<tr><td>20</td><td>1070</td><td>1</td><td>1</td></tr>",
                            "<tr><td>20</td><td>1114</td><td>5</td><td>1</td></tr>",
                            "<tr><td>20</td><td>1106</td><td>2</td><td>5</td></tr>",
                            "<tr><td>21</td><td>566</td><td>6</td><td>0</td></tr>",
                            "<tr><td>21</td><td>660</td><td>5</td><td>6</td></tr>",
                            "<tr><td>21</td><td>805</td><td>1</td><td>5</td></tr>",
                            "<tr><td>21</td><td>1212</td><td>6</td><td>1</td></tr>",
                            "<tr><td>22</td><td>906</td><td>1</td><td>0</td></tr>",
                            "<tr><td>22</td><td>1005</td><td>3</td><td>1</td></tr>",
                            "<tr><td>22</td><td>1130</td><td>1</td><td>3</td></tr>",
                            "<tr><td>22</td><td>1195</td><td>6</td><td>1</td></tr>",
                            "<tr><td>22</td><td>1206</td><td>7</td><td>6</td></tr>",
                            "<tr><td>22</td><td>1287</td><td>3</td><td>7</td></tr>",
                            "<tr><td>23</td><td>934</td><td>1</td><td>0</td></tr>",
                            "<tr><td>23</td><td>945</td><td>7</td><td>1</td></tr>",
                            "<tr><td>23</td><td>848</td><td>1</td><td>7</td></tr>",
                            "<tr><td>24</td><td>852</td><td>2</td><td>0</td></tr>",
                            "<tr><td>24</td><td>1167</td><td>1</td><td>2</td></tr>",
                            "<tr><td>24</td><td>1415</td><td>3</td><td>1</td></tr>",
                            "<tr><td>25</td><td>1052</td><td>3</td><td>0</td></tr>",
                            "<tr><td>25</td><td>1362</td><td>2</td><td>3</td></tr>",
                            "<tr><td>26</td><td>1158</td><td>2</td><td>0</td></tr>",
                            "<tr><td>26</td><td>1388</td><td>3</td><td>2</td></tr>",
                            "<tr><td>27</td><td>758</td><td>3</td><td>0</td></tr>",
                            "<tr><td>27</td><td>807</td><td>2</td><td>3</td></tr>",
                            "<tr><td>27</td><td>1031</td><td>2</td><td>2</td></tr>",
                            "<tr><td>27</td><td>1082</td><td>5</td><td>2</td></tr>",
                            "<tr><td>27</td><td>1275</td><td>6</td><td>5</td></tr>",
                            "<tr><td>27</td><td>1377</td><td>1</td><td>6</td></tr>",
                            "<tr><td>27</td><td>1476</td><td>1</td><td>1</td></tr>",
                            "<tr><td>28</td><td>872</td><td>5</td><td>0</td></tr>",
                            "<tr><td>28</td><td>886</td><td>4</td><td>5</td></tr>",
                            "<tr><td>28</td><td>901</td><td>4</td><td>4</td></tr>",
                            "<tr><td>28</td><td>725</td><td>5</td><td>4</td></tr>",
                            "<tr><td>28</td><td>1150</td><td>6</td><td>5</td></tr>",
                            "<tr><td>28</td><td>1459</td><td>2</td><td>6</td></tr>",
                            "<tr><td>29</td><td>611</td><td>5</td><td>0</td></tr>",
                            "<tr><td>29</td><td>894</td><td>1</td><td>5</td></tr>",
                            "<tr><td>29</td><td>1076</td><td>7</td><td>1</td></tr>",
                            "<tr><td>29</td><td>1185</td><td>5</td><td>7</td></tr>",
                            "<tr><td>29</td><td>1235</td><td>7</td><td>5</td></tr>",
                            "<tr><td>29</td><td>1568</td><td>7</td><td>7</td></tr>",
                            "<tr><td>30</td><td>604</td><td>2</td><td>0</td></tr>",
                            "<tr><td>30</td><td>1023</td><td>7</td><td>2</td></tr>",
                            "<tr><td>30</td><td>1136</td><td>5</td><td>7</td></tr>",
                            "<tr><td>31</td><td>598</td><td>2</td><td>0</td></tr>",
                            "<tr><td>31</td><td>606</td><td>1</td><td>2</td></tr>",
                            "<tr><td>31</td><td>728</td><td>4</td><td>1</td></tr>",
                            "<tr><td>32</td><td>920</td><td>4</td><td>0</td></tr>",
                            "<tr><td>33</td><td>624</td><td>6</td><td>0</td></tr>",
                            "<tr><td>33</td><td>1012</td><td>7</td><td>6</td></tr>",
                            "<tr><td>33</td><td>1053</td><td>1</td><td>7</td></tr>",
                            "<tr><td>33</td><td>1321</td><td>4</td><td>1</td></tr>",
                            "<tr><td>33</td><td>1344</td><td>5</td><td>4</td></tr>",
                            "<tr><td>33</td><td>1381</td><td>6</td><td>5</td></tr>",
                            "<tr><td>34</td><td>870</td><td>6</td><td>0</td></tr>",
                            "<tr><td>34</td><td>904</td><td>2</td><td>6</td></tr>",
                            "<tr><td>34</td><td>777</td><td>3</td><td>2</td></tr>",
                            "<tr><td>34</td><td>821</td><td>1</td><td>3</td></tr>",
                            "<tr><td>35</td><td>971</td><td>3</td><td>0</td></tr>",
                            "<tr><td>35</td><td>979</td><td>7</td><td>3</td></tr>",
                            "<tr><td>35</td><td>686</td><td>6</td><td>7</td></tr>",
                            "<tr><td>35</td><td>707</td><td>2</td><td>6</td></tr>",
                            "<tr><td>35</td><td>829</td><td>2</td><td>2</td></tr>",
                            "<tr><td>35</td><td>1480</td><td>37</td><td>2</td></tr>",
                            "<tr><td>35</td><td>1411</td><td>1</td><td>37</td></tr>",
                            "<tr><td>35</td><td>1436</td><td>1</td><td>1</td></tr>",
                            "<tr><td>35</td><td>1529</td><td>4</td><td>1</td></tr>",
                            "<tr><td>36</td><td>895</td><td>5</td><td>0</td></tr>",
                            "<tr><td>36</td><td>919</td><td>1</td><td>5</td></tr>",
                            "<tr><td>36</td><td>985</td><td>6</td><td>1</td></tr>",
                            "<tr><td>36</td><td>1003</td><td>4</td><td>6</td></tr>",
                            "<tr><td>36</td><td>748</td><td>2</td><td>4</td></tr>",
                            "<tr><td>36</td><td>750</td><td>6</td><td>2</td></tr>",
                            "<tr><td>37</td><td>688</td><td>2</td><td>0</td></tr>",
                            "<tr><td>37</td><td>705</td><td>4</td><td>2</td></tr>",
                            "<tr><td>37</td><td>1335</td><td>7</td><td>4</td></tr>",
                            "<tr><td>38</td><td>627</td><td>6</td><td>0</td></tr>",
                            "<tr><td>38</td><td>1033</td><td>2</td><td>6</td></tr>",
                            "<tr><td>38</td><td>1060</td><td>2</td><td>2</td></tr>",
                            "<tr><td>38</td><td>1078</td><td>7</td><td>2</td></tr>",
                            "<tr><td>38</td><td>1351</td><td>4</td><td>7</td></tr>",
                            "<tr><td>38</td><td>1416</td><td>5</td><td>4</td></tr>",
                            "<tr><td>38</td><td>1478</td><td>4</td><td>5</td></tr>",
                            "<tr><td>38</td><td>1556</td><td>6</td><td>4</td></tr>",
                            "<tr><td>39</td><td>601</td><td>6</td><td>0</td></tr>",
                            "<tr><td>39</td><td>899</td><td>6</td><td>6</td></tr>",
                            "<tr><td>39</td><td>1214</td><td>5</td><td>6</td></tr>",
                            "<tr><td>39</td><td>1380</td><td>5</td><td>5</td></tr>",
                            "<tr><td>39</td><td>1435</td><td>7</td><td>5</td></tr>",
                            "<tr><td>39</td><td>1454</td><td>1</td><td>7</td></tr>",
                            "<tr><td>39</td><td>1538</td><td>2</td><td>1</td></tr>",
                            "<tr><td>40</td><td>924</td><td>5</td><td>0</td></tr>",
                            "<tr><td>40</td><td>932</td><td>6</td><td>5</td></tr>",
                            "<tr><td>40</td><td>1018</td><td>5</td><td>6</td></tr>",
                            "<tr><td>40</td><td>1118</td><td>5</td><td>5</td></tr>",
                            "<tr><td>41</td><td>960</td><td>6</td><td>0</td></tr>",
                            "<tr><td>41</td><td>1144</td><td>1</td><td>6</td></tr>",
                            "<tr><td>42</td><td>561</td><td>4</td><td>0</td></tr>",
                            "<tr><td>42</td><td>590</td><td>5</td><td>4</td></tr>",
                            "<tr><td>42</td><td>851</td><td>7</td><td>5</td></tr>",
                            "<tr><td>42</td><td>770</td><td>3</td><td>7</td></tr>",
                            "<tr><td>42</td><td>1309</td><td>2</td><td>3</td></tr>",
                            "<tr><td>42</td><td>1444</td><td>6</td><td>2</td></tr>",
                            "<tr><td>43</td><td>1019</td><td>4</td><td>0</td></tr>",
                            "<tr><td>43</td><td>670</td><td>4</td><td>4</td></tr>",
                            "<tr><td>43</td><td>1088</td><td>2</td><td>4</td></tr>",
                            "<tr><td>43</td><td>1207</td><td>1</td><td>2</td></tr>",
                            "<tr><td>43</td><td>1227</td><td>5</td><td>1</td></tr>",
                            "<tr><td>43</td><td>1270</td><td>4</td><td>5</td></tr>",
                            "<tr><td>43</td><td>1524</td><td>1</td><td>4</td></tr>",
                            "<tr><td>43</td><td>1553</td><td>5</td><td>1</td></tr>",
                            "<tr><td>44</td><td>589</td><td>2</td><td>0</td></tr>",
                            "<tr><td>44</td><td>658</td><td>6</td><td>2</td></tr>",
                            "<tr><td>44</td><td>823</td><td>2</td><td>6</td></tr>",
                            "<tr><td>44</td><td>1295</td><td>2</td><td>2</td></tr>",
                            "<tr><td>44</td><td>1425</td><td>2</td><td>2</td></tr>",
                            "<tr><td>44</td><td>1552</td><td>2</td><td>2</td></tr>",
                            "<tr><td>45</td><td>802</td><td>7</td><td>0</td></tr>",
                            "<tr><td>45</td><td>800</td><td>5</td><td>7</td></tr>",
                            "<tr><td>45</td><td>846</td><td>3</td><td>5</td></tr>",
                            "<tr><td>45</td><td>1135</td><td>3</td><td>3</td></tr>",
                            "<tr><td>45</td><td>1303</td><td>2</td><td>3</td></tr>",
                            "<tr><td>46</td><td>752</td><td>5</td><td>0</td></tr>",
                            "<tr><td>46</td><td>1187</td><td>7</td><td>5</td></tr>",
                            "<tr><td>46</td><td>1291</td><td>3</td><td>7</td></tr>",
                            "<tr><td>46</td><td>1515</td><td>4</td><td>3</td></tr>",
                            "<tr><td>47</td><td>955</td><td>1</td><td>0</td></tr>",
                            "<tr><td>47</td><td>1056</td><td>7</td><td>1</td></tr>",
                            "<tr><td>48</td><td>603</td><td>3</td><td>0</td></tr>",
                            "<tr><td>48</td><td>628</td><td>2</td><td>3</td></tr>",
                            "<tr><td>48</td><td>914</td><td>5</td><td>2</td></tr>",
                            "<tr><td>48</td><td>986</td><td>5</td><td>5</td></tr>",
                            "<tr><td>48</td><td>824</td><td>2</td><td>5</td></tr>",
                            "<tr><td>48</td><td>1243</td><td>6</td><td>2</td></tr>",
                            "<tr><td>48</td><td>1546</td><td>3</td><td>6</td></tr>",
                            "<tr><td>48</td><td>1547</td><td>1</td><td>3</td></tr>",
                            "<tr><td>48</td><td>1581</td><td>5</td><td>1</td></tr>",
                            "<tr><td>49</td><td>888</td><td>7</td><td>0</td></tr>",
                            "<tr><td>49</td><td>793</td><td>6</td><td>7</td></tr>",
                            "<tr><td>49</td><td>826</td><td>4</td><td>6</td></tr>",
                            "<tr><td>49</td><td>1066</td><td>7</td><td>4</td></tr>",
                            "<tr><td>49</td><td>1200</td><td>7</td><td>7</td></tr>",
                            "<tr><td>49</td><td>1221</td><td>2</td><td>7</td></tr>",
                            "<tr><td>49</td><td>1536</td><td>6</td><td>2</td></tr>",
                            "<tr><td>50</td><td>787</td><td>3</td><td>0</td></tr>",
                            "<tr><td>50</td><td>1063</td><td>2</td><td>3</td></tr>",
                            "<tr><td>50</td><td>1224</td><td>1</td><td>2</td></tr>",
                            "<tr><td>50</td><td>1272</td><td>1</td><td>1</td></tr>",
                            "<tr><td>51</td><td>865</td><td>7</td><td>0</td></tr>",
                            "<tr><td>51</td><td>811</td><td>2</td><td>7</td></tr>",
                            "<tr><td>51</td><td>1165</td><td>5</td><td>2</td></tr>",
                            "<tr><td>51</td><td>1477</td><td>6</td><td>5</td></tr>",
                            "<tr><td>51</td><td>1550</td><td>1</td><td>6</td></tr>",
                            "<tr><td>52</td><td>822</td><td>7</td><td>0</td></tr>",
                            "<tr><td>52</td><td>1202</td><td>2</td><td>7</td></tr>",
                            "<tr><td>52</td><td>1258</td><td>5</td><td>2</td></tr>",
                            "<tr><td>52</td><td>1431</td><td>5</td><td>5</td></tr>",
                            "<tr><td>52</td><td>1534</td><td>5</td><td>5</td></tr>",
                            "<tr><td>53</td><td>855</td><td>1</td><td>0</td></tr>",
                            "<tr><td>53</td><td>987</td><td>4</td><td>1</td></tr>",
                            "<tr><td>54</td><td>622</td><td>7</td><td>0</td></tr>",
                            "<tr><td>54</td><td>642</td><td>5</td><td>7</td></tr>",
                            "<tr><td>54</td><td>889</td><td>2</td><td>5</td></tr>",
                            "<tr><td>54</td><td>668</td><td>1</td><td>2</td></tr>",
                            "<tr><td>54</td><td>1096</td><td>4</td><td>1</td></tr>",
                            "<tr><td>54</td><td>1328</td><td>4</td><td>4</td></tr>",
                            "<tr><td>55</td><td>734</td><td>6</td><td>0</td></tr>",
                            "<tr><td>55</td><td>1086</td><td>5</td><td>6</td></tr>",
                            "<tr><td>55</td><td>1163</td><td>2</td><td>5</td></tr>",
                            "<tr><td>55</td><td>1232</td><td>7</td><td>2</td></tr>",
                            "<tr><td>55</td><td>1327</td><td>6</td><td>7</td></tr>",
                            "<tr><td>55</td><td>1386</td><td>2</td><td>6</td></tr>",
                            "<tr><td>55</td><td>1512</td><td>1</td><td>2</td></tr>",
                            "<tr><td>55</td><td>1520</td><td>1</td><td>1</td></tr>",
                            "<tr><td>56</td><td>935</td><td>4</td><td>0</td></tr>",
                            "<tr><td>56</td><td>838</td><td>2</td><td>4</td></tr>",
                            "<tr><td>57</td><td>1348</td><td>1</td><td>0</td></tr>",
                            "<tr><td>57</td><td>1389</td><td>1</td><td>1</td></tr>",
                            "<tr><td>57</td><td>1466</td><td>7</td><td>1</td></tr>",
                            "<tr><td>57</td><td>1504</td><td>4</td><td>7</td></tr>",
                            "<tr><td>58</td><td>883</td><td>5</td><td>0</td></tr>",
                            "<tr><td>58</td><td>719</td><td>3</td><td>5</td></tr>",
                            "<tr><td>58</td><td>773</td><td>2</td><td>3</td></tr>",
                            "<tr><td>58</td><td>1113</td><td>3</td><td>2</td></tr>",
                            "<tr><td>58</td><td>1186</td><td>6</td><td>3</td></tr>",
                            "<tr><td>58</td><td>1208</td><td>6</td><td>6</td></tr>",
                            "<tr><td>58</td><td>1255</td><td>7</td><td>6</td></tr>",
                            "<tr><td>58</td><td>1261</td><td>6</td><td>7</td></tr>",
                            "<tr><td>58</td><td>1285</td><td>7</td><td>6</td></tr>",
                            "<tr><td>58</td><td>1293</td><td>3</td><td>7</td></tr>",
                            "<tr><td>58</td><td>1307</td><td>6</td><td>3</td></tr>",
                            "<tr><td>58</td><td>1322</td><td>3</td><td>6</td></tr>",
                            "<tr><td>58</td><td>1451</td><td>6</td><td>3</td></tr>",
                            "<tr><td>59</td><td>1080</td><td>1</td><td>0</td></tr>",
                            "<tr><td>59</td><td>1084</td><td>2</td><td>1</td></tr>",
                            "<tr><td>59</td><td>1170</td><td>5</td><td>2</td></tr>",
                            "<tr><td>59</td><td>1191</td><td>6</td><td>5</td></tr>",
                            "<tr><td>59</td><td>1239</td><td>2</td><td>6</td></tr>",
                            "<tr><td>59</td><td>1288</td><td>3</td><td>2</td></tr>",
                            "<tr><td>59</td><td>1573</td><td>1</td><td>3</td></tr>",
                            "<tr><td>60</td><td>676</td><td>2</td><td>0</td></tr>",
                            "<tr><td>61</td><td>701</td><td>2</td><td>0</td></tr>",
                            "<tr><td>61</td><td>756</td><td>6</td><td>2</td></tr>",
                            "<tr><td>61</td><td>1148</td><td>3</td><td>6</td></tr>",
                            "<tr><td>61</td><td>1218</td><td>2</td><td>3</td></tr>",
                            "<tr><td>61</td><td>1496</td><td>7</td><td>2</td></tr>",
                            "<tr><td>62</td><td>936</td><td>3</td><td>0</td></tr>",
                            "<tr><td>62</td><td>938</td><td>1</td><td>3</td></tr>",
                            "<tr><td>62</td><td>702</td><td>5</td><td>1</td></tr>",
                            "<tr><td>62</td><td>1081</td><td>7</td><td>5</td></tr>",
                            "<tr><td>62</td><td>1426</td><td>4</td><td>7</td></tr>",
                            "<tr><td>63</td><td>625</td><td>3</td><td>0</td></tr>",
                            "<tr><td>63</td><td>891</td><td>6</td><td>3</td></tr>",
                            "<tr><td>63</td><td>769</td><td>5</td><td>6</td></tr>",
                            "<tr><td>63</td><td>845</td><td>1</td><td>5</td></tr>",
                            "<tr><td>64</td><td>875</td><td>2</td><td>0</td></tr>",
                            "<tr><td>64</td><td>1122</td><td>4</td><td>2</td></tr>",
                            "<tr><td>64</td><td>1233</td><td>7</td><td>4</td></tr>",
                            "<tr><td>64</td><td>1446</td><td>6</td><td>7</td></tr>",
                            "<tr><td>64</td><td>1465</td><td>4</td><td>6</td></tr>",
                            "<tr><td>64</td><td>1582</td><td>1</td><td>4</td></tr>",
                            "<tr><td>65</td><td>650</td><td>6</td><td>0</td></tr>",
                            "<tr><td>66</td><td>950</td><td>3</td><td>0</td></tr>",
                            "<tr><td>66</td><td>736</td><td>3</td><td>3</td></tr>",
                            "<tr><td>66</td><td>1234</td><td>3</td><td>3</td></tr>",
                            "<tr><td>66</td><td>1264</td><td>4</td><td>3</td></tr>",
                            "<tr><td>67</td><td>638</td><td>5</td><td>0</td></tr>",
                            "<tr><td>67</td><td>645</td><td>6</td><td>5</td></tr>",
                            "<tr><td>67</td><td>874</td><td>6</td><td>6</td></tr>",
                            "<tr><td>67</td><td>1382</td><td>1</td><td>6</td></tr>",
                            "<tr><td>67</td><td>1580</td><td>5</td><td>1</td></tr>",
                            "<tr><td>67</td><td>1584</td><td>1</td><td>5</td></tr>",
                            "<tr><td>68</td><td>563</td><td>5</td><td>0</td></tr>",
                            "<tr><td>68</td><td>1027</td><td>7</td><td>5</td></tr>",
                            "<tr><td>68</td><td>1324</td><td>4</td><td>7</td></tr>",
                            "<tr><td>69</td><td>885</td><td>1</td><td>0</td></tr>",
                            "<tr><td>69</td><td>1055</td><td>5</td><td>1</td></tr>",
                            "<tr><td>69</td><td>1225</td><td>5</td><td>5</td></tr>",
                            "<tr><td>69</td><td>1246</td><td>7</td><td>5</td></tr>",
                            "<tr><td>70</td><td>585</td><td>5</td><td>0</td></tr>",
                            "<tr><td>70</td><td>860</td><td>2</td><td>5</td></tr>",
                            "<tr><td>70</td><td>1006</td><td>3</td><td>2</td></tr>",
                            "<tr><td>70</td><td>704</td><td>3</td><td>3</td></tr>",
                            "<tr><td>70</td><td>814</td><td>3</td><td>3</td></tr>",
                            "<tr><td>70</td><td>1092</td><td>3</td><td>3</td></tr>",
                            "<tr><td>70</td><td>1126</td><td>3</td><td>3</td></tr>",
                            "<tr><td>70</td><td>1325</td><td>7</td><td>3</td></tr>",
                            "<tr><td>70</td><td>1333</td><td>6</td><td>7</td></tr>",
                            "<tr><td>70</td><td>1365</td><td>3</td><td>6</td></tr>",
                            "<tr><td>70</td><td>1457</td><td>7</td><td>3</td></tr>",
                            "<tr><td>71</td><td>1009</td><td>1</td><td>0</td></tr>",
                            "<tr><td>71</td><td>681</td><td>3</td><td>1</td></tr>",
                            "<tr><td>71</td><td>712</td><td>1</td><td>3</td></tr>",
                            "<tr><td>72</td><td>902</td><td>5</td><td>0</td></tr>",
                            "<tr><td>72</td><td>961</td><td>6</td><td>5</td></tr>",
                            "<tr><td>72</td><td>1318</td><td>2</td><td>6</td></tr>",
                            "<tr><td>72</td><td>1396</td><td>3</td><td>2</td></tr>",
                            "<tr><td>73</td><td>1000</td><td>4</td><td>0</td></tr>",
                            "<tr><td>73</td><td>714</td><td>7</td><td>4</td></tr>",
                            "<tr><td>73</td><td>1159</td><td>5</td><td>7</td></tr>",
                            "<tr><td>73</td><td>1331</td><td>4</td><td>5</td></tr>",
                            "<tr><td>74</td><td>595</td><td>7</td><td>0</td></tr>",
                            "<tr><td>74</td><td>877</td><td>4</td><td>7</td></tr>",
                            "<tr><td>74</td><td>940</td><td>5</td><td>4</td></tr>",
                            "<tr><td>74</td><td>963</td><td>1</td><td>5</td></tr>",
                            "<tr><td>74</td><td>797</td><td>5</td><td>1</td></tr>",
                            "<tr><td>74</td><td>830</td><td>1</td><td>5</td></tr>",
                            "<tr><td>74</td><td>847</td><td>3</td><td>1</td></tr>",
                            "<tr><td>74</td><td>1093</td><td>6</td><td>3</td></tr>",
                            "<tr><td>74</td><td>1179</td><td>7</td><td>6</td></tr>",
                            "<tr><td>75</td><td>1013</td><td>5</td><td>0</td></tr>",
                            "<tr><td>75</td><td>1412</td><td>2</td><td>5</td></tr>",
                            "<tr><td>75</td><td>1458</td><td>1</td><td>2</td></tr>",
                            "<tr><td>76</td><td>976</td><td>2</td><td>0</td></tr>",
                            "<tr><td>76</td><td>683</td><td>7</td><td>2</td></tr>",
                            "<tr><td>76</td><td>1557</td><td>3</td><td>7</td></tr>",
                            "<tr><td>77</td><td>593</td><td>3</td><td>0</td></tr>",
                            "<tr><td>77</td><td>982</td><td>3</td><td>3</td></tr>",
                            "<tr><td>77</td><td>698</td><td>4</td><td>3</td></tr>",
                            "<tr><td>77</td><td>1104</td><td>1</td><td>4</td></tr>",
                            "<tr><td>77</td><td>1439</td><td>6</td><td>1</td></tr>",
                            "<tr><td>77</td><td>1461</td><td>4</td><td>6</td></tr>",
                            "<tr><td>78</td><td>568</td><td>1</td><td>0</td></tr>",
                            "<tr><td>78</td><td>646</td><td>3</td><td>1</td></tr>",
                            "<tr><td>78</td><td>700</td><td>5</td><td>3</td></tr>",
                            "<tr><td>78</td><td>1268</td><td>2</td><td>5</td></tr>",
                            "<tr><td>78</td><td>1281</td><td>3</td><td>2</td></tr>",
                            "<tr><td>78</td><td>1577</td><td>7</td><td>3</td></tr>",
                            "<tr><td>79</td><td>583</td><td>6</td><td>0</td></tr>",
                            "<tr><td>79</td><td>1054</td><td>1</td><td>6</td></tr>",
                            "<tr><td>79</td><td>1229</td><td>7</td><td>1</td></tr>",
                            "<tr><td>79</td><td>1345</td><td>3</td><td>7</td></tr>",
                            "<tr><td>79</td><td>1447</td><td>4</td><td>3</td></tr>",
                            "<tr><td>80</td><td>887</td><td>6</td><td>0</td></tr>",
                            "<tr><td>80</td><td>929</td><td>2</td><td>6</td></tr>",
                            "<tr><td>80</td><td>983</td><td>6</td><td>2</td></tr>",
                            "<tr><td>80</td><td>667</td><td>6</td><td>6</td></tr>",
                            "<tr><td>80</td><td>1071</td><td>4</td><td>6</td></tr>",
                            "<tr><td>80</td><td>1279</td><td>5</td><td>4</td></tr>",
                            "<tr><td>80</td><td>1367</td><td>3</td><td>5</td></tr>",
                            "<tr><td>81</td><td>1366</td><td>5</td><td>0</td></tr>",
                            "<tr><td>81</td><td>1443</td><td>7</td><td>5</td></tr>",
                            "<tr><td>81</td><td>1464</td><td>7</td><td>7</td></tr>",
                            "<tr><td>81</td><td>1506</td><td>3</td><td>7</td></tr>",
                            "<tr><td>81</td><td>1562</td><td>3</td><td>3</td></tr>",
                            "<tr><td>82</td><td>862</td><td>4</td><td>0</td></tr>",
                            "<tr><td>82</td><td>871</td><td>5</td><td>4</td></tr>",
                            "<tr><td>82</td><td>997</td><td>6</td><td>5</td></tr>",
                            "<tr><td>82</td><td>1277</td><td>5</td><td>6</td></tr>",
                            "<tr><td>82</td><td>1341</td><td>2</td><td>5</td></tr>",
                            "<tr><td>82</td><td>1406</td><td>1</td><td>2</td></tr>",
                            "<tr><td>83</td><td>572</td><td>7</td><td>0</td></tr>",
                            "<tr><td>83</td><td>869</td><td>6</td><td>7</td></tr>",
                            "<tr><td>83</td><td>878</td><td>6</td><td>6</td></tr>",
                            "<tr><td>83</td><td>995</td><td>5</td><td>6</td></tr>",
                            "<tr><td>83</td><td>674</td><td>4</td><td>5</td></tr>",
                            "<tr><td>83</td><td>798</td><td>4</td><td>4</td></tr>",
                            "<tr><td>83</td><td>1119</td><td>6</td><td>4</td></tr>",
                            "<tr><td>83</td><td>1379</td><td>7</td><td>6</td></tr>",
                            "<tr><td>84</td><td>954</td><td>5</td><td>0</td></tr>",
                            "<tr><td>84</td><td>819</td><td>2</td><td>5</td></tr>",
                            "<tr><td>84</td><td>1376</td><td>5</td><td>2</td></tr>",
                            "<tr><td>84</td><td>1384</td><td>7</td><td>5</td></tr>",
                            "<tr><td>85</td><td>647</td><td>3</td><td>0</td></tr>",
                            "<tr><td>85</td><td>1059</td><td>3</td><td>3</td></tr>",
                            "<tr><td>85</td><td>1320</td><td>1</td><td>3</td></tr>",
                            "<tr><td>85</td><td>1513</td><td>7</td><td>1</td></tr>",
                            "<tr><td>86</td><td>859</td><td>1</td><td>0</td></tr>",
                            "<tr><td>86</td><td>1057</td><td>5</td><td>1</td></tr>",
                            "<tr><td>86</td><td>1079</td><td>4</td><td>5</td></tr>",
                            "<tr><td>86</td><td>1108</td><td>1</td><td>4</td></tr>",
                            "<tr><td>86</td><td>1453</td><td>1</td><td>1</td></tr>",
                            "<tr><td>87</td><td>558</td><td>4</td><td>0</td></tr>",
                            "<tr><td>87</td><td>844</td><td>1</td><td>4</td></tr>",
                            "<tr><td>87</td><td>1103</td><td>3</td><td>1</td></tr>",
                            "<tr><td>87</td><td>1349</td><td>5</td><td>3</td></tr>",
                            "<tr><td>87</td><td>1456</td><td>5</td><td>5</td></tr>",
                            "<tr><td>88</td><td>866</td><td>2</td><td>0</td></tr>",
                            "<tr><td>88</td><td>757</td><td>7</td><td>2</td></tr>",
                            "<tr><td>88</td><td>1196</td><td>3</td><td>7</td></tr>",
                            "<tr><td>88</td><td>1273</td><td>7</td><td>3</td></tr>",
                            "<tr><td>88</td><td>1300</td><td>3</td><td>7</td></tr>",
                            "<tr><td>88</td><td>1359</td><td>2</td><td>3</td></tr>",
                            "<tr><td>88</td><td>1548</td><td>7</td><td>2</td></tr>",
                            "<tr><td>88</td><td>1575</td><td>6</td><td>7</td></tr>",
                            "<tr><td>89</td><td>817</td><td>3</td><td>0</td></tr>",
                            "<tr><td>89</td><td>1037</td><td>7</td><td>3</td></tr>",
                            "<tr><td>89</td><td>1101</td><td>5</td><td>7</td></tr>",
                            "<tr><td>89</td><td>1189</td><td>6</td><td>5</td></tr>",
                            "<tr><td>89</td><td>1253</td><td>2</td><td>6</td></tr>",
                            "<tr><td>89</td><td>1269</td><td>2</td><td>2</td></tr>",
                            "<tr><td>89</td><td>1399</td><td>2</td><td>2</td></tr>",
                            "<tr><td>89</td><td>1521</td><td>7</td><td>2</td></tr>",
                            "<tr><td>90</td><td>729</td><td>2</td><td>0</td></tr>",
                            "<tr><td>90</td><td>1174</td><td>7</td><td>2</td></tr>",
                            "<tr><td>90</td><td>1299</td><td>6</td><td>7</td></tr>",
                            "<tr><td>90</td><td>1405</td><td>5</td><td>6</td></tr>",
                            "<tr><td>91</td><td>636</td><td>6</td><td>0</td></tr>",
                            "<tr><td>91</td><td>732</td><td>4</td><td>6</td></tr>",
                            "<tr><td>91</td><td>1213</td><td>3</td><td>4</td></tr>",
                            "<tr><td>91</td><td>1397</td><td>4</td><td>3</td></tr>",
                            "<tr><td>92</td><td>942</td><td>6</td><td>0</td></tr>",
                            "<tr><td>92</td><td>1016</td><td>2</td><td>6</td></tr>",
                            "<tr><td>92</td><td>809</td><td>3</td><td>2</td></tr>",
                            "<tr><td>92</td><td>841</td><td>6</td><td>3</td></tr>",
                            "<tr><td>92</td><td>1527</td><td>2</td><td>6</td></tr>",
                            "<tr><td>92</td><td>1555</td><td>4</td><td>2</td></tr>",
                            "<tr><td>93</td><td>741</td><td>7</td><td>0</td></tr>",
                            "<tr><td>93</td><td>1169</td><td>4</td><td>7</td></tr>",
                            "<tr><td>93</td><td>1217</td><td>1</td><td>4</td></tr>",
                            "<tr><td>93</td><td>1355</td><td>2</td><td>1</td></tr>",
                            "<tr><td>93</td><td>1391</td><td>4</td><td>2</td></tr>",
                            "<tr><td>94</td><td>616</td><td>4</td><td>0</td></tr>",
                            "<tr><td>94</td><td>975</td><td>5</td><td>4</td></tr>",
                            "<tr><td>94</td><td>665</td><td>7</td><td>5</td></tr>",
                            "<tr><td>94</td><td>727</td><td>3</td><td>7</td></tr>",
                            "<tr><td>94</td><td>1241</td><td>7</td><td>3</td></tr>",
                            "<tr><td>94</td><td>1305</td><td>2</td><td>7</td></tr>",
                            "<tr><td>94</td><td>1312</td><td>3</td><td>2</td></tr>",
                            "<tr><td>94</td><td>1368</td><td>1</td><td>3</td></tr>",
                            "<tr><td>94</td><td>1518</td><td>2</td><td>1</td></tr>",
                            "<tr><td>94</td><td>1564</td><td>7</td><td>2</td></tr>",
                            "<tr><td>95</td><td>656</td><td>7</td><td>0</td></tr>",
                            "<tr><td>95</td><td>1048</td><td>3</td><td>7</td></tr>",
                            "<tr><td>95</td><td>1097</td><td>4</td><td>3</td></tr>",
                            "<tr><td>95</td><td>1543</td><td>7</td><td>4</td></tr>",
                            "<tr><td>96</td><td>607</td><td>4</td><td>0</td></tr>",
                            "<tr><td>96</td><td>623</td><td>7</td><td>4</td></tr>",
                            "<tr><td>96</td><td>671</td><td>4</td><td>7</td></tr>",
                            "<tr><td>96</td><td>780</td><td>1</td><td>4</td></tr>",
                            "<tr><td>96</td><td>1378</td><td>3</td><td>1</td></tr>",
                            "<tr><td>96</td><td>1438</td><td>2</td><td>3</td></tr>",
                            "<tr><td>96</td><td>1569</td><td>7</td><td>2</td></tr>",
                            "<tr><td>97</td><td>635</td><td>3</td><td>0</td></tr>",
                            "<tr><td>97</td><td>726</td><td>4</td><td>3</td></tr>",
                            "<tr><td>97</td><td>718</td><td>7</td><td>4</td></tr>",
                            "<tr><td>97</td><td>836</td><td>2</td><td>7</td></tr>",
                            "<tr><td>97</td><td>1395</td><td>1</td><td>2</td></tr>",
                            "<tr><td>97</td><td>1417</td><td>7</td><td>1</td></tr>",
                            "<tr><td>97</td><td>1528</td><td>2</td><td>7</td></tr>",
                            "<tr><td>98</td><td>631</td><td>6</td><td>0</td></tr>",
                            "<tr><td>98</td><td>884</td><td>5</td><td>6</td></tr>",
                            "<tr><td>98</td><td>1050</td><td>6</td><td>5</td></tr>",
                            "<tr><td>98</td><td>1402</td><td>2</td><td>6</td></tr>",
                            "<tr><td>99</td><td>632</td><td>1</td><td>0</td></tr>",
                            "<tr><td>99</td><td>691</td><td>5</td><td>1</td></tr>",
                            "<tr><td>99</td><td>1072</td><td>1</td><td>5</td></tr>",
                            "<tr><td>99</td><td>1408</td><td>1</td><td>1</td></tr>",
                            "<tr><td>99</td><td>1486</td><td>5</td><td>1</td></tr>",
                            "<tr><td>100</td><td>597</td><td>1</td><td>0</td></tr>",
                            "<tr><td>100</td><td>637</td><td>5</td><td>1</td></tr>",
                            "<tr><td>100</td><td>1315</td><td>5</td><td>5</td></tr>",
                            "<tr><td>100</td><td>1482</td><td>7</td><td>5</td></tr>",
                            "<tr><td>101</td><td>715</td><td>3</td><td>0</td></tr>",
                            "<tr><td>101</td><td>1332</td><td>6</td><td>3</td></tr>",
                            "<tr><td>101</td><td>1516</td><td>4</td><td>6</td></tr>",
                            "<tr><td>102</td><td>689</td><td>5</td><td>0</td></tr>",
                            "<tr><td>102</td><td>1343</td><td>2</td><td>5</td></tr>",
                            "<tr><td>103</td><td>972</td><td>2</td><td>0</td></tr>",
                            "<tr><td>103</td><td>992</td><td>7</td><td>2</td></tr>",
                            "<tr><td>103</td><td>1398</td><td>1</td><td>7</td></tr>",
                            "<tr><td>103</td><td>1485</td><td>4</td><td>1</td></tr>",
                            "<tr><td>104</td><td>837</td><td>4</td><td>0</td></tr>",
                            "<tr><td>104</td><td>1180</td><td>1</td><td>4</td></tr>",
                            "<tr><td>104</td><td>1522</td><td>2</td><td>1</td></tr>",
                            "<tr><td>104</td><td>1532</td><td>3</td><td>2</td></tr>",
                            "<tr><td>105</td><td>618</td><td>1</td><td>0</td></tr>",
                            "<tr><td>105</td><td>1525</td><td>5</td><td>1</td></tr>",
                            "<tr><td>106</td><td>610</td><td>3</td><td>0</td></tr>",
                            "<tr><td>106</td><td>708</td><td>7</td><td>3</td></tr>",
                            "<tr><td>106</td><td>1228</td><td>7</td><td>7</td></tr>",
                            "<tr><td>106</td><td>1271</td><td>5</td><td>7</td></tr>",
                            "<tr><td>106</td><td>1372</td><td>7</td><td>5</td></tr>",
                            "<tr><td>106</td><td>1510</td><td>6</td><td>7</td></tr>",
                            "<tr><td>107</td><td>586</td><td>6</td><td>0</td></tr>",
                            "<tr><td>107</td><td>1250</td><td>4</td><td>6</td></tr>",
                            "<tr><td>107</td><td>1354</td><td>1</td><td>4</td></tr>",
                            "<tr><td>107</td><td>1452</td><td>6</td><td>1</td></tr>",
                            "<tr><td>107</td><td>1494</td><td>2</td><td>6</td></tr>",
                            "<tr><td>108</td><td>1102</td><td>1</td><td>0</td></tr>",
                            "<tr><td>108</td><td>1392</td><td>6</td><td>1</td></tr>",
                            "<tr><td>109</td><td>614</td><td>4</td><td>0</td></tr>",
                            "<tr><td>109</td><td>621</td><td>7</td><td>4</td></tr>",
                            "<tr><td>109</td><td>654</td><td>5</td><td>7</td></tr>",
                            "<tr><td>109</td><td>810</td><td>2</td><td>5</td></tr>",
                            "<tr><td>109</td><td>1083</td><td>1</td><td>2</td></tr>",
                            "<tr><td>109</td><td>1298</td><td>4</td><td>1</td></tr>",
                            "<tr><td>109</td><td>1560</td><td>1</td><td>4</td></tr>",
                            "<tr><td>110</td><td>931</td><td>5</td><td>0</td></tr>",
                            "<tr><td>110</td><td>964</td><td>6</td><td>5</td></tr>",
                            "<tr><td>110</td><td>685</td><td>1</td><td>6</td></tr>",
                            "<tr><td>110</td><td>1041</td><td>3</td><td>1</td></tr>",
                            "<tr><td>110</td><td>1109</td><td>5</td><td>3</td></tr>",
                            "<tr><td>110</td><td>1162</td><td>2</td><td>5</td></tr>",
                            "<tr><td>110</td><td>1424</td><td>1</td><td>2</td></tr>",
                            "<tr><td>110</td><td>1489</td><td>6</td><td>1</td></tr>",
                            "<tr><td>111</td><td>605</td><td>7</td><td>0</td></tr>",
                            "<tr><td>111</td><td>959</td><td>7</td><td>7</td></tr>",
                            "<tr><td>111</td><td>786</td><td>4</td><td>7</td></tr>",
                            "<tr><td>111</td><td>1296</td><td>3</td><td>4</td></tr>",
                            "<tr><td>111</td><td>1353</td><td>5</td><td>3</td></tr>",
                            "<tr><td>112</td><td>921</td><td>1</td><td>0</td></tr>",
                            "<tr><td>112</td><td>776</td><td>4</td><td>1</td></tr>",
                            "<tr><td>112</td><td>801</td><td>5</td><td>4</td></tr>",
                            "<tr><td>112</td><td>1124</td><td>6</td><td>5</td></tr>",
                            "<tr><td>112</td><td>1530</td><td>6</td><td>6</td></tr>",
                            "<tr><td>113</td><td>1029</td><td>5</td><td>0</td></tr>",
                            "<tr><td>113</td><td>1085</td><td>4</td><td>5</td></tr>",
                            "<tr><td>113</td><td>1263</td><td>1</td><td>4</td></tr>",
                            "<tr><td>113</td><td>1495</td><td>7</td><td>1</td></tr>",
                            "<tr><td>113</td><td>1499</td><td>2</td><td>7</td></tr>",
                            "<tr><td>114</td><td>966</td><td>6</td><td>0</td></tr>",
                            "<tr><td>114</td><td>737</td><td>2</td><td>6</td></tr>",
                            "<tr><td>114</td><td>827</td><td>7</td><td>2</td></tr>",
                            "<tr><td>114</td><td>1540</td><td>3</td><td>7</td></tr>",
                            "<tr><td>115</td><td>596</td><td>7</td><td>0</td></tr>",
                            "<tr><td>115</td><td>943</td><td>7</td><td>7</td></tr>",
                            "<tr><td>115</td><td>1121</td><td>7</td><td>7</td></tr>",
                            "<tr><td>115</td><td>1154</td><td>4</td><td>7</td></tr>",
                            "<tr><td>115</td><td>1352</td><td>3</td><td>4</td></tr>",
                            "<tr><td>115</td><td>1554</td><td>3</td><td>3</td></tr>",
                            "<tr><td>115</td><td>1566</td><td>1</td><td>3</td></tr>",
                            "<tr><td>116</td><td>1455</td><td>2</td><td>0</td></tr>",
                            "<tr><td>116</td><td>1501</td><td>4</td><td>2</td></tr>",
                            "<tr><td>117</td><td>612</td><td>2</td><td>0</td></tr>",
                            "<tr><td>117</td><td>617</td><td>3</td><td>2</td></tr>",
                            "<tr><td>117</td><td>953</td><td>5</td><td>3</td></tr>",
                            "<tr><td>117</td><td>962</td><td>4</td><td>5</td></tr>",
                            "<tr><td>117</td><td>1002</td><td>1</td><td>4</td></tr>",
                            "<tr><td>117</td><td>1192</td><td>2</td><td>1</td></tr>",
                            "<tr><td>117</td><td>1247</td><td>3</td><td>2</td></tr>",
                            "<tr><td>117</td><td>1468</td><td>7</td><td>3</td></tr>",
                            "<tr><td>118</td><td>864</td><td>6</td><td>0</td></tr>",
                            "<tr><td>118</td><td>994</td><td>7</td><td>6</td></tr>",
                            "<tr><td>118</td><td>996</td><td>3</td><td>7</td></tr>",
                            "<tr><td>118</td><td>716</td><td>1</td><td>3</td></tr>",
                            "<tr><td>118</td><td>1374</td><td>5</td><td>1</td></tr>",
                            "<tr><td>118</td><td>1472</td><td>6</td><td>5</td></tr>",
                            "<tr><td>118</td><td>1481</td><td>3</td><td>6</td></tr>",
                            "<tr><td>119</td><td>1026</td><td>3</td><td>0</td></tr>",
                            "<tr><td>119</td><td>706</td><td>2</td><td>3</td></tr>",
                            "<tr><td>119</td><td>722</td><td>1</td><td>2</td></tr>",
                            "<tr><td>119</td><td>1413</td><td>3</td><td>1</td></tr>",
                            "<tr><td>119</td><td>1488</td><td>3</td><td>3</td></tr>",
                            "<tr><td>120</td><td>998</td><td>3</td><td>0</td></tr>",
                            "<tr><td>120</td><td>762</td><td>3</td><td>3</td></tr>",
                            "<tr><td>120</td><td>1089</td><td>6</td><td>3</td></tr>",
                            "<tr><td>120</td><td>1339</td><td>6</td><td>6</td></tr>",
                            "<tr><td>120</td><td>1483</td><td>1</td><td>6</td></tr>",
                            "<tr><td>120</td><td>1493</td><td>7</td><td>1</td></tr>",
                            "<tr><td>121</td><td>858</td><td>5</td><td>0</td></tr>",
                            "<tr><td>121</td><td>735</td><td>6</td><td>5</td></tr>",
                            "<tr><td>121</td><td>739</td><td>6</td><td>6</td></tr>",
                            "<tr><td>121</td><td>1049</td><td>3</td><td>6</td></tr>",
                            "<tr><td>121</td><td>1128</td><td>4</td><td>3</td></tr>",
                            "<tr><td>121</td><td>1215</td><td>4</td><td>4</td></tr>",
                            "<tr><td>121</td><td>1373</td><td>5</td><td>4</td></tr>",
                            "<tr><td>121</td><td>1393</td><td>6</td><td>5</td></tr>",
                            "<tr><td>122</td><td>1007</td><td>2</td><td>0</td></tr>",
                            "<tr><td>122</td><td>1036</td><td>2</td><td>2</td></tr>",
                            "<tr><td>122</td><td>1062</td><td>3</td><td>2</td></tr>",
                            "<tr><td>122</td><td>1166</td><td>4</td><td>3</td></tr>",
                            "<tr><td>122</td><td>1209</td><td>1</td><td>4</td></tr>",
                            "<tr><td>122</td><td>1245</td><td>2</td><td>1</td></tr>",
                            "<tr><td>122</td><td>1337</td><td>2</td><td>2</td></tr>",
                            "<tr><td>122</td><td>1385</td><td>5</td><td>2</td></tr>",
                            "<tr><td>122</td><td>1440</td><td>3</td><td>5</td></tr>",
                            "<tr><td>123</td><td>587</td><td>7</td><td>0</td></tr>",
                            "<tr><td>123</td><td>923</td><td>4</td><td>7</td></tr>",
                            "<tr><td>123</td><td>967</td><td>5</td><td>4</td></tr>",
                            "<tr><td>123</td><td>1223</td><td>1</td><td>5</td></tr>",
                            "<tr><td>123</td><td>1282</td><td>6</td><td>1</td></tr>",
                            "<tr><td>124</td><td>861</td><td>1</td><td>0</td></tr>",
                            "<tr><td>124</td><td>1210</td><td>4</td><td>1</td></tr>",
                            "<tr><td>124</td><td>1330</td><td>7</td><td>4</td></tr>",
                            "<tr><td>124</td><td>1403</td><td>6</td><td>7</td></tr>",
                            "<tr><td>124</td><td>1419</td><td>3</td><td>6</td></tr>",
                            "<tr><td>124</td><td>1531</td><td>6</td><td>3</td></tr>",
                            "<tr><td>125</td><td>576</td><td>1</td><td>0</td></tr>",
                            "<tr><td>126</td><td>754</td><td>4</td><td>0</td></tr>",
                            "<tr><td>126</td><td>806</td><td>6</td><td>4</td></tr>",
                            "<tr><td>126</td><td>1134</td><td>1</td><td>6</td></tr>",
                            "<tr><td>126</td><td>1364</td><td>6</td><td>1</td></tr>",
                            "<tr><td>126</td><td>1428</td><td>7</td><td>6</td></tr>",
                            "<tr><td>126</td><td>1500</td><td>4</td><td>7</td></tr>",
                            "<tr><td>127</td><td>643</td><td>2</td><td>0</td></tr>",
                            "<tr><td>127</td><td>853</td><td>5</td><td>2</td></tr>",
                            "<tr><td>127</td><td>879</td><td>2</td><td>5</td></tr>",
                            "<tr><td>127</td><td>1034</td><td>6</td><td>2</td></tr>",
                            "<tr><td>127</td><td>1226</td><td>5</td><td>6</td></tr>",
                            "<tr><td>127</td><td>1286</td><td>1</td><td>5</td></tr>",
                            "<tr><td>127</td><td>1579</td><td>5</td><td>1</td></tr>",
                            "<tr><td>128</td><td>717</td><td>2</td><td>0</td></tr>",
                            "<tr><td>128</td><td>815</td><td>1</td><td>2</td></tr>",
                            "<tr><td>128</td><td>1290</td><td>1</td><td>1</td></tr>",
                            "<tr><td>128</td><td>1574</td><td>1</td><td>1</td></tr>",
                            "<tr><td>128</td><td>1583</td><td>4</td><td>1</td></tr>",
                            "<tr><td>129</td><td>723</td><td>7</td><td>0</td></tr>",
                            "<tr><td>129</td><td>1360</td><td>6</td><td>7</td></tr>",
                            "<tr><td>129</td><td>1445</td><td>7</td><td>6</td></tr>",
                            "<tr><td>129</td><td>1509</td><td>6</td><td>7</td></tr>",
                            "<tr><td>130</td><td>580</td><td>3</td><td>0</td></tr>",
                            "<tr><td>130</td><td>613</td><td>3</td><td>3</td></tr>",
                            "<tr><td>130</td><td>910</td><td>2</td><td>3</td></tr>",
                            "<tr><td>130</td><td>779</td><td>6</td><td>2</td></tr>",
                            "<tr><td>130</td><td>1040</td><td>1</td><td>6</td></tr>",
                            "<tr><td>130</td><td>1475</td><td>7</td><td>1</td></tr>",
                            "<tr><td>131</td><td>559</td><td>2</td><td>0</td></tr>",
                            "<tr><td>131</td><td>655</td><td>1</td><td>2</td></tr>",
                            "<tr><td>131</td><td>881</td><td>6</td><td>1</td></tr>",
                            "<tr><td>131</td><td>760</td><td>4</td><td>6</td></tr>",
                            "<tr><td>131</td><td>1474</td><td>5</td><td>4</td></tr>",
                            "<tr><td>132</td><td>619</td><td>7</td><td>0</td></tr>",
                            "<tr><td>132</td><td>999</td><td>6</td><td>7</td></tr>",
                            "<tr><td>132</td><td>1090</td><td>7</td><td>6</td></tr>",
                            "<tr><td>132</td><td>1111</td><td>3</td><td>7</td></tr>",
                            "<tr><td>132</td><td>1301</td><td>2</td><td>3</td></tr>",
                            "<tr><td>132</td><td>1519</td><td>2</td><td>2</td></tr>",
                            "<tr><td>133</td><td>909</td><td>4</td><td>0</td></tr>",
                            "<tr><td>133</td><td>988</td><td>3</td><td>4</td></tr>",
                            "<tr><td>133</td><td>1149</td><td>7</td><td>3</td></tr>",
                            "<tr><td>133</td><td>1306</td><td>3</td><td>7</td></tr>",
                            "<tr><td>133</td><td>1363</td><td>5</td><td>3</td></tr>",
                            "<tr><td>133</td><td>1409</td><td>1</td><td>5</td></tr>",
                            "<tr><td>134</td><td>1004</td><td>5</td><td>0</td></tr>",
                            "<tr><td>134</td><td>1024</td><td>1</td><td>5</td></tr>",
                            "<tr><td>134</td><td>1045</td><td>2</td><td>1</td></tr>",
                            "<tr><td>134</td><td>1178</td><td>7</td><td>2</td></tr>",
                            "<tr><td>134</td><td>1219</td><td>6</td><td>7</td></tr>",
                            "<tr><td>134</td><td>1535</td><td>7</td><td>6</td></tr>",
                            "<tr><td>135</td><td>724</td><td>6</td><td>0</td></tr>",
                            "<tr><td>135</td><td>849</td><td>7</td><td>6</td></tr>",
                            "<tr><td>135</td><td>1289</td><td>3</td><td>7</td></tr>",
                            "<tr><td>136</td><td>584</td><td>2</td><td>0</td></tr>",
                            "<tr><td>136</td><td>661</td><td>5</td><td>2</td></tr>",
                            "<tr><td>136</td><td>1046</td><td>4</td><td>5</td></tr>",
                            "<tr><td>137</td><td>582</td><td>3</td><td>0</td></tr>",
                            "<tr><td>137</td><td>649</td><td>5</td><td>3</td></tr>",
                            "<tr><td>137</td><td>657</td><td>6</td><td>5</td></tr>",
                            "<tr><td>137</td><td>1014</td><td>1</td><td>6</td></tr>",
                            "<tr><td>137</td><td>1201</td><td>6</td><td>1</td></tr>",
                            "<tr><td>137</td><td>1280</td><td>3</td><td>6</td></tr>",
                            "<tr><td>138</td><td>768</td><td>6</td><td>0</td></tr>",
                            "<tr><td>138</td><td>796</td><td>4</td><td>6</td></tr>",
                            "<tr><td>138</td><td>1256</td><td>4</td><td>4</td></tr>",
                            "<tr><td>138</td><td>1283</td><td>2</td><td>4</td></tr>",
                            "<tr><td>138</td><td>1294</td><td>5</td><td>2</td></tr>",
                            "<tr><td>138</td><td>1358</td><td>7</td><td>5</td></tr>",
                            "<tr><td>138</td><td>1370</td><td>5</td><td>7</td></tr>",
                            "<tr><td>139</td><td>579</td><td>2</td><td>0</td></tr>",
                            "<tr><td>139</td><td>745</td><td>1</td><td>2</td></tr>",
                            "<tr><td>139</td><td>751</td><td>4</td><td>1</td></tr>",
                            "<tr><td>139</td><td>1042</td><td>2</td><td>4</td></tr>",
                            "<tr><td>139</td><td>1064</td><td>6</td><td>2</td></tr>",
                            "<tr><td>139</td><td>1433</td><td>6</td><td>6</td></tr>",
                            "<tr><td>139</td><td>1450</td><td>7</td><td>6</td></tr>",
                            "<tr><td>140</td><td>915</td><td>2</td><td>0</td></tr>",
                            "<tr><td>140</td><td>733</td><td>1</td><td>2</td></tr>",
                            "<tr><td>140</td><td>1098</td><td>2</td><td>1</td></tr>",
                            "<tr><td>140</td><td>1156</td><td>3</td><td>2</td></tr>",
                            "<tr><td>140</td><td>1259</td><td>7</td><td>3</td></tr>",
                            "<tr><td>140</td><td>1357</td><td>4</td><td>7</td></tr>",
                            "<tr><td>140</td><td>1361</td><td>3</td><td>4</td></tr>",
                            "<tr><td>140</td><td>1371</td><td>1</td><td>3</td></tr>",
                            "<tr><td>141</td><td>565</td><td>6</td><td>0</td></tr>",
                            "<tr><td>141</td><td>908</td><td>2</td><td>6</td></tr>",
                            "<tr><td>141</td><td>761</td><td>3</td><td>2</td></tr>",
                            "<tr><td>141</td><td>784</td><td>7</td><td>3</td></tr>",
                            "<tr><td>141</td><td>1254</td><td>4</td><td>7</td></tr>",
                            "<tr><td>141</td><td>1401</td><td>6</td><td>4</td></tr>",
                            "<tr><td>142</td><td>1369</td><td>6</td><td>0</td></tr>",
                            "<tr><td>142</td><td>1545</td><td>3</td><td>6</td></tr>",
                            "<tr><td>143</td><td>980</td><td>3</td><td>0</td></tr>",
                            "<tr><td>143</td><td>1155</td><td>7</td><td>3</td></tr>",
                            "<tr><td>143</td><td>1193</td><td>6</td><td>7</td></tr>",
                            "<tr><td>143</td><td>1222</td><td>2</td><td>6</td></tr>",
                            "<tr><td>143</td><td>1313</td><td>4</td><td>2</td></tr>",
                            "<tr><td>143</td><td>1394</td><td>3</td><td>4</td></tr>",
                            "<tr><td>143</td><td>1448</td><td>6</td><td>3</td></tr>",
                            "<tr><td>144</td><td>581</td><td>4</td><td>0</td></tr>",
                            "<tr><td>144</td><td>1087</td><td>2</td><td>4</td></tr>",
                            "<tr><td>144</td><td>1199</td><td>7</td><td>2</td></tr>",
                            "<tr><td>144</td><td>1297</td><td>1</td><td>7</td></tr>",
                            "<tr><td>144</td><td>1572</td><td>2</td><td>1</td></tr>",
                            "<tr><td>145</td><td>703</td><td>4</td><td>0</td></tr>",
                            "<tr><td>145</td><td>1077</td><td>1</td><td>4</td></tr>",
                            "<tr><td>145</td><td>1120</td><td>1</td><td>1</td></tr>",
                            "<tr><td>145</td><td>1145</td><td>4</td><td>1</td></tr>",
                            "<tr><td>145</td><td>1338</td><td>2</td><td>4</td></tr>",
                            "<tr><td>145</td><td>1471</td><td>1</td><td>2</td></tr>",
                            "<tr><td>146</td><td>890</td><td>3</td><td>0</td></tr>",
                            "<tr><td>146</td><td>664</td><td>3</td><td>3</td></tr>",
                            "<tr><td>146</td><td>789</td><td>7</td><td>3</td></tr>",
                            "<tr><td>146</td><td>804</td><td>7</td><td>7</td></tr>",
                            "<tr><td>146</td><td>1032</td><td>5</td><td>7</td></tr>",
                            "<tr><td>146</td><td>1479</td><td>6</td><td>5</td></tr>",
                            "<tr><td>147</td><td>771</td><td>4</td><td>0</td></tr>",
                            "<tr><td>148</td><td>678</td><td>4</td><td>0</td></tr>",
                            "<tr><td>148</td><td>765</td><td>3</td><td>4</td></tr>",
                            "<tr><td>148</td><td>783</td><td>7</td><td>3</td></tr>",
                            "<tr><td>148</td><td>808</td><td>2</td><td>7</td></tr>",
                            "<tr><td>148</td><td>812</td><td>6</td><td>2</td></tr>",
                            "<tr><td>148</td><td>1578</td><td>7</td><td>6</td></tr>",
                            "<tr><td>149</td><td>591</td><td>1</td><td>0</td></tr>",
                            "<tr><td>149</td><td>652</td><td>1</td><td>1</td></tr>",
                            "<tr><td>149</td><td>833</td><td>2</td><td>1</td></tr>",
                            "<tr><td>149</td><td>834</td><td>5</td><td>2</td></tr>",
                            "<tr><td>149</td><td>843</td><td>4</td><td>5</td></tr>",
                            "<tr><td>149</td><td>1146</td><td>6</td><td>4</td></tr>",
                            "<tr><td>149</td><td>1514</td><td>5</td><td>6</td></tr>",
                            "<tr><td>150</td><td>641</td><td>3</td><td>0</td></tr>",
                            "<tr><td>150</td><td>1100</td><td>5</td><td>3</td></tr>",
                            "<tr><td>150</td><td>1105</td><td>1</td><td>5</td></tr>",
                            "<tr><td>150</td><td>1177</td><td>1</td><td>1</td></tr>",
                            "<tr><td>150</td><td>1203</td><td>4</td><td>1</td></tr>",
                            "<tr><td>150</td><td>1432</td><td>3</td><td>4</td></tr>",
                            "<tr><td>151</td><td>893</td><td>3</td><td>0</td></tr>",
                            "<tr><td>151</td><td>1058</td><td>3</td><td>3</td></tr>",
                            "<tr><td>151</td><td>1115</td><td>3</td><td>3</td></tr>",
                            "<tr><td>152</td><td>730</td><td>2</td><td>0</td></tr>",
                            "<tr><td>152</td><td>1160</td><td>7</td><td>2</td></tr>",
                            "<tr><td>152</td><td>1197</td><td>6</td><td>7</td></tr>",
                            "<tr><td>152</td><td>1558</td><td>2</td><td>6</td></tr>",
                            "<tr><td>153</td><td>594</td><td>3</td><td>0</td></tr>",
                            "<tr><td>153</td><td>969</td><td>6</td><td>3</td></tr>",
                            "<tr><td>153</td><td>1460</td><td>3</td><td>6</td></tr>",
                            "<tr><td>153</td><td>1470</td><td>5</td><td>3</td></tr>",
                            "<tr><td>153</td><td>1507</td><td>3</td><td>5</td></tr>",
                            "<tr><td>154</td><td>968</td><td>1</td><td>0</td></tr>",
                            "<tr><td>154</td><td>1061</td><td>7</td><td>1</td></tr>",
                            "<tr><td>154</td><td>1168</td><td>6</td><td>7</td></tr>",
                            "<tr><td>154</td><td>1262</td><td>1</td><td>6</td></tr>",
                            "<tr><td>154</td><td>1539</td><td>2</td><td>1</td></tr>",
                            "<tr><td>155</td><td>575</td><td>1</td><td>0</td></tr>",
                            "<tr><td>155</td><td>577</td><td>3</td><td>1</td></tr>",
                            "<tr><td>155</td><td>1112</td><td>4</td><td>3</td></tr>",
                            "<tr><td>155</td><td>1310</td><td>1</td><td>4</td></tr>",
                            "<tr><td>155</td><td>1541</td><td>1</td><td>1</td></tr>",
                            "<tr><td>156</td><td>588</td><td>7</td><td>0</td></tr>",
                            "<tr><td>156</td><td>907</td><td>3</td><td>7</td></tr>",
                            "<tr><td>156</td><td>956</td><td>6</td><td>3</td></tr>",
                            "<tr><td>156</td><td>692</td><td>6</td><td>6</td></tr>",
                            "<tr><td>156</td><td>1462</td><td>7</td><td>6</td></tr>",
                            "<tr><td>156</td><td>1490</td><td>1</td><td>7</td></tr>",
                            "<tr><td>156</td><td>1561</td><td>4</td><td>1</td></tr>",
                            "<tr><td>157</td><td>648</td><td>4</td><td>0</td></tr>",
                            "<tr><td>157</td><td>1025</td><td>3</td><td>4</td></tr>",
                            "<tr><td>157</td><td>1047</td><td>4</td><td>3</td></tr>",
                            "<tr><td>157</td><td>1240</td><td>7</td><td>4</td></tr>",
                            "<tr><td>157</td><td>1551</td><td>3</td><td>7</td></tr>",
                            "<tr><td>158</td><td>825</td><td>4</td><td>0</td></tr>",
                            "<tr><td>158</td><td>840</td><td>4</td><td>4</td></tr>",
                            "<tr><td>158</td><td>1117</td><td>3</td><td>4</td></tr>",
                            "<tr><td>160</td><td>922</td><td>2</td><td>0</td></tr>",
                            "<tr><td>160</td><td>927</td><td>4</td><td>2</td></tr>",
                            "<tr><td>160</td><td>933</td><td>4</td><td>4</td></tr>",
                            "<tr><td>160</td><td>720</td><td>2</td><td>4</td></tr>",
                            "<tr><td>160</td><td>1565</td><td>3</td><td>2</td></tr>",
                            "<tr><td>161</td><td>639</td><td>4</td><td>0</td></tr>",
                            "<tr><td>161</td><td>653</td><td>7</td><td>4</td></tr>",
                            "<tr><td>161</td><td>911</td><td>4</td><td>7</td></tr>",
                            "<tr><td>161</td><td>1068</td><td>6</td><td>4</td></tr>",
                            "<tr><td>161</td><td>1190</td><td>7</td><td>6</td></tr>",
                            "<tr><td>161</td><td>1571</td><td>4</td><td>7</td></tr>",
                            "<tr><td>162</td><td>599</td><td>4</td><td>0</td></tr>",
                            "<tr><td>162</td><td>1205</td><td>6</td><td>4</td></tr>",
                            "<tr><td>162</td><td>1400</td><td>1</td><td>6</td></tr>",
                            "<tr><td>163</td><td>630</td><td>2</td><td>0</td></tr>",
                            "<tr><td>163</td><td>941</td><td>1</td><td>2</td></tr>",
                            "<tr><td>163</td><td>782</td><td>3</td><td>1</td></tr>",
                            "<tr><td>163</td><td>1075</td><td>4</td><td>3</td></tr>",
                            "<tr><td>163</td><td>1107</td><td>3</td><td>4</td></tr>",
                            "<tr><td>163</td><td>1265</td><td>5</td><td>3</td></tr>",
                            "<tr><td>163</td><td>1487</td><td>3</td><td>5</td></tr>",
                            "<tr><td>164</td><td>570</td><td>7</td><td>0</td></tr>",
                            "<tr><td>164</td><td>1010</td><td>2</td><td>7</td></tr>",
                            "<tr><td>164</td><td>742</td><td>6</td><td>2</td></tr>",
                            "<tr><td>164</td><td>1284</td><td>4</td><td>6</td></tr>",
                            "<tr><td>164</td><td>1292</td><td>2</td><td>4</td></tr>",
                            "<tr><td>165</td><td>640</td><td>3</td><td>0</td></tr>",
                            "<tr><td>165</td><td>857</td><td>5</td><td>3</td></tr>",
                            "<tr><td>165</td><td>900</td><td>6</td><td>5</td></tr>",
                            "<tr><td>165</td><td>897</td><td>6</td><td>6</td></tr>",
                            "<tr><td>165</td><td>892</td><td>3</td><td>6</td></tr>",
                            "<tr><td>165</td><td>1141</td><td>1</td><td>3</td></tr>",
                            "<tr><td>165</td><td>1375</td><td>4</td><td>1</td></tr>",
                            "<tr><td>166</td><td>644</td><td>7</td><td>0</td></tr>",
                            "<tr><td>166</td><td>781</td><td>7</td><td>7</td></tr>",
                            "<tr><td>166</td><td>1526</td><td>2</td><td>7</td></tr>",
                            "<tr><td>167</td><td>854</td><td>7</td><td>0</td></tr>",
                            "<tr><td>167</td><td>1414</td><td>3</td><td>7</td></tr>",
                            "<tr><td>168</td><td>930</td><td>3</td><td>0</td></tr>",
                            "<tr><td>168</td><td>792</td><td>3</td><td>3</td></tr>",
                            "<tr><td>168</td><td>794</td><td>4</td><td>3</td></tr>",
                            "<tr><td>168</td><td>1249</td><td>4</td><td>4</td></tr>",
                            "<tr><td>168</td><td>1266</td><td>4</td><td>4</td></tr>",
                            "<tr><td>169</td><td>573</td><td>5</td><td>0</td></tr>",
                            "<tr><td>169</td><td>659</td><td>6</td><td>5</td></tr>",
                            "<tr><td>169</td><td>974</td><td>1</td><td>6</td></tr>",
                            "<tr><td>169</td><td>746</td><td>7</td><td>1</td></tr>",
                            "<tr><td>169</td><td>1356</td><td>4</td><td>7</td></tr>",
                            "<tr><td>169</td><td>1427</td><td>1</td><td>4</td></tr>",
                            "<tr><td>170</td><td>567</td><td>7</td><td>0</td></tr>",
                            "<tr><td>170</td><td>944</td><td>4</td><td>7</td></tr>",
                            "<tr><td>170</td><td>1194</td><td>4</td><td>4</td></tr>",
                            "<tr><td>170</td><td>1267</td><td>7</td><td>4</td></tr>",
                            "<tr><td>170</td><td>1342</td><td>6</td><td>7</td></tr>",
                            "<tr><td>171</td><td>574</td><td>2</td><td>0</td></tr>",
                            "<tr><td>171</td><td>981</td><td>4</td><td>2</td></tr>",
                            "<tr><td>171</td><td>1181</td><td>6</td><td>4</td></tr>",
                            "<tr><td>171</td><td>1329</td><td>5</td><td>6</td></tr>",
                            "<tr><td>171</td><td>1567</td><td>6</td><td>5</td></tr>",
                            "<tr><td>172</td><td>984</td><td>4</td><td>0</td></tr>",
                            "<tr><td>172</td><td>709</td><td>5</td><td>4</td></tr>",
                            "<tr><td>172</td><td>749</td><td>6</td><td>5</td></tr>",
                            "<tr><td>172</td><td>839</td><td>5</td><td>6</td></tr>",
                            "<tr><td>172</td><td>1142</td><td>4</td><td>5</td></tr>",
                            "<tr><td>172</td><td>1171</td><td>5</td><td>4</td></tr>",
                            "<tr><td>172</td><td>1336</td><td>5</td><td>5</td></tr>",
                            "<tr><td>172</td><td>1421</td><td>5</td><td>5</td></tr>",
                            "<tr><td>172</td><td>1491</td><td>2</td><td>5</td></tr>",
                            "<tr><td>173</td><td>913</td><td>1</td><td>0</td></tr>",
                            "<tr><td>173</td><td>669</td><td>7</td><td>1</td></tr>",
                            "<tr><td>173</td><td>1350</td><td>3</td><td>7</td></tr>",
                            "<tr><td>173</td><td>1429</td><td>4</td><td>3</td></tr>",
                            "<tr><td>174</td><td>917</td><td>2</td><td>0</td></tr>",
                            "<tr><td>174</td><td>1015</td><td>5</td><td>2</td></tr>",
                            "<tr><td>174</td><td>682</td><td>3</td><td>5</td></tr>",
                            "<tr><td>174</td><td>1276</td><td>1</td><td>3</td></tr>",
                            "<tr><td>175</td><td>867</td><td>6</td><td>0</td></tr>",
                            "<tr><td>175</td><td>799</td><td>4</td><td>6</td></tr>",
                            "<tr><td>175</td><td>1094</td><td>5</td><td>4</td></tr>",
                            "<tr><td>175</td><td>1133</td><td>2</td><td>5</td></tr>",
                            "<tr><td>175</td><td>1407</td><td>7</td><td>2</td></tr>",
                            "<tr><td>176</td><td>592</td><td>5</td><td>0</td></tr>",
                            "<tr><td>176</td><td>1143</td><td>6</td><td>5</td></tr>",
                            "<tr><td>176</td><td>1278</td><td>6</td><td>6</td></tr>",
                            "<tr><td>176</td><td>1383</td><td>4</td><td>6</td></tr>",
                            "<tr><td>176</td><td>1511</td><td>2</td><td>4</td></tr>",
                            "<tr><td>176</td><td>1570</td><td>3</td><td>2</td></tr>",
                            "<tr><td>177</td><td>785</td><td>3</td><td>0</td></tr>",
                            "<tr><td>177</td><td>831</td><td>7</td><td>3</td></tr>",
                            "<tr><td>177</td><td>1176</td><td>3</td><td>7</td></tr>",
                            "<tr><td>177</td><td>1503</td><td>3</td><td>3</td></tr>",
                            "<tr><td>178</td><td>991</td><td>7</td><td>0</td></tr>",
                            "<tr><td>178</td><td>816</td><td>4</td><td>7</td></tr>",
                            "<tr><td>178</td><td>1211</td><td>3</td><td>4</td></tr>",
                            "<tr><td>178</td><td>1242</td><td>1</td><td>3</td></tr>",
                            "<tr><td>179</td><td>662</td><td>2</td><td>0</td></tr>",
                            "<tr><td>179</td><td>1021</td><td>1</td><td>2</td></tr>",
                            "<tr><td>179</td><td>1497</td><td>1</td><td>1</td></tr>",
                            "<tr><td>180</td><td>905</td><td>5</td><td>0</td></tr>",
                            "<tr><td>180</td><td>1559</td><td>3</td><td>5</td></tr>",
                            "<tr><td>180</td><td>1563</td><td>6</td><td>3</td></tr>",
                            "<tr><td>181</td><td>937</td><td>3</td><td>0</td></tr>",
                            "<tr><td>181</td><td>958</td><td>5</td><td>3</td></tr>",
                            "<tr><td>181</td><td>1022</td><td>1</td><td>5</td></tr>",
                            "<tr><td>181</td><td>677</td><td>4</td><td>1</td></tr>",
                            "<tr><td>181</td><td>731</td><td>6</td><td>4</td></tr>",
                            "<tr><td>181</td><td>1346</td><td>6</td><td>6</td></tr>",
                            "<tr><td>182</td><td>571</td><td>2</td><td>0</td></tr>",
                            "<tr><td>182</td><td>928</td><td>2</td><td>2</td></tr>",
                            "<tr><td>182</td><td>1008</td><td>6</td><td>2</td></tr>",
                            "<tr><td>182</td><td>740</td><td>3</td><td>6</td></tr>",
                            "<tr><td>182</td><td>1188</td><td>1</td><td>3</td></tr>",
                            "<tr><td>182</td><td>1230</td><td>7</td><td>1</td></tr>",
                            "<tr><td>182</td><td>1231</td><td>4</td><td>7</td></tr>",
                            "<tr><td>182</td><td>1308</td><td>1</td><td>4</td></tr>",
                            "<tr><td>182</td><td>1317</td><td>3</td><td>1</td></tr>",
                            "<tr><td>182</td><td>1326</td><td>4</td><td>3</td></tr>",
                            "<tr><td>182</td><td>1410</td><td>4</td><td>4</td></tr>",
                            "<tr><td>182</td><td>1422</td><td>3</td><td>4</td></tr>",
                            "<tr><td>183</td><td>939</td><td>4</td><td>0</td></tr>",
                            "<tr><td>183</td><td>1067</td><td>7</td><td>4</td></tr>",
                            "<tr><td>183</td><td>1147</td><td>4</td><td>7</td></tr>",
                            "<tr><td>183</td><td>1437</td><td>4</td><td>4</td></tr>",
                            "<tr><td>184</td><td>608</td><td>2</td><td>0</td></tr>",
                            "<tr><td>184</td><td>880</td><td>4</td><td>2</td></tr>",
                            "<tr><td>184</td><td>684</td><td>3</td><td>4</td></tr>",
                            "<tr><td>184</td><td>1251</td><td>4</td><td>3</td></tr>",
                            "<tr><td>185</td><td>578</td><td>6</td><td>0</td></tr>",
                            "<tr><td>185</td><td>863</td><td>4</td><td>6</td></tr>",
                            "<tr><td>185</td><td>898</td><td>4</td><td>4</td></tr>",
                            "<tr><td>185</td><td>925</td><td>6</td><td>4</td></tr>",
                            "<tr><td>185</td><td>672</td><td>3</td><td>6</td></tr>",
                            "<tr><td>185</td><td>679</td><td>5</td><td>3</td></tr>",
                            "<tr><td>185</td><td>693</td><td>2</td><td>5</td></tr>",
                            "<tr><td>185</td><td>711</td><td>3</td><td>2</td></tr>",
                            "<tr><td>185</td><td>1125</td><td>3</td><td>3</td></tr>",
                            "<tr><td>185</td><td>1183</td><td>5</td><td>3</td></tr>",
                            "<tr><td>185</td><td>1441</td><td>7</td><td>5</td></tr>",
                            "<tr><td>185</td><td>1463</td><td>7</td><td>7</td></tr>",
                            "<tr><td>186</td><td>615</td><td>3</td><td>0</td></tr>",
                            "<tr><td>186</td><td>1153</td><td>3</td><td>3</td></tr>",
                            "<tr><td>186</td><td>1248</td><td>2</td><td>3</td></tr>",
                            "<tr><td>186</td><td>1467</td><td>3</td><td>2</td></tr>",
                            "<tr><td>187</td><td>633</td><td>6</td><td>0</td></tr>",
                            "<tr><td>187</td><td>868</td><td>4</td><td>6</td></tr>",
                            "<tr><td>187</td><td>957</td><td>4</td><td>4</td></tr>",
                            "<tr><td>187</td><td>695</td><td>6</td><td>4</td></tr>",
                            "<tr><td>187</td><td>743</td><td>2</td><td>6</td></tr>",
                            "<tr><td>187</td><td>766</td><td>1</td><td>2</td></tr>",
                            "<tr><td>187</td><td>1404</td><td>2</td><td>1</td></tr>",
                            "<tr><td>188</td><td>912</td><td>1</td><td>0</td></tr>",
                            "<tr><td>188</td><td>690</td><td>4</td><td>1</td></tr>",
                            "<tr><td>188</td><td>710</td><td>7</td><td>4</td></tr>",
                            "<tr><td>188</td><td>747</td><td>3</td><td>7</td></tr>",
                            "<tr><td>188</td><td>1030</td><td>4</td><td>3</td></tr>",
                            "<tr><td>188</td><td>1390</td><td>5</td><td>4</td></tr>",
                            "<tr><td>189</td><td>699</td><td>2</td><td>0</td></tr>",
                            "<tr><td>189</td><td>753</td><td>1</td><td>2</td></tr>",
                            "<tr><td>189</td><td>1204</td><td>2</td><td>1</td></tr>",
                            "<tr><td>189</td><td>1449</td><td>2</td><td>2</td></tr>",
                            "<tr><td>189</td><td>1576</td><td>3</td><td>2</td></tr>",
                            "<tr><td>190</td><td>600</td><td>7</td><td>0</td></tr>",
                            "<tr><td>190</td><td>989</td><td>1</td><td>7</td></tr>",
                            "<tr><td>190</td><td>1017</td><td>1</td><td>1</td></tr>",
                            "<tr><td>190</td><td>774</td><td>5</td><td>1</td></tr>",
                            "<tr><td>190</td><td>1517</td><td>5</td><td>5</td></tr>",
                            "<tr><td>191</td><td>1039</td><td>6</td><td>0</td></tr>",
                            "<tr><td>191</td><td>1302</td><td>1</td><td>6</td></tr>",
                            "<tr><td>191</td><td>1323</td><td>7</td><td>1</td></tr>",
                            "<tr><td>191</td><td>1502</td><td>2</td><td>7</td></tr>",
                            "<tr><td>191</td><td>1508</td><td>7</td><td>2</td></tr>",
                            "<tr><td>192</td><td>903</td><td>7</td><td>0</td></tr>",
                            "<tr><td>192</td><td>680</td><td>4</td><td>7</td></tr>",
                            "<tr><td>193</td><td>634</td><td>6</td><td>0</td></tr>",
                            "<tr><td>193</td><td>926</td><td>1</td><td>6</td></tr>",
                            "<tr><td>193</td><td>977</td><td>2</td><td>1</td></tr>",
                            "<tr><td>193</td><td>675</td><td>2</td><td>2</td></tr>",
                            "<tr><td>193</td><td>835</td><td>2</td><td>2</td></tr>",
                            "<tr><td>193</td><td>1043</td><td>6</td><td>2</td></tr>",
                            "<tr><td>193</td><td>1238</td><td>6</td><td>6</td></tr>",
                            "<tr><td>194</td><td>1095</td><td>5</td><td>0</td></tr>",
                            "<tr><td>195</td><td>721</td><td>4</td><td>0</td></tr>",
                            "<tr><td>195</td><td>842</td><td>4</td><td>4</td></tr>",
                            "<tr><td>195</td><td>1074</td><td>7</td><td>4</td></tr>",
                            "<tr><td>195</td><td>1184</td><td>5</td><td>7</td></tr>",
                            "<tr><td>195</td><td>1473</td><td>7</td><td>5</td></tr>",
                            "<tr><td>195</td><td>1484</td><td>1</td><td>7</td></tr>",
                            "<tr><td>196</td><td>952</td><td>3</td><td>0</td></tr>",
                            "<tr><td>196</td><td>673</td><td>5</td><td>3</td></tr>",
                            "<tr><td>196</td><td>1314</td><td>5</td><td>5</td></tr>",
                            "<tr><td>196</td><td>1340</td><td>5</td><td>5</td></tr>",
                            "<tr><td>197</td><td>993</td><td>7</td><td>0</td></tr>",
                            "<tr><td>197</td><td>764</td><td>7</td><td>7</td></tr>",
                            "<tr><td>197</td><td>1091</td><td>7</td><td>7</td></tr>",
                            "<tr><td>197</td><td>1172</td><td>7</td><td>7</td></tr>",
                            "<tr><td>197</td><td>1304</td><td>7</td><td>7</td></tr>",
                            "<tr><td>197</td><td>1387</td><td>3</td><td>7</td></tr>",
                            "<tr><td>198</td><td>978</td><td>1</td><td>0</td></tr>",
                            "<tr><td>198</td><td>1011</td><td>7</td><td>1</td></tr>",
                            "<tr><td>198</td><td>1065</td><td>3</td><td>7</td></tr>",
                            "<tr><td>198</td><td>1116</td><td>1</td><td>3</td></tr>",
                            "<tr><td>198</td><td>1138</td><td>5</td><td>1</td></tr>",
                            "<tr><td>198</td><td>1161</td><td>5</td><td>5</td></tr>",
                            "<tr><td>198</td><td>1216</td><td>7</td><td>5</td></tr>",
                            "<tr><td>198</td><td>1420</td><td>5</td><td>7</td></tr>",
                            "</table>"
                        ]
                    }
                }
            ],
            "execution_count": 11
        },
        {
            "cell_type": "code",
            "source": [
                "--2.feladat\r\n",
                "\r\n",
                "select hely,\r\n",
                "        TIPUS,\r\n",
                "        round(AVG(CSILLAGOK_SZAMA),0) as 'átlagos csillag'\r\n",
                "from szallashely\r\n",
                "where SZALLAS_NEV not like '%-%'\r\n",
                "group by GROUPING sets((tipus), (hely))"
            ],
            "metadata": {
                "azdata_cell_guid": "6cb3fae8-49ab-4185-a703-22fa649111d2",
                "language": "sql",
                "tags": []
            },
            "outputs": [
                {
                    "output_type": "display_data",
                    "data": {
                        "text/html": "(14 rows affected)"
                    },
                    "metadata": {}
                },
                {
                    "output_type": "display_data",
                    "data": {
                        "text/html": "Total execution time: 00:00:00.021"
                    },
                    "metadata": {}
                },
                {
                    "output_type": "execute_result",
                    "metadata": {},
                    "execution_count": 30,
                    "data": {
                        "application/vnd.dataresource+json": {
                            "schema": {
                                "fields": [
                                    {
                                        "name": "hely"
                                    },
                                    {
                                        "name": "TIPUS"
                                    },
                                    {
                                        "name": "átlagos csillag"
                                    }
                                ]
                            },
                            "data": [
                                {
                                    "hely": "Balaton-dél",
                                    "TIPUS": "NULL",
                                    "átlagos csillag": "2"
                                },
                                {
                                    "hely": "Balaton-észak",
                                    "TIPUS": "NULL",
                                    "átlagos csillag": "0"
                                },
                                {
                                    "hely": "Békés megye",
                                    "TIPUS": "NULL",
                                    "átlagos csillag": "3"
                                },
                                {
                                    "hely": "Budapest",
                                    "TIPUS": "NULL",
                                    "átlagos csillag": "2"
                                },
                                {
                                    "hely": "Csongrád megye",
                                    "TIPUS": "NULL",
                                    "átlagos csillag": "1"
                                },
                                {
                                    "hely": "Dél-Somogy",
                                    "TIPUS": "NULL",
                                    "átlagos csillag": "0"
                                },
                                {
                                    "hely": "Hajdúbihar megye",
                                    "TIPUS": "NULL",
                                    "átlagos csillag": "0"
                                },
                                {
                                    "hely": "Pest megye",
                                    "TIPUS": "NULL",
                                    "átlagos csillag": "3"
                                },
                                {
                                    "hely": "Tolna megye",
                                    "TIPUS": "NULL",
                                    "átlagos csillag": "4"
                                },
                                {
                                    "hely": "NULL",
                                    "TIPUS": "Apartman",
                                    "átlagos csillag": "0"
                                },
                                {
                                    "hely": "NULL",
                                    "TIPUS": "Diákszálló",
                                    "átlagos csillag": "0"
                                },
                                {
                                    "hely": "NULL",
                                    "TIPUS": "Hotel",
                                    "átlagos csillag": "3"
                                },
                                {
                                    "hely": "NULL",
                                    "TIPUS": "panzió",
                                    "átlagos csillag": "3"
                                },
                                {
                                    "hely": "NULL",
                                    "TIPUS": "vendégház",
                                    "átlagos csillag": "0"
                                }
                            ]
                        },
                        "text/html": [
                            "<table>",
                            "<tr><th>hely</th><th>TIPUS</th><th>átlagos csillag</th></tr>",
                            "<tr><td>Balaton-dél</td><td>NULL</td><td>2</td></tr>",
                            "<tr><td>Balaton-észak</td><td>NULL</td><td>0</td></tr>",
                            "<tr><td>Békés megye</td><td>NULL</td><td>3</td></tr>",
                            "<tr><td>Budapest</td><td>NULL</td><td>2</td></tr>",
                            "<tr><td>Csongrád megye</td><td>NULL</td><td>1</td></tr>",
                            "<tr><td>Dél-Somogy</td><td>NULL</td><td>0</td></tr>",
                            "<tr><td>Hajdúbihar megye</td><td>NULL</td><td>0</td></tr>",
                            "<tr><td>Pest megye</td><td>NULL</td><td>3</td></tr>",
                            "<tr><td>Tolna megye</td><td>NULL</td><td>4</td></tr>",
                            "<tr><td>NULL</td><td>Apartman</td><td>0</td></tr>",
                            "<tr><td>NULL</td><td>Diákszálló</td><td>0</td></tr>",
                            "<tr><td>NULL</td><td>Hotel</td><td>3</td></tr>",
                            "<tr><td>NULL</td><td>panzió</td><td>3</td></tr>",
                            "<tr><td>NULL</td><td>vendégház</td><td>0</td></tr>",
                            "</table>"
                        ]
                    }
                }
            ],
            "execution_count": 30
        },
        {
            "cell_type": "code",
            "source": [
                "select *\r\n",
                "from szallashely"
            ],
            "metadata": {
                "azdata_cell_guid": "56e6529d-47a6-4993-9e97-bf9f6033cf19",
                "language": "sql"
            },
            "outputs": [
                {
                    "output_type": "display_data",
                    "data": {
                        "text/html": "(21 rows affected)"
                    },
                    "metadata": {}
                },
                {
                    "output_type": "display_data",
                    "data": {
                        "text/html": "Total execution time: 00:00:00.035"
                    },
                    "metadata": {}
                },
                {
                    "output_type": "execute_result",
                    "metadata": {},
                    "execution_count": 25,
                    "data": {
                        "application/vnd.dataresource+json": {
                            "schema": {
                                "fields": [
                                    {
                                        "name": "SZALLAS_ID"
                                    },
                                    {
                                        "name": "SZALLAS_NEV"
                                    },
                                    {
                                        "name": "HELY"
                                    },
                                    {
                                        "name": "CSILLAGOK_SZAMA"
                                    },
                                    {
                                        "name": "TIPUS"
                                    },
                                    {
                                        "name": "ROGZITETTE"
                                    },
                                    {
                                        "name": "ROGZ_IDO"
                                    },
                                    {
                                        "name": "CIM"
                                    }
                                ]
                            },
                            "data": [
                                {
                                    "SZALLAS_ID": "1",
                                    "SZALLAS_NEV": "Sába-Ház",
                                    "HELY": "Balaton-dél",
                                    "CSILLAGOK_SZAMA": "0",
                                    "TIPUS": "vendégház",
                                    "ROGZITETTE": "Béla",
                                    "ROGZ_IDO": "2016-02-28",
                                    "CIM": "8630 Balatonboglár, Radnóti Miklós utca 8"
                                },
                                {
                                    "SZALLAS_ID": "2",
                                    "SZALLAS_NEV": "Családi Ház",
                                    "HELY": "Balaton-dél",
                                    "CSILLAGOK_SZAMA": "0",
                                    "TIPUS": "vendégház",
                                    "ROGZITETTE": "Béla",
                                    "ROGZ_IDO": "2016-03-02",
                                    "CIM": "8630 Balatonboglár, József Attila utca 25"
                                },
                                {
                                    "SZALLAS_ID": "3",
                                    "SZALLAS_NEV": "Fortuna Apartman",
                                    "HELY": "Hajdúbihar megye",
                                    "CSILLAGOK_SZAMA": "0",
                                    "TIPUS": "Apartman",
                                    "ROGZITETTE": "Sára",
                                    "ROGZ_IDO": "2016-03-06",
                                    "CIM": "4200 Hajdúszoboszló, Wesselényi utca 56."
                                },
                                {
                                    "SZALLAS_ID": "4",
                                    "SZALLAS_NEV": "Fortuna panzió",
                                    "HELY": "Budapest",
                                    "CSILLAGOK_SZAMA": "3",
                                    "TIPUS": "panzió",
                                    "ROGZITETTE": "Béla",
                                    "ROGZ_IDO": "2016-03-07",
                                    "CIM": "1019 Budapest XIV. Cinkotai út 86."
                                },
                                {
                                    "SZALLAS_ID": "5",
                                    "SZALLAS_NEV": "Fortuna Panzió",
                                    "HELY": "Békés megye",
                                    "CSILLAGOK_SZAMA": "3",
                                    "TIPUS": "panzió",
                                    "ROGZITETTE": "Sára",
                                    "ROGZ_IDO": "2016-03-08",
                                    "CIM": "5900 Orosháza, Gyopárosfürdő Tópart utca 3."
                                },
                                {
                                    "SZALLAS_ID": "6",
                                    "SZALLAS_NEV": "Kentaur Hotel",
                                    "HELY": "Balaton-dél",
                                    "CSILLAGOK_SZAMA": "3",
                                    "TIPUS": "Hotel",
                                    "ROGZITETTE": "Béla",
                                    "ROGZ_IDO": "2016-03-08",
                                    "CIM": "8600 Siófok (Széplak), Akácfa utca 1"
                                },
                                {
                                    "SZALLAS_ID": "7",
                                    "SZALLAS_NEV": "Szieszta Apartmanház",
                                    "HELY": "Balaton-dél",
                                    "CSILLAGOK_SZAMA": "0",
                                    "TIPUS": "Apartman",
                                    "ROGZITETTE": "Mari",
                                    "ROGZ_IDO": "2016-03-11",
                                    "CIM": "8630 Balatonboglár, Dózsa György utca 108"
                                },
                                {
                                    "SZALLAS_ID": "8",
                                    "SZALLAS_NEV": "Hotel Három Hattyú",
                                    "HELY": "Balaton-dél",
                                    "CSILLAGOK_SZAMA": "4",
                                    "TIPUS": "Hotel",
                                    "ROGZITETTE": "Béla",
                                    "ROGZ_IDO": "2016-03-13",
                                    "CIM": "8623 Balatonföldvár, Rákóczi Ferenc út 45."
                                },
                                {
                                    "SZALLAS_ID": "9",
                                    "SZALLAS_NEV": "Jáde panzió",
                                    "HELY": "Balaton-dél",
                                    "CSILLAGOK_SZAMA": "3",
                                    "TIPUS": "panzió",
                                    "ROGZITETTE": "Mari",
                                    "ROGZ_IDO": "2016-03-16",
                                    "CIM": "8624 Balatonföldvár, Kiss u.2."
                                },
                                {
                                    "SZALLAS_ID": "10",
                                    "SZALLAS_NEV": "Lagúna Hotel",
                                    "HELY": "Budapest",
                                    "CSILLAGOK_SZAMA": "4",
                                    "TIPUS": "Hotel",
                                    "ROGZITETTE": "Sára",
                                    "ROGZ_IDO": "2016-03-20",
                                    "CIM": "1097 Budapest, Albert Flórián út 3"
                                },
                                {
                                    "SZALLAS_ID": "11",
                                    "SZALLAS_NEV": "Partiszél Vendégház",
                                    "HELY": "Balaton-észak",
                                    "CSILLAGOK_SZAMA": "0",
                                    "TIPUS": "vendégház",
                                    "ROGZITETTE": "Béla",
                                    "ROGZ_IDO": "2016-03-22",
                                    "CIM": "8220 Balatonalmádi Neptun u. 23."
                                },
                                {
                                    "SZALLAS_ID": "12",
                                    "SZALLAS_NEV": "Gold Hotel",
                                    "HELY": "Budapest",
                                    "CSILLAGOK_SZAMA": "3",
                                    "TIPUS": "Hotel",
                                    "ROGZITETTE": "Béla",
                                    "ROGZ_IDO": "2016-03-24",
                                    "CIM": "1016 Budapest, Hegyalja út 12"
                                },
                                {
                                    "SZALLAS_ID": "13",
                                    "SZALLAS_NEV": "Riviéra Panzió",
                                    "HELY": "Csongrád megye",
                                    "CSILLAGOK_SZAMA": "3",
                                    "TIPUS": "panzió",
                                    "ROGZITETTE": "Sára",
                                    "ROGZ_IDO": "2016-03-27",
                                    "CIM": "6722 Szeged, Petőfi Sándor út 3."
                                },
                                {
                                    "SZALLAS_ID": "14",
                                    "SZALLAS_NEV": "Nyárfás Vendégház",
                                    "HELY": "Csongrád megye",
                                    "CSILLAGOK_SZAMA": "0",
                                    "TIPUS": "vendégház",
                                    "ROGZITETTE": "Béla",
                                    "ROGZ_IDO": "2016-03-27",
                                    "CIM": "6723 Szeged, Nagy u. 12."
                                },
                                {
                                    "SZALLAS_ID": "15",
                                    "SZALLAS_NEV": "Tímárház Panzió",
                                    "HELY": "Balaton-dél",
                                    "CSILLAGOK_SZAMA": "3",
                                    "TIPUS": "panzió",
                                    "ROGZITETTE": "Béla",
                                    "ROGZ_IDO": "2016-03-29",
                                    "CIM": "8600 Siófok, Virág utca 1"
                                },
                                {
                                    "SZALLAS_ID": "16",
                                    "SZALLAS_NEV": "Bagoly Hotel",
                                    "HELY": "Pest megye",
                                    "CSILLAGOK_SZAMA": "3",
                                    "TIPUS": "Hotel",
                                    "ROGZITETTE": "Mari",
                                    "ROGZ_IDO": "2016-04-01",
                                    "CIM": "2230 Gyömrő, Bergszász u. 5."
                                },
                                {
                                    "SZALLAS_ID": "17",
                                    "SZALLAS_NEV": "Szarvas Hotel",
                                    "HELY": "Tolna megye",
                                    "CSILLAGOK_SZAMA": "4",
                                    "TIPUS": "Hotel",
                                    "ROGZITETTE": "Béla",
                                    "ROGZ_IDO": "2016-04-04",
                                    "CIM": "7121 Szálka, Petőfi Sándor u."
                                },
                                {
                                    "SZALLAS_ID": "18",
                                    "SZALLAS_NEV": "Fortuna Apartman",
                                    "HELY": "Dél-Somogy",
                                    "CSILLAGOK_SZAMA": "0",
                                    "TIPUS": "Apartman",
                                    "ROGZITETTE": "Béla",
                                    "ROGZ_IDO": "2016-04-07",
                                    "CIM": "7570 Barcs, Kossuth u. 13."
                                },
                                {
                                    "SZALLAS_ID": "19",
                                    "SZALLAS_NEV": "Nyárfás Vendégház",
                                    "HELY": "Dél-Somogy",
                                    "CSILLAGOK_SZAMA": "0",
                                    "TIPUS": "vendégház",
                                    "ROGZITETTE": "Sára",
                                    "ROGZ_IDO": "2016-04-07",
                                    "CIM": "7570 Barcs, Bajcsy-Zs. u. 53"
                                },
                                {
                                    "SZALLAS_ID": "20",
                                    "SZALLAS_NEV": "Kollégium",
                                    "HELY": "Budapest",
                                    "CSILLAGOK_SZAMA": "0",
                                    "TIPUS": "Diákszálló",
                                    "ROGZITETTE": "Sára",
                                    "ROGZ_IDO": "2016-04-07",
                                    "CIM": "1146 Budapest, Ajtósi Dürer sor 23."
                                },
                                {
                                    "SZALLAS_ID": "21",
                                    "SZALLAS_NEV": "Müller Vendégház",
                                    "HELY": "Dél-Somogy",
                                    "CSILLAGOK_SZAMA": "0",
                                    "TIPUS": "vendégház",
                                    "ROGZITETTE": "Béla",
                                    "ROGZ_IDO": "2016-04-07",
                                    "CIM": "7570 Barcs, Magyar u. 10."
                                }
                            ]
                        },
                        "text/html": [
                            "<table>",
                            "<tr><th>SZALLAS_ID</th><th>SZALLAS_NEV</th><th>HELY</th><th>CSILLAGOK_SZAMA</th><th>TIPUS</th><th>ROGZITETTE</th><th>ROGZ_IDO</th><th>CIM</th></tr>",
                            "<tr><td>1</td><td>Sába-Ház</td><td>Balaton-dél</td><td>0</td><td>vendégház</td><td>Béla</td><td>2016-02-28</td><td>8630 Balatonboglár, Radnóti Miklós utca 8</td></tr>",
                            "<tr><td>2</td><td>Családi Ház</td><td>Balaton-dél</td><td>0</td><td>vendégház</td><td>Béla</td><td>2016-03-02</td><td>8630 Balatonboglár, József Attila utca 25</td></tr>",
                            "<tr><td>3</td><td>Fortuna Apartman</td><td>Hajdúbihar megye</td><td>0</td><td>Apartman</td><td>Sára</td><td>2016-03-06</td><td>4200 Hajdúszoboszló, Wesselényi utca 56.</td></tr>",
                            "<tr><td>4</td><td>Fortuna panzió</td><td>Budapest</td><td>3</td><td>panzió</td><td>Béla</td><td>2016-03-07</td><td>1019 Budapest XIV. Cinkotai út 86.</td></tr>",
                            "<tr><td>5</td><td>Fortuna Panzió</td><td>Békés megye</td><td>3</td><td>panzió</td><td>Sára</td><td>2016-03-08</td><td>5900 Orosháza, Gyopárosfürdő Tópart utca 3.</td></tr>",
                            "<tr><td>6</td><td>Kentaur Hotel</td><td>Balaton-dél</td><td>3</td><td>Hotel</td><td>Béla</td><td>2016-03-08</td><td>8600 Siófok (Széplak), Akácfa utca 1</td></tr>",
                            "<tr><td>7</td><td>Szieszta Apartmanház</td><td>Balaton-dél</td><td>0</td><td>Apartman</td><td>Mari</td><td>2016-03-11</td><td>8630 Balatonboglár, Dózsa György utca 108</td></tr>",
                            "<tr><td>8</td><td>Hotel Három Hattyú</td><td>Balaton-dél</td><td>4</td><td>Hotel</td><td>Béla</td><td>2016-03-13</td><td>8623 Balatonföldvár, Rákóczi Ferenc út 45.</td></tr>",
                            "<tr><td>9</td><td>Jáde panzió</td><td>Balaton-dél</td><td>3</td><td>panzió</td><td>Mari</td><td>2016-03-16</td><td>8624 Balatonföldvár, Kiss u.2.</td></tr>",
                            "<tr><td>10</td><td>Lagúna Hotel</td><td>Budapest</td><td>4</td><td>Hotel</td><td>Sára</td><td>2016-03-20</td><td>1097 Budapest, Albert Flórián út 3</td></tr>",
                            "<tr><td>11</td><td>Partiszél Vendégház</td><td>Balaton-észak</td><td>0</td><td>vendégház</td><td>Béla</td><td>2016-03-22</td><td>8220 Balatonalmádi Neptun u. 23.</td></tr>",
                            "<tr><td>12</td><td>Gold Hotel</td><td>Budapest</td><td>3</td><td>Hotel</td><td>Béla</td><td>2016-03-24</td><td>1016 Budapest, Hegyalja út 12</td></tr>",
                            "<tr><td>13</td><td>Riviéra Panzió</td><td>Csongrád megye</td><td>3</td><td>panzió</td><td>Sára</td><td>2016-03-27</td><td>6722 Szeged, Petőfi Sándor út 3.</td></tr>",
                            "<tr><td>14</td><td>Nyárfás Vendégház</td><td>Csongrád megye</td><td>0</td><td>vendégház</td><td>Béla</td><td>2016-03-27</td><td>6723 Szeged, Nagy u. 12.</td></tr>",
                            "<tr><td>15</td><td>Tímárház Panzió</td><td>Balaton-dél</td><td>3</td><td>panzió</td><td>Béla</td><td>2016-03-29</td><td>8600 Siófok, Virág utca 1</td></tr>",
                            "<tr><td>16</td><td>Bagoly Hotel</td><td>Pest megye</td><td>3</td><td>Hotel</td><td>Mari</td><td>2016-04-01</td><td>2230 Gyömrő, Bergszász u. 5.</td></tr>",
                            "<tr><td>17</td><td>Szarvas Hotel</td><td>Tolna megye</td><td>4</td><td>Hotel</td><td>Béla</td><td>2016-04-04</td><td>7121 Szálka, Petőfi Sándor u.</td></tr>",
                            "<tr><td>18</td><td>Fortuna Apartman</td><td>Dél-Somogy</td><td>0</td><td>Apartman</td><td>Béla</td><td>2016-04-07</td><td>7570 Barcs, Kossuth u. 13.</td></tr>",
                            "<tr><td>19</td><td>Nyárfás Vendégház</td><td>Dél-Somogy</td><td>0</td><td>vendégház</td><td>Sára</td><td>2016-04-07</td><td>7570 Barcs, Bajcsy-Zs. u. 53</td></tr>",
                            "<tr><td>20</td><td>Kollégium</td><td>Budapest</td><td>0</td><td>Diákszálló</td><td>Sára</td><td>2016-04-07</td><td>1146 Budapest, Ajtósi Dürer sor 23.</td></tr>",
                            "<tr><td>21</td><td>Müller Vendégház</td><td>Dél-Somogy</td><td>0</td><td>vendégház</td><td>Béla</td><td>2016-04-07</td><td>7570 Barcs, Magyar u. 10.</td></tr>",
                            "</table>"
                        ]
                    }
                }
            ],
            "execution_count": 25
        },
        {
            "cell_type": "code",
            "source": [
                ""
            ],
            "metadata": {
                "azdata_cell_guid": "ec631422-b9fc-49ce-9326-8d0016ca3441",
                "language": "sql"
            },
            "outputs": [],
            "execution_count": null
        },
        {
            "cell_type": "code",
            "source": [
                ""
            ],
            "metadata": {
                "azdata_cell_guid": "5ed0ae93-c8eb-4949-bd1c-b04b54cfcc3f",
                "language": "sql"
            },
            "outputs": [],
            "execution_count": null
        },
        {
            "cell_type": "code",
            "source": [
                ""
            ],
            "metadata": {
                "azdata_cell_guid": "3ddc5b3d-7337-48c9-81c8-cc2a7e246330",
                "language": "sql"
            },
            "outputs": [],
            "execution_count": null
        }
    ]
}